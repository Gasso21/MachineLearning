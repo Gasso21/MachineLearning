{
 "cells": [
  {
   "cell_type": "markdown",
   "id": "95c25e03",
   "metadata": {},
   "source": [
    "# Steel Plates Faults"
   ]
  },
  {
   "cell_type": "markdown",
   "id": "b8966bb4",
   "metadata": {},
   "source": [
    "## Modeling"
   ]
  },
  {
   "cell_type": "code",
   "execution_count": 1,
   "id": "cc485469",
   "metadata": {},
   "outputs": [
    {
     "name": "stdout",
     "output_type": "stream",
     "text": [
      "Once deleted, variables cannot be recovered. Proceed (y/[n])? y\n"
     ]
    }
   ],
   "source": [
    "%reset"
   ]
  },
  {
   "cell_type": "code",
   "execution_count": 2,
   "id": "b5593a89",
   "metadata": {},
   "outputs": [],
   "source": [
    "import pandas as pd\n",
    "import matplotlib.pyplot as plt\n",
    "%matplotlib inline\n",
    "%config InlineBackend.figure_format='retina'"
   ]
  },
  {
   "cell_type": "code",
   "execution_count": 6,
   "id": "dd986656",
   "metadata": {},
   "outputs": [
    {
     "data": {
      "text/html": [
       "<div>\n",
       "<style scoped>\n",
       "    .dataframe tbody tr th:only-of-type {\n",
       "        vertical-align: middle;\n",
       "    }\n",
       "\n",
       "    .dataframe tbody tr th {\n",
       "        vertical-align: top;\n",
       "    }\n",
       "\n",
       "    .dataframe thead th {\n",
       "        text-align: right;\n",
       "    }\n",
       "</style>\n",
       "<table border=\"1\" class=\"dataframe\">\n",
       "  <thead>\n",
       "    <tr style=\"text-align: right;\">\n",
       "      <th></th>\n",
       "      <th>X_Minimum</th>\n",
       "      <th>X_Maximum</th>\n",
       "      <th>Y_Minimum</th>\n",
       "      <th>Y_Maximum</th>\n",
       "      <th>Pixels_Areas</th>\n",
       "      <th>X_Perimeter</th>\n",
       "      <th>Y_Perimeter</th>\n",
       "      <th>Sum_of_Luminosity</th>\n",
       "      <th>Minimum_of_Luminosity</th>\n",
       "      <th>Maximum_of_Luminosity</th>\n",
       "      <th>Length_of_Conveyer</th>\n",
       "      <th>TypeOfSteel_A300</th>\n",
       "      <th>TypeOfSteel_A400</th>\n",
       "      <th>Steel_Plate_Thickness</th>\n",
       "      <th>Edges_Index</th>\n",
       "      <th>Empty_Index</th>\n",
       "      <th>Square_Index</th>\n",
       "      <th>Outside_X_Index</th>\n",
       "      <th>Edges_X_Index</th>\n",
       "      <th>Edges_Y_Index</th>\n",
       "      <th>Outside_Global_Index</th>\n",
       "      <th>LogOfAreas</th>\n",
       "      <th>Log_X_Index</th>\n",
       "      <th>Log_Y_Index</th>\n",
       "      <th>Orientation_Index</th>\n",
       "      <th>Luminosity_Index</th>\n",
       "      <th>SigmoidOfAreas</th>\n",
       "      <th>Pastry</th>\n",
       "      <th>Z_Scratch</th>\n",
       "      <th>K_Scatch</th>\n",
       "      <th>Stains</th>\n",
       "      <th>Dirtiness</th>\n",
       "      <th>Bumps</th>\n",
       "      <th>Other_Faults</th>\n",
       "      <th>class</th>\n",
       "    </tr>\n",
       "  </thead>\n",
       "  <tbody>\n",
       "    <tr>\n",
       "      <th>0</th>\n",
       "      <td>42</td>\n",
       "      <td>50</td>\n",
       "      <td>270900</td>\n",
       "      <td>270944</td>\n",
       "      <td>267</td>\n",
       "      <td>17</td>\n",
       "      <td>44</td>\n",
       "      <td>24220</td>\n",
       "      <td>76</td>\n",
       "      <td>108</td>\n",
       "      <td>1687</td>\n",
       "      <td>1</td>\n",
       "      <td>0</td>\n",
       "      <td>80</td>\n",
       "      <td>0.0498</td>\n",
       "      <td>0.2415</td>\n",
       "      <td>0.1818</td>\n",
       "      <td>0.0047</td>\n",
       "      <td>0.4706</td>\n",
       "      <td>1.0000</td>\n",
       "      <td>1.0</td>\n",
       "      <td>2.4265</td>\n",
       "      <td>0.9031</td>\n",
       "      <td>1.6435</td>\n",
       "      <td>0.8182</td>\n",
       "      <td>-0.2913</td>\n",
       "      <td>0.5822</td>\n",
       "      <td>1</td>\n",
       "      <td>0</td>\n",
       "      <td>0</td>\n",
       "      <td>0</td>\n",
       "      <td>0</td>\n",
       "      <td>0</td>\n",
       "      <td>0</td>\n",
       "      <td>Pastry</td>\n",
       "    </tr>\n",
       "    <tr>\n",
       "      <th>1</th>\n",
       "      <td>645</td>\n",
       "      <td>651</td>\n",
       "      <td>2538079</td>\n",
       "      <td>2538108</td>\n",
       "      <td>108</td>\n",
       "      <td>10</td>\n",
       "      <td>30</td>\n",
       "      <td>11397</td>\n",
       "      <td>84</td>\n",
       "      <td>123</td>\n",
       "      <td>1687</td>\n",
       "      <td>1</td>\n",
       "      <td>0</td>\n",
       "      <td>80</td>\n",
       "      <td>0.7647</td>\n",
       "      <td>0.3793</td>\n",
       "      <td>0.2069</td>\n",
       "      <td>0.0036</td>\n",
       "      <td>0.6000</td>\n",
       "      <td>0.9667</td>\n",
       "      <td>1.0</td>\n",
       "      <td>2.0334</td>\n",
       "      <td>0.7782</td>\n",
       "      <td>1.4624</td>\n",
       "      <td>0.7931</td>\n",
       "      <td>-0.1756</td>\n",
       "      <td>0.2984</td>\n",
       "      <td>1</td>\n",
       "      <td>0</td>\n",
       "      <td>0</td>\n",
       "      <td>0</td>\n",
       "      <td>0</td>\n",
       "      <td>0</td>\n",
       "      <td>0</td>\n",
       "      <td>Pastry</td>\n",
       "    </tr>\n",
       "    <tr>\n",
       "      <th>2</th>\n",
       "      <td>829</td>\n",
       "      <td>835</td>\n",
       "      <td>1553913</td>\n",
       "      <td>1553931</td>\n",
       "      <td>71</td>\n",
       "      <td>8</td>\n",
       "      <td>19</td>\n",
       "      <td>7972</td>\n",
       "      <td>99</td>\n",
       "      <td>125</td>\n",
       "      <td>1623</td>\n",
       "      <td>1</td>\n",
       "      <td>0</td>\n",
       "      <td>100</td>\n",
       "      <td>0.9710</td>\n",
       "      <td>0.3426</td>\n",
       "      <td>0.3333</td>\n",
       "      <td>0.0037</td>\n",
       "      <td>0.7500</td>\n",
       "      <td>0.9474</td>\n",
       "      <td>1.0</td>\n",
       "      <td>1.8513</td>\n",
       "      <td>0.7782</td>\n",
       "      <td>1.2553</td>\n",
       "      <td>0.6667</td>\n",
       "      <td>-0.1228</td>\n",
       "      <td>0.2150</td>\n",
       "      <td>1</td>\n",
       "      <td>0</td>\n",
       "      <td>0</td>\n",
       "      <td>0</td>\n",
       "      <td>0</td>\n",
       "      <td>0</td>\n",
       "      <td>0</td>\n",
       "      <td>Pastry</td>\n",
       "    </tr>\n",
       "    <tr>\n",
       "      <th>3</th>\n",
       "      <td>853</td>\n",
       "      <td>860</td>\n",
       "      <td>369370</td>\n",
       "      <td>369415</td>\n",
       "      <td>176</td>\n",
       "      <td>13</td>\n",
       "      <td>45</td>\n",
       "      <td>18996</td>\n",
       "      <td>99</td>\n",
       "      <td>126</td>\n",
       "      <td>1353</td>\n",
       "      <td>0</td>\n",
       "      <td>1</td>\n",
       "      <td>290</td>\n",
       "      <td>0.7287</td>\n",
       "      <td>0.4413</td>\n",
       "      <td>0.1556</td>\n",
       "      <td>0.0052</td>\n",
       "      <td>0.5385</td>\n",
       "      <td>1.0000</td>\n",
       "      <td>1.0</td>\n",
       "      <td>2.2455</td>\n",
       "      <td>0.8451</td>\n",
       "      <td>1.6532</td>\n",
       "      <td>0.8444</td>\n",
       "      <td>-0.1568</td>\n",
       "      <td>0.5212</td>\n",
       "      <td>1</td>\n",
       "      <td>0</td>\n",
       "      <td>0</td>\n",
       "      <td>0</td>\n",
       "      <td>0</td>\n",
       "      <td>0</td>\n",
       "      <td>0</td>\n",
       "      <td>Pastry</td>\n",
       "    </tr>\n",
       "    <tr>\n",
       "      <th>4</th>\n",
       "      <td>1289</td>\n",
       "      <td>1306</td>\n",
       "      <td>498078</td>\n",
       "      <td>498335</td>\n",
       "      <td>2409</td>\n",
       "      <td>60</td>\n",
       "      <td>260</td>\n",
       "      <td>246930</td>\n",
       "      <td>37</td>\n",
       "      <td>126</td>\n",
       "      <td>1353</td>\n",
       "      <td>0</td>\n",
       "      <td>1</td>\n",
       "      <td>185</td>\n",
       "      <td>0.0695</td>\n",
       "      <td>0.4486</td>\n",
       "      <td>0.0662</td>\n",
       "      <td>0.0126</td>\n",
       "      <td>0.2833</td>\n",
       "      <td>0.9885</td>\n",
       "      <td>1.0</td>\n",
       "      <td>3.3818</td>\n",
       "      <td>1.2305</td>\n",
       "      <td>2.4099</td>\n",
       "      <td>0.9338</td>\n",
       "      <td>-0.1992</td>\n",
       "      <td>1.0000</td>\n",
       "      <td>1</td>\n",
       "      <td>0</td>\n",
       "      <td>0</td>\n",
       "      <td>0</td>\n",
       "      <td>0</td>\n",
       "      <td>0</td>\n",
       "      <td>0</td>\n",
       "      <td>Pastry</td>\n",
       "    </tr>\n",
       "    <tr>\n",
       "      <th>...</th>\n",
       "      <td>...</td>\n",
       "      <td>...</td>\n",
       "      <td>...</td>\n",
       "      <td>...</td>\n",
       "      <td>...</td>\n",
       "      <td>...</td>\n",
       "      <td>...</td>\n",
       "      <td>...</td>\n",
       "      <td>...</td>\n",
       "      <td>...</td>\n",
       "      <td>...</td>\n",
       "      <td>...</td>\n",
       "      <td>...</td>\n",
       "      <td>...</td>\n",
       "      <td>...</td>\n",
       "      <td>...</td>\n",
       "      <td>...</td>\n",
       "      <td>...</td>\n",
       "      <td>...</td>\n",
       "      <td>...</td>\n",
       "      <td>...</td>\n",
       "      <td>...</td>\n",
       "      <td>...</td>\n",
       "      <td>...</td>\n",
       "      <td>...</td>\n",
       "      <td>...</td>\n",
       "      <td>...</td>\n",
       "      <td>...</td>\n",
       "      <td>...</td>\n",
       "      <td>...</td>\n",
       "      <td>...</td>\n",
       "      <td>...</td>\n",
       "      <td>...</td>\n",
       "      <td>...</td>\n",
       "      <td>...</td>\n",
       "    </tr>\n",
       "    <tr>\n",
       "      <th>1936</th>\n",
       "      <td>249</td>\n",
       "      <td>277</td>\n",
       "      <td>325780</td>\n",
       "      <td>325796</td>\n",
       "      <td>273</td>\n",
       "      <td>54</td>\n",
       "      <td>22</td>\n",
       "      <td>35033</td>\n",
       "      <td>119</td>\n",
       "      <td>141</td>\n",
       "      <td>1360</td>\n",
       "      <td>0</td>\n",
       "      <td>1</td>\n",
       "      <td>40</td>\n",
       "      <td>0.3662</td>\n",
       "      <td>0.3906</td>\n",
       "      <td>0.5714</td>\n",
       "      <td>0.0206</td>\n",
       "      <td>0.5185</td>\n",
       "      <td>0.7273</td>\n",
       "      <td>0.0</td>\n",
       "      <td>2.4362</td>\n",
       "      <td>1.4472</td>\n",
       "      <td>1.2041</td>\n",
       "      <td>-0.4286</td>\n",
       "      <td>0.0026</td>\n",
       "      <td>0.7254</td>\n",
       "      <td>0</td>\n",
       "      <td>0</td>\n",
       "      <td>0</td>\n",
       "      <td>0</td>\n",
       "      <td>0</td>\n",
       "      <td>0</td>\n",
       "      <td>1</td>\n",
       "      <td>Other_Faults</td>\n",
       "    </tr>\n",
       "    <tr>\n",
       "      <th>1937</th>\n",
       "      <td>144</td>\n",
       "      <td>175</td>\n",
       "      <td>340581</td>\n",
       "      <td>340598</td>\n",
       "      <td>287</td>\n",
       "      <td>44</td>\n",
       "      <td>24</td>\n",
       "      <td>34599</td>\n",
       "      <td>112</td>\n",
       "      <td>133</td>\n",
       "      <td>1360</td>\n",
       "      <td>0</td>\n",
       "      <td>1</td>\n",
       "      <td>40</td>\n",
       "      <td>0.2118</td>\n",
       "      <td>0.4554</td>\n",
       "      <td>0.5484</td>\n",
       "      <td>0.0228</td>\n",
       "      <td>0.7046</td>\n",
       "      <td>0.7083</td>\n",
       "      <td>0.0</td>\n",
       "      <td>2.4579</td>\n",
       "      <td>1.4914</td>\n",
       "      <td>1.2305</td>\n",
       "      <td>-0.4516</td>\n",
       "      <td>-0.0582</td>\n",
       "      <td>0.8173</td>\n",
       "      <td>0</td>\n",
       "      <td>0</td>\n",
       "      <td>0</td>\n",
       "      <td>0</td>\n",
       "      <td>0</td>\n",
       "      <td>0</td>\n",
       "      <td>1</td>\n",
       "      <td>Other_Faults</td>\n",
       "    </tr>\n",
       "    <tr>\n",
       "      <th>1938</th>\n",
       "      <td>145</td>\n",
       "      <td>174</td>\n",
       "      <td>386779</td>\n",
       "      <td>386794</td>\n",
       "      <td>292</td>\n",
       "      <td>40</td>\n",
       "      <td>22</td>\n",
       "      <td>37572</td>\n",
       "      <td>120</td>\n",
       "      <td>140</td>\n",
       "      <td>1360</td>\n",
       "      <td>0</td>\n",
       "      <td>1</td>\n",
       "      <td>40</td>\n",
       "      <td>0.2132</td>\n",
       "      <td>0.3287</td>\n",
       "      <td>0.5172</td>\n",
       "      <td>0.0213</td>\n",
       "      <td>0.7250</td>\n",
       "      <td>0.6818</td>\n",
       "      <td>0.0</td>\n",
       "      <td>2.4654</td>\n",
       "      <td>1.4624</td>\n",
       "      <td>1.1761</td>\n",
       "      <td>-0.4828</td>\n",
       "      <td>0.0052</td>\n",
       "      <td>0.7079</td>\n",
       "      <td>0</td>\n",
       "      <td>0</td>\n",
       "      <td>0</td>\n",
       "      <td>0</td>\n",
       "      <td>0</td>\n",
       "      <td>0</td>\n",
       "      <td>1</td>\n",
       "      <td>Other_Faults</td>\n",
       "    </tr>\n",
       "    <tr>\n",
       "      <th>1939</th>\n",
       "      <td>137</td>\n",
       "      <td>170</td>\n",
       "      <td>422497</td>\n",
       "      <td>422528</td>\n",
       "      <td>419</td>\n",
       "      <td>97</td>\n",
       "      <td>47</td>\n",
       "      <td>52715</td>\n",
       "      <td>117</td>\n",
       "      <td>140</td>\n",
       "      <td>1360</td>\n",
       "      <td>0</td>\n",
       "      <td>1</td>\n",
       "      <td>40</td>\n",
       "      <td>0.2015</td>\n",
       "      <td>0.5904</td>\n",
       "      <td>0.9394</td>\n",
       "      <td>0.0243</td>\n",
       "      <td>0.3402</td>\n",
       "      <td>0.6596</td>\n",
       "      <td>0.0</td>\n",
       "      <td>2.6222</td>\n",
       "      <td>1.5185</td>\n",
       "      <td>1.4914</td>\n",
       "      <td>-0.0606</td>\n",
       "      <td>-0.0171</td>\n",
       "      <td>0.9919</td>\n",
       "      <td>0</td>\n",
       "      <td>0</td>\n",
       "      <td>0</td>\n",
       "      <td>0</td>\n",
       "      <td>0</td>\n",
       "      <td>0</td>\n",
       "      <td>1</td>\n",
       "      <td>Other_Faults</td>\n",
       "    </tr>\n",
       "    <tr>\n",
       "      <th>1940</th>\n",
       "      <td>1261</td>\n",
       "      <td>1281</td>\n",
       "      <td>87951</td>\n",
       "      <td>87967</td>\n",
       "      <td>103</td>\n",
       "      <td>26</td>\n",
       "      <td>22</td>\n",
       "      <td>11682</td>\n",
       "      <td>101</td>\n",
       "      <td>133</td>\n",
       "      <td>1360</td>\n",
       "      <td>1</td>\n",
       "      <td>0</td>\n",
       "      <td>80</td>\n",
       "      <td>0.1162</td>\n",
       "      <td>0.6781</td>\n",
       "      <td>0.8000</td>\n",
       "      <td>0.0147</td>\n",
       "      <td>0.7692</td>\n",
       "      <td>0.7273</td>\n",
       "      <td>0.0</td>\n",
       "      <td>2.0128</td>\n",
       "      <td>1.3010</td>\n",
       "      <td>1.2041</td>\n",
       "      <td>-0.2000</td>\n",
       "      <td>-0.1139</td>\n",
       "      <td>0.5296</td>\n",
       "      <td>0</td>\n",
       "      <td>0</td>\n",
       "      <td>0</td>\n",
       "      <td>0</td>\n",
       "      <td>0</td>\n",
       "      <td>0</td>\n",
       "      <td>1</td>\n",
       "      <td>Other_Faults</td>\n",
       "    </tr>\n",
       "  </tbody>\n",
       "</table>\n",
       "<p>1941 rows × 35 columns</p>\n",
       "</div>"
      ],
      "text/plain": [
       "      X_Minimum  X_Maximum  Y_Minimum  Y_Maximum  Pixels_Areas  X_Perimeter  \\\n",
       "0            42         50     270900     270944           267           17   \n",
       "1           645        651    2538079    2538108           108           10   \n",
       "2           829        835    1553913    1553931            71            8   \n",
       "3           853        860     369370     369415           176           13   \n",
       "4          1289       1306     498078     498335          2409           60   \n",
       "...         ...        ...        ...        ...           ...          ...   \n",
       "1936        249        277     325780     325796           273           54   \n",
       "1937        144        175     340581     340598           287           44   \n",
       "1938        145        174     386779     386794           292           40   \n",
       "1939        137        170     422497     422528           419           97   \n",
       "1940       1261       1281      87951      87967           103           26   \n",
       "\n",
       "      Y_Perimeter  Sum_of_Luminosity  Minimum_of_Luminosity  \\\n",
       "0              44              24220                     76   \n",
       "1              30              11397                     84   \n",
       "2              19               7972                     99   \n",
       "3              45              18996                     99   \n",
       "4             260             246930                     37   \n",
       "...           ...                ...                    ...   \n",
       "1936           22              35033                    119   \n",
       "1937           24              34599                    112   \n",
       "1938           22              37572                    120   \n",
       "1939           47              52715                    117   \n",
       "1940           22              11682                    101   \n",
       "\n",
       "      Maximum_of_Luminosity  Length_of_Conveyer  TypeOfSteel_A300  \\\n",
       "0                       108                1687                 1   \n",
       "1                       123                1687                 1   \n",
       "2                       125                1623                 1   \n",
       "3                       126                1353                 0   \n",
       "4                       126                1353                 0   \n",
       "...                     ...                 ...               ...   \n",
       "1936                    141                1360                 0   \n",
       "1937                    133                1360                 0   \n",
       "1938                    140                1360                 0   \n",
       "1939                    140                1360                 0   \n",
       "1940                    133                1360                 1   \n",
       "\n",
       "      TypeOfSteel_A400  Steel_Plate_Thickness  Edges_Index  Empty_Index  \\\n",
       "0                    0                     80       0.0498       0.2415   \n",
       "1                    0                     80       0.7647       0.3793   \n",
       "2                    0                    100       0.9710       0.3426   \n",
       "3                    1                    290       0.7287       0.4413   \n",
       "4                    1                    185       0.0695       0.4486   \n",
       "...                ...                    ...          ...          ...   \n",
       "1936                 1                     40       0.3662       0.3906   \n",
       "1937                 1                     40       0.2118       0.4554   \n",
       "1938                 1                     40       0.2132       0.3287   \n",
       "1939                 1                     40       0.2015       0.5904   \n",
       "1940                 0                     80       0.1162       0.6781   \n",
       "\n",
       "      Square_Index  Outside_X_Index  Edges_X_Index  Edges_Y_Index  \\\n",
       "0           0.1818           0.0047         0.4706         1.0000   \n",
       "1           0.2069           0.0036         0.6000         0.9667   \n",
       "2           0.3333           0.0037         0.7500         0.9474   \n",
       "3           0.1556           0.0052         0.5385         1.0000   \n",
       "4           0.0662           0.0126         0.2833         0.9885   \n",
       "...            ...              ...            ...            ...   \n",
       "1936        0.5714           0.0206         0.5185         0.7273   \n",
       "1937        0.5484           0.0228         0.7046         0.7083   \n",
       "1938        0.5172           0.0213         0.7250         0.6818   \n",
       "1939        0.9394           0.0243         0.3402         0.6596   \n",
       "1940        0.8000           0.0147         0.7692         0.7273   \n",
       "\n",
       "      Outside_Global_Index  LogOfAreas  Log_X_Index  Log_Y_Index  \\\n",
       "0                      1.0      2.4265       0.9031       1.6435   \n",
       "1                      1.0      2.0334       0.7782       1.4624   \n",
       "2                      1.0      1.8513       0.7782       1.2553   \n",
       "3                      1.0      2.2455       0.8451       1.6532   \n",
       "4                      1.0      3.3818       1.2305       2.4099   \n",
       "...                    ...         ...          ...          ...   \n",
       "1936                   0.0      2.4362       1.4472       1.2041   \n",
       "1937                   0.0      2.4579       1.4914       1.2305   \n",
       "1938                   0.0      2.4654       1.4624       1.1761   \n",
       "1939                   0.0      2.6222       1.5185       1.4914   \n",
       "1940                   0.0      2.0128       1.3010       1.2041   \n",
       "\n",
       "      Orientation_Index  Luminosity_Index  SigmoidOfAreas  Pastry  Z_Scratch  \\\n",
       "0                0.8182           -0.2913          0.5822       1          0   \n",
       "1                0.7931           -0.1756          0.2984       1          0   \n",
       "2                0.6667           -0.1228          0.2150       1          0   \n",
       "3                0.8444           -0.1568          0.5212       1          0   \n",
       "4                0.9338           -0.1992          1.0000       1          0   \n",
       "...                 ...               ...             ...     ...        ...   \n",
       "1936            -0.4286            0.0026          0.7254       0          0   \n",
       "1937            -0.4516           -0.0582          0.8173       0          0   \n",
       "1938            -0.4828            0.0052          0.7079       0          0   \n",
       "1939            -0.0606           -0.0171          0.9919       0          0   \n",
       "1940            -0.2000           -0.1139          0.5296       0          0   \n",
       "\n",
       "      K_Scatch  Stains  Dirtiness  Bumps  Other_Faults         class  \n",
       "0            0       0          0      0             0        Pastry  \n",
       "1            0       0          0      0             0        Pastry  \n",
       "2            0       0          0      0             0        Pastry  \n",
       "3            0       0          0      0             0        Pastry  \n",
       "4            0       0          0      0             0        Pastry  \n",
       "...        ...     ...        ...    ...           ...           ...  \n",
       "1936         0       0          0      0             1  Other_Faults  \n",
       "1937         0       0          0      0             1  Other_Faults  \n",
       "1938         0       0          0      0             1  Other_Faults  \n",
       "1939         0       0          0      0             1  Other_Faults  \n",
       "1940         0       0          0      0             1  Other_Faults  \n",
       "\n",
       "[1941 rows x 35 columns]"
      ]
     },
     "execution_count": 6,
     "metadata": {},
     "output_type": "execute_result"
    }
   ],
   "source": [
    "pd.set_option('display.max_columns', None)\n",
    "df = pd.read_csv('Faults.csv', index_col=0)\n",
    "df"
   ]
  },
  {
   "cell_type": "code",
   "execution_count": 7,
   "id": "fab133d0",
   "metadata": {},
   "outputs": [
    {
     "data": {
      "text/plain": [
       "Index(['X_Minimum', 'X_Maximum', 'Y_Minimum', 'Y_Maximum', 'Pixels_Areas',\n",
       "       'X_Perimeter', 'Y_Perimeter', 'Sum_of_Luminosity',\n",
       "       'Minimum_of_Luminosity', 'Maximum_of_Luminosity', 'Length_of_Conveyer',\n",
       "       'TypeOfSteel_A300', 'TypeOfSteel_A400', 'Steel_Plate_Thickness',\n",
       "       'Edges_Index', 'Empty_Index', 'Square_Index', 'Outside_X_Index',\n",
       "       'Edges_X_Index', 'Edges_Y_Index', 'Outside_Global_Index', 'LogOfAreas',\n",
       "       'Log_X_Index', 'Log_Y_Index', 'Orientation_Index', 'Luminosity_Index',\n",
       "       'SigmoidOfAreas', 'Pastry', 'Z_Scratch', 'K_Scatch', 'Stains',\n",
       "       'Dirtiness', 'Bumps', 'Other_Faults', 'class'],\n",
       "      dtype='object')"
      ]
     },
     "execution_count": 7,
     "metadata": {},
     "output_type": "execute_result"
    }
   ],
   "source": [
    "df.columns"
   ]
  },
  {
   "cell_type": "code",
   "execution_count": 9,
   "id": "a49a0553",
   "metadata": {},
   "outputs": [],
   "source": [
    "x = df[[i for i in df.columns if i not in ['Pastry', 'Z_Scratch', 'K_Scatch', 'Stains',\n",
    "       'Dirtiness', 'Bumps', 'Other_Faults', 'class']]]\n",
    "y = df['K_Scatch']"
   ]
  },
  {
   "cell_type": "code",
   "execution_count": 13,
   "id": "a1129ec1",
   "metadata": {},
   "outputs": [],
   "source": [
    "from sklearn.model_selection import train_test_split\n",
    "from scipy.stats import zscore"
   ]
  },
  {
   "cell_type": "markdown",
   "id": "0dfd1d24",
   "metadata": {},
   "source": [
    "**Z-Score**\n",
    "$\\text{표준편차를 단위로 봤을 때 측정치가 평균에서 얼마만큼 일탈하였는가를 확인} \\\\\n",
    "\\text{각 데이터의 단위가 다르더라도 동일선상에서 얼마만큼 평균에서 떨어져있는지를 같은 Z-score 기준으로 확인가능}\\\\\n",
    "\\rightarrow z = \\cfrac{\\text{score}-\\text{mean}}{\\text{standard deviation}} = \\cfrac{x-\\text{mean}}{\\text{standard deviation}}$"
   ]
  },
  {
   "cell_type": "code",
   "execution_count": 14,
   "id": "992151fa",
   "metadata": {},
   "outputs": [],
   "source": [
    "x_train, x_test, y_train, y_test = train_test_split(x, y, test_size=0.2, random_state=1, stratify=y) \n",
    "#stratify=y: y값의 비율을 유지한체 split"
   ]
  },
  {
   "cell_type": "code",
   "execution_count": 15,
   "id": "ec349240",
   "metadata": {},
   "outputs": [],
   "source": [
    "x_train = x_train.apply(zscore)\n",
    "x_test = x_test.apply(zscore)"
   ]
  },
  {
   "cell_type": "code",
   "execution_count": 17,
   "id": "d04bbe26",
   "metadata": {},
   "outputs": [
    {
     "data": {
      "text/html": [
       "<div>\n",
       "<style scoped>\n",
       "    .dataframe tbody tr th:only-of-type {\n",
       "        vertical-align: middle;\n",
       "    }\n",
       "\n",
       "    .dataframe tbody tr th {\n",
       "        vertical-align: top;\n",
       "    }\n",
       "\n",
       "    .dataframe thead th {\n",
       "        text-align: right;\n",
       "    }\n",
       "</style>\n",
       "<table border=\"1\" class=\"dataframe\">\n",
       "  <thead>\n",
       "    <tr style=\"text-align: right;\">\n",
       "      <th></th>\n",
       "      <th>count</th>\n",
       "      <th>mean</th>\n",
       "      <th>std</th>\n",
       "      <th>min</th>\n",
       "      <th>25%</th>\n",
       "      <th>50%</th>\n",
       "      <th>75%</th>\n",
       "      <th>max</th>\n",
       "    </tr>\n",
       "  </thead>\n",
       "  <tbody>\n",
       "    <tr>\n",
       "      <th>X_Minimum</th>\n",
       "      <td>1552.0</td>\n",
       "      <td>-1.075886e-16</td>\n",
       "      <td>1.000322</td>\n",
       "      <td>-1.103367</td>\n",
       "      <td>-0.988300</td>\n",
       "      <td>-0.263718</td>\n",
       "      <td>0.930759</td>\n",
       "      <td>2.180122</td>\n",
       "    </tr>\n",
       "    <tr>\n",
       "      <th>X_Maximum</th>\n",
       "      <td>1552.0</td>\n",
       "      <td>-2.632488e-17</td>\n",
       "      <td>1.000322</td>\n",
       "      <td>-1.241076</td>\n",
       "      <td>-0.862182</td>\n",
       "      <td>-0.298879</td>\n",
       "      <td>0.919929</td>\n",
       "      <td>2.203231</td>\n",
       "    </tr>\n",
       "    <tr>\n",
       "      <th>Y_Minimum</th>\n",
       "      <td>1552.0</td>\n",
       "      <td>-4.578239e-17</td>\n",
       "      <td>1.000322</td>\n",
       "      <td>-0.910461</td>\n",
       "      <td>-0.656236</td>\n",
       "      <td>-0.254588</td>\n",
       "      <td>0.291947</td>\n",
       "      <td>6.155444</td>\n",
       "    </tr>\n",
       "    <tr>\n",
       "      <th>Y_Maximum</th>\n",
       "      <td>1552.0</td>\n",
       "      <td>-2.174664e-17</td>\n",
       "      <td>1.000322</td>\n",
       "      <td>-0.910479</td>\n",
       "      <td>-0.656237</td>\n",
       "      <td>-0.254611</td>\n",
       "      <td>0.291929</td>\n",
       "      <td>6.155404</td>\n",
       "    </tr>\n",
       "    <tr>\n",
       "      <th>Pixels_Areas</th>\n",
       "      <td>1552.0</td>\n",
       "      <td>6.867359e-18</td>\n",
       "      <td>1.000322</td>\n",
       "      <td>-0.348379</td>\n",
       "      <td>-0.333373</td>\n",
       "      <td>-0.317177</td>\n",
       "      <td>-0.202754</td>\n",
       "      <td>27.587790</td>\n",
       "    </tr>\n",
       "    <tr>\n",
       "      <th>X_Perimeter</th>\n",
       "      <td>1552.0</td>\n",
       "      <td>-2.289120e-17</td>\n",
       "      <td>1.000322</td>\n",
       "      <td>-0.340637</td>\n",
       "      <td>-0.300483</td>\n",
       "      <td>-0.266507</td>\n",
       "      <td>-0.089676</td>\n",
       "      <td>31.927625</td>\n",
       "    </tr>\n",
       "    <tr>\n",
       "      <th>Y_Perimeter</th>\n",
       "      <td>1552.0</td>\n",
       "      <td>-2.289120e-18</td>\n",
       "      <td>1.000322</td>\n",
       "      <td>-0.176760</td>\n",
       "      <td>-0.151408</td>\n",
       "      <td>-0.126055</td>\n",
       "      <td>-0.011440</td>\n",
       "      <td>38.171156</td>\n",
       "    </tr>\n",
       "    <tr>\n",
       "      <th>Sum_of_Luminosity</th>\n",
       "      <td>1552.0</td>\n",
       "      <td>-2.289120e-18</td>\n",
       "      <td>1.000322</td>\n",
       "      <td>-0.389352</td>\n",
       "      <td>-0.371952</td>\n",
       "      <td>-0.353850</td>\n",
       "      <td>-0.234374</td>\n",
       "      <td>21.405598</td>\n",
       "    </tr>\n",
       "    <tr>\n",
       "      <th>Minimum_of_Luminosity</th>\n",
       "      <td>1552.0</td>\n",
       "      <td>2.266228e-16</td>\n",
       "      <td>1.000322</td>\n",
       "      <td>-2.643140</td>\n",
       "      <td>-0.655452</td>\n",
       "      <td>0.167575</td>\n",
       "      <td>0.656733</td>\n",
       "      <td>3.661558</td>\n",
       "    </tr>\n",
       "    <tr>\n",
       "      <th>Maximum_of_Luminosity</th>\n",
       "      <td>1552.0</td>\n",
       "      <td>-6.764349e-16</td>\n",
       "      <td>1.000322</td>\n",
       "      <td>-5.071400</td>\n",
       "      <td>-0.348065</td>\n",
       "      <td>-0.185192</td>\n",
       "      <td>0.520594</td>\n",
       "      <td>6.601209</td>\n",
       "    </tr>\n",
       "    <tr>\n",
       "      <th>Length_of_Conveyer</th>\n",
       "      <td>1552.0</td>\n",
       "      <td>5.894483e-16</td>\n",
       "      <td>1.000322</td>\n",
       "      <td>-1.605681</td>\n",
       "      <td>-0.702199</td>\n",
       "      <td>-0.660818</td>\n",
       "      <td>1.311669</td>\n",
       "      <td>2.304809</td>\n",
       "    </tr>\n",
       "    <tr>\n",
       "      <th>TypeOfSteel_A300</th>\n",
       "      <td>1552.0</td>\n",
       "      <td>0.000000e+00</td>\n",
       "      <td>1.000322</td>\n",
       "      <td>-0.821108</td>\n",
       "      <td>-0.821108</td>\n",
       "      <td>-0.821108</td>\n",
       "      <td>1.217867</td>\n",
       "      <td>1.217867</td>\n",
       "    </tr>\n",
       "    <tr>\n",
       "      <th>TypeOfSteel_A400</th>\n",
       "      <td>1552.0</td>\n",
       "      <td>0.000000e+00</td>\n",
       "      <td>1.000322</td>\n",
       "      <td>-1.217867</td>\n",
       "      <td>-1.217867</td>\n",
       "      <td>0.821108</td>\n",
       "      <td>0.821108</td>\n",
       "      <td>0.821108</td>\n",
       "    </tr>\n",
       "    <tr>\n",
       "      <th>Steel_Plate_Thickness</th>\n",
       "      <td>1552.0</td>\n",
       "      <td>5.493887e-17</td>\n",
       "      <td>1.000322</td>\n",
       "      <td>-0.696760</td>\n",
       "      <td>-0.696760</td>\n",
       "      <td>-0.141384</td>\n",
       "      <td>0.043741</td>\n",
       "      <td>4.116492</td>\n",
       "    </tr>\n",
       "    <tr>\n",
       "      <th>Edges_Index</th>\n",
       "      <td>1552.0</td>\n",
       "      <td>7.325183e-17</td>\n",
       "      <td>1.000322</td>\n",
       "      <td>-1.123421</td>\n",
       "      <td>-0.921048</td>\n",
       "      <td>-0.349279</td>\n",
       "      <td>0.828435</td>\n",
       "      <td>2.211034</td>\n",
       "    </tr>\n",
       "    <tr>\n",
       "      <th>Empty_Index</th>\n",
       "      <td>1552.0</td>\n",
       "      <td>-1.373472e-16</td>\n",
       "      <td>1.000322</td>\n",
       "      <td>-3.018160</td>\n",
       "      <td>-0.716872</td>\n",
       "      <td>-0.019817</td>\n",
       "      <td>0.659515</td>\n",
       "      <td>3.880404</td>\n",
       "    </tr>\n",
       "    <tr>\n",
       "      <th>Square_Index</th>\n",
       "      <td>1552.0</td>\n",
       "      <td>4.349327e-17</td>\n",
       "      <td>1.000322</td>\n",
       "      <td>-2.080335</td>\n",
       "      <td>-0.774974</td>\n",
       "      <td>-0.024933</td>\n",
       "      <td>0.938381</td>\n",
       "      <td>1.563140</td>\n",
       "    </tr>\n",
       "    <tr>\n",
       "      <th>Outside_X_Index</th>\n",
       "      <td>1552.0</td>\n",
       "      <td>-4.177643e-17</td>\n",
       "      <td>1.000322</td>\n",
       "      <td>-0.528910</td>\n",
       "      <td>-0.444317</td>\n",
       "      <td>-0.387092</td>\n",
       "      <td>-0.162340</td>\n",
       "      <td>13.974655</td>\n",
       "    </tr>\n",
       "    <tr>\n",
       "      <th>Edges_X_Index</th>\n",
       "      <td>1552.0</td>\n",
       "      <td>8.469743e-17</td>\n",
       "      <td>1.000322</td>\n",
       "      <td>-2.468152</td>\n",
       "      <td>-0.798212</td>\n",
       "      <td>0.100607</td>\n",
       "      <td>0.757579</td>\n",
       "      <td>1.578793</td>\n",
       "    </tr>\n",
       "    <tr>\n",
       "      <th>Edges_Y_Index</th>\n",
       "      <td>1552.0</td>\n",
       "      <td>-1.682503e-16</td>\n",
       "      <td>1.000322</td>\n",
       "      <td>-3.280170</td>\n",
       "      <td>-0.925077</td>\n",
       "      <td>0.582495</td>\n",
       "      <td>0.785883</td>\n",
       "      <td>0.785883</td>\n",
       "    </tr>\n",
       "    <tr>\n",
       "      <th>Outside_Global_Index</th>\n",
       "      <td>1552.0</td>\n",
       "      <td>1.831296e-17</td>\n",
       "      <td>1.000322</td>\n",
       "      <td>-1.185811</td>\n",
       "      <td>-1.185811</td>\n",
       "      <td>0.891366</td>\n",
       "      <td>0.891366</td>\n",
       "      <td>0.891366</td>\n",
       "    </tr>\n",
       "    <tr>\n",
       "      <th>LogOfAreas</th>\n",
       "      <td>1552.0</td>\n",
       "      <td>2.666824e-16</td>\n",
       "      <td>1.000322</td>\n",
       "      <td>-2.774003</td>\n",
       "      <td>-0.714669</td>\n",
       "      <td>-0.318292</td>\n",
       "      <td>0.525492</td>\n",
       "      <td>3.420237</td>\n",
       "    </tr>\n",
       "    <tr>\n",
       "      <th>Log_X_Index</th>\n",
       "      <td>1552.0</td>\n",
       "      <td>6.352307e-17</td>\n",
       "      <td>1.000322</td>\n",
       "      <td>-2.156377</td>\n",
       "      <td>-0.698500</td>\n",
       "      <td>-0.331216</td>\n",
       "      <td>0.382914</td>\n",
       "      <td>3.627366</td>\n",
       "    </tr>\n",
       "    <tr>\n",
       "      <th>Log_Y_Index</th>\n",
       "      <td>1552.0</td>\n",
       "      <td>6.867359e-18</td>\n",
       "      <td>1.000322</td>\n",
       "      <td>-3.067242</td>\n",
       "      <td>-0.699932</td>\n",
       "      <td>-0.166892</td>\n",
       "      <td>0.732914</td>\n",
       "      <td>6.274553</td>\n",
       "    </tr>\n",
       "    <tr>\n",
       "      <th>Orientation_Index</th>\n",
       "      <td>1552.0</td>\n",
       "      <td>3.891503e-17</td>\n",
       "      <td>1.000322</td>\n",
       "      <td>-2.143465</td>\n",
       "      <td>-0.825285</td>\n",
       "      <td>0.024907</td>\n",
       "      <td>0.844836</td>\n",
       "      <td>1.830314</td>\n",
       "    </tr>\n",
       "    <tr>\n",
       "      <th>Luminosity_Index</th>\n",
       "      <td>1552.0</td>\n",
       "      <td>4.349327e-17</td>\n",
       "      <td>1.000322</td>\n",
       "      <td>-5.839974</td>\n",
       "      <td>-0.436161</td>\n",
       "      <td>-0.013251</td>\n",
       "      <td>0.432492</td>\n",
       "      <td>5.180199</td>\n",
       "    </tr>\n",
       "    <tr>\n",
       "      <th>SigmoidOfAreas</th>\n",
       "      <td>1552.0</td>\n",
       "      <td>1.133114e-16</td>\n",
       "      <td>1.000322</td>\n",
       "      <td>-1.367353</td>\n",
       "      <td>-0.997842</td>\n",
       "      <td>-0.244391</td>\n",
       "      <td>1.226000</td>\n",
       "      <td>1.226589</td>\n",
       "    </tr>\n",
       "  </tbody>\n",
       "</table>\n",
       "</div>"
      ],
      "text/plain": [
       "                        count          mean       std       min       25%  \\\n",
       "X_Minimum              1552.0 -1.075886e-16  1.000322 -1.103367 -0.988300   \n",
       "X_Maximum              1552.0 -2.632488e-17  1.000322 -1.241076 -0.862182   \n",
       "Y_Minimum              1552.0 -4.578239e-17  1.000322 -0.910461 -0.656236   \n",
       "Y_Maximum              1552.0 -2.174664e-17  1.000322 -0.910479 -0.656237   \n",
       "Pixels_Areas           1552.0  6.867359e-18  1.000322 -0.348379 -0.333373   \n",
       "X_Perimeter            1552.0 -2.289120e-17  1.000322 -0.340637 -0.300483   \n",
       "Y_Perimeter            1552.0 -2.289120e-18  1.000322 -0.176760 -0.151408   \n",
       "Sum_of_Luminosity      1552.0 -2.289120e-18  1.000322 -0.389352 -0.371952   \n",
       "Minimum_of_Luminosity  1552.0  2.266228e-16  1.000322 -2.643140 -0.655452   \n",
       "Maximum_of_Luminosity  1552.0 -6.764349e-16  1.000322 -5.071400 -0.348065   \n",
       "Length_of_Conveyer     1552.0  5.894483e-16  1.000322 -1.605681 -0.702199   \n",
       "TypeOfSteel_A300       1552.0  0.000000e+00  1.000322 -0.821108 -0.821108   \n",
       "TypeOfSteel_A400       1552.0  0.000000e+00  1.000322 -1.217867 -1.217867   \n",
       "Steel_Plate_Thickness  1552.0  5.493887e-17  1.000322 -0.696760 -0.696760   \n",
       "Edges_Index            1552.0  7.325183e-17  1.000322 -1.123421 -0.921048   \n",
       "Empty_Index            1552.0 -1.373472e-16  1.000322 -3.018160 -0.716872   \n",
       "Square_Index           1552.0  4.349327e-17  1.000322 -2.080335 -0.774974   \n",
       "Outside_X_Index        1552.0 -4.177643e-17  1.000322 -0.528910 -0.444317   \n",
       "Edges_X_Index          1552.0  8.469743e-17  1.000322 -2.468152 -0.798212   \n",
       "Edges_Y_Index          1552.0 -1.682503e-16  1.000322 -3.280170 -0.925077   \n",
       "Outside_Global_Index   1552.0  1.831296e-17  1.000322 -1.185811 -1.185811   \n",
       "LogOfAreas             1552.0  2.666824e-16  1.000322 -2.774003 -0.714669   \n",
       "Log_X_Index            1552.0  6.352307e-17  1.000322 -2.156377 -0.698500   \n",
       "Log_Y_Index            1552.0  6.867359e-18  1.000322 -3.067242 -0.699932   \n",
       "Orientation_Index      1552.0  3.891503e-17  1.000322 -2.143465 -0.825285   \n",
       "Luminosity_Index       1552.0  4.349327e-17  1.000322 -5.839974 -0.436161   \n",
       "SigmoidOfAreas         1552.0  1.133114e-16  1.000322 -1.367353 -0.997842   \n",
       "\n",
       "                            50%       75%        max  \n",
       "X_Minimum             -0.263718  0.930759   2.180122  \n",
       "X_Maximum             -0.298879  0.919929   2.203231  \n",
       "Y_Minimum             -0.254588  0.291947   6.155444  \n",
       "Y_Maximum             -0.254611  0.291929   6.155404  \n",
       "Pixels_Areas          -0.317177 -0.202754  27.587790  \n",
       "X_Perimeter           -0.266507 -0.089676  31.927625  \n",
       "Y_Perimeter           -0.126055 -0.011440  38.171156  \n",
       "Sum_of_Luminosity     -0.353850 -0.234374  21.405598  \n",
       "Minimum_of_Luminosity  0.167575  0.656733   3.661558  \n",
       "Maximum_of_Luminosity -0.185192  0.520594   6.601209  \n",
       "Length_of_Conveyer    -0.660818  1.311669   2.304809  \n",
       "TypeOfSteel_A300      -0.821108  1.217867   1.217867  \n",
       "TypeOfSteel_A400       0.821108  0.821108   0.821108  \n",
       "Steel_Plate_Thickness -0.141384  0.043741   4.116492  \n",
       "Edges_Index           -0.349279  0.828435   2.211034  \n",
       "Empty_Index           -0.019817  0.659515   3.880404  \n",
       "Square_Index          -0.024933  0.938381   1.563140  \n",
       "Outside_X_Index       -0.387092 -0.162340  13.974655  \n",
       "Edges_X_Index          0.100607  0.757579   1.578793  \n",
       "Edges_Y_Index          0.582495  0.785883   0.785883  \n",
       "Outside_Global_Index   0.891366  0.891366   0.891366  \n",
       "LogOfAreas            -0.318292  0.525492   3.420237  \n",
       "Log_X_Index           -0.331216  0.382914   3.627366  \n",
       "Log_Y_Index           -0.166892  0.732914   6.274553  \n",
       "Orientation_Index      0.024907  0.844836   1.830314  \n",
       "Luminosity_Index      -0.013251  0.432492   5.180199  \n",
       "SigmoidOfAreas        -0.244391  1.226000   1.226589  "
      ]
     },
     "execution_count": 17,
     "metadata": {},
     "output_type": "execute_result"
    }
   ],
   "source": [
    "x_train.describe().T"
   ]
  },
  {
   "cell_type": "markdown",
   "id": "c7ae7873",
   "metadata": {},
   "source": [
    "## Grid Search"
   ]
  },
  {
   "cell_type": "code",
   "execution_count": 24,
   "id": "39e7f3fb",
   "metadata": {},
   "outputs": [],
   "source": [
    "from sklearn.model_selection import GridSearchCV #각 모델의 파라미터를 최적화하는데 사용\n",
    "from sklearn.metrics import accuracy_score, classification_report, confusion_matrix\n",
    "from mlxtend.plotting import plot_confusion_matrix\n",
    "from colorama import Fore\n",
    "import os\n",
    "\n",
    "n_thread = os.cpu_count()"
   ]
  },
  {
   "cell_type": "markdown",
   "id": "ee278489",
   "metadata": {},
   "source": [
    "### Subset Selection\n",
    "[Reference](https://direction-f.tistory.com/75)\n",
    "$\\text{- 사용 가능한 Dependent Variable들이 많으나 어떤 것이 유의미한 변수인지 선택하기 어려울 때 활용할만한 변수를 선정하기위해 적용하는 방법}\\\\\n",
    "\\: \\cdot \\textbf{Best Subset Selection}\\\\\n",
    "\\: \\cdot \\textbf{Stepwise Selection} \\\\\n",
    "\\rightarrow \\text{Best Subset Selection은 모든 모델을 고려하여 가장 좋은 모델을 선택하는만큼 계산효율성이 떨어짐}\\\\\n",
    "\\rightarrow \\text{Stepwise Selection은 크게 }\\textbf{Forward Stepwise Selection, Backward Stepwise Selection } \\text{으로 구분} \\\\\n",
    "\\quad \\cdot \\text{Forward Stepwise Selection: 변수사이즈 0부터 시작하여 하나씩 변수를 추가}\\\\\n",
    "\\quad \\cdot \\text{Backward Stepwise Selection: Full model로 시작하여 하나씩 변수를 제거}\\\\\n",
    "$\n",
    "$\n",
    "\\textbf{Grid Search}\\text{ 기반에 Subset Selection은 }\\textbf{Discrete Process}\\text{ 이기 때문에 종종 중요한 변수를 놓치거나 중요하지 않은 변수를 포함하는 경우가 있음}\n",
    "$"
   ]
  },
  {
   "cell_type": "markdown",
   "id": "c28c0c74",
   "metadata": {},
   "source": [
    "**The Lasso**  \n",
    "[Reference](https://modern-manual.tistory.com/22)\n",
    "- 최소제곱법과 유사하나 '각 계수 절댓값의 합'을 수식에 포함하여 계수의 크기도 함께 최소화하도록 만든다.\n",
    "- Lasso를 사용하면 자연스럽게 Subset selection효과가 나타난다.  \n",
    "$\\textbf{RSS}+\\lambda\\sum\\limits_{j=1}^{p}|\\beta_j|$\n",
    "- 위 식에 대해 **Gradient descent**를 수행하면 일부 덜 중요한 계수들이 0으로 수렴하는 결과가 나온다.\n",
    "- 위 식에 미분을 사용하여 풀 때, 절대값으로인해 꺾이는 부분은 0으로 치환하여 처리하고 나머지 부분은 미분가능하다.\n",
    "<img src=\"./Lasso_Ridge.jpeg\" width=\"500px\" height=\"300px\" title=\"Lasso and Lidge\"></img>\n",
    "- Lasso는 절대값이 들어간 수식으로인해 모서리가 뾰족한 마름모 형태를 나타내므로 일부의 $\\beta$는 0이되는 파라미터의 조합을 고르게된다.\n",
    "- Ridge regression은 $\\beta_j^2$을 사용하여 파란 원형과 같이 그려진다. 둥근 모서리를 갖고 있기 때문에 계수가 적당히 작은 값을 취하지만 0이 되지는 않는다.\n",
    "\n",
    "**Intuition of Lasso**\n",
    "- Lasso를 적용하여 모델의 Performance가 더 좋아졌다면, 데이터의 일부 파라미터를 제거하는 것이 더 결과가 좋다는 Insight를 가질 수 있다.\n",
    "\n",
    "**The Ridge Regression**  \n",
    "[Reference](https://modern-manual.tistory.com/21)\n",
    "- 기본 선형모델을 사용하다보면 Overfitting이 발생. 이를 표현하는 선형회귀의 계수값은 매우 크게 표현\n",
    "- 예) $y = 123123 - 123324x + 234234x^2$\n",
    "- 이렇게 Variance가 큰 상황을 막기위해 계수 자체가 크면 페널티를 주는 수식을 추가한 것이 **Ridge Regression**\n",
    "- **Ridge Regression**은 오차를 최소화하는 함수에 페널티를 줌으로써 보다 부드럽게 계수를 선택하는 차이가 형성\n",
    "- **Ridge Regression**은 기본 선형모델을 Regularize하여 보다 좋은 Performance를 내기위해 시도해볼 수 있는 기본 기법임\n",
    "\n",
    "**Scaling of Ridge**\n",
    "- Ridge는 변수의 크기에 따라 결과가 크게 변화되므로 변수를 스케일링하여 서로 사이즈가 비슷하도록 만들어주는 작업이 필요\n",
    "- 일반적으로 표준편차를 각 Predictors마다 구한 뒤 각 데이터에 나눠줌"
   ]
  },
  {
   "cell_type": "markdown",
   "id": "c1635d70",
   "metadata": {},
   "source": [
    "## LogisticRegression"
   ]
  },
  {
   "cell_type": "code",
   "execution_count": 20,
   "id": "b53c34c3",
   "metadata": {},
   "outputs": [],
   "source": [
    "from sklearn.linear_model import LogisticRegression"
   ]
  },
  {
   "cell_type": "code",
   "execution_count": 30,
   "id": "75bd9719",
   "metadata": {},
   "outputs": [],
   "source": [
    "### C: 회귀 계수의 제한되는 정도의 실수값 (클수록 강하게 제한)\n",
    "### penalty: l1, l2\n",
    "### solver: 'liblinear'일 때 l1 penalty 사용 가능.\n",
    "### tol: 언제까지 학습할지 결정. default=1e-4\n",
    "lm=LogisticRegression(solver='liblinear')"
   ]
  },
  {
   "cell_type": "code",
   "execution_count": 31,
   "id": "3df22401",
   "metadata": {},
   "outputs": [],
   "source": [
    "parameters={'penalty':['l1','l2'], 'C':[0.01, 0.1, 0.5, 0.9, 1, 5, 10], 'tol':[1e-4, 1e-2, 1e2]}"
   ]
  },
  {
   "cell_type": "code",
   "execution_count": 32,
   "id": "be481565",
   "metadata": {
    "scrolled": true
   },
   "outputs": [],
   "source": [
    "GSLR=GridSearchCV(lm, parameters, cv=10, n_jobs=n_thread, scoring='accuracy')\n",
    "### cv: cross-validation에서 몇개로 분할하여 검증할지 지정"
   ]
  },
  {
   "cell_type": "code",
   "execution_count": 33,
   "id": "9541ca18",
   "metadata": {},
   "outputs": [
    {
     "data": {
      "text/html": [
       "<style>#sk-container-id-2 {color: black;background-color: white;}#sk-container-id-2 pre{padding: 0;}#sk-container-id-2 div.sk-toggleable {background-color: white;}#sk-container-id-2 label.sk-toggleable__label {cursor: pointer;display: block;width: 100%;margin-bottom: 0;padding: 0.3em;box-sizing: border-box;text-align: center;}#sk-container-id-2 label.sk-toggleable__label-arrow:before {content: \"▸\";float: left;margin-right: 0.25em;color: #696969;}#sk-container-id-2 label.sk-toggleable__label-arrow:hover:before {color: black;}#sk-container-id-2 div.sk-estimator:hover label.sk-toggleable__label-arrow:before {color: black;}#sk-container-id-2 div.sk-toggleable__content {max-height: 0;max-width: 0;overflow: hidden;text-align: left;background-color: #f0f8ff;}#sk-container-id-2 div.sk-toggleable__content pre {margin: 0.2em;color: black;border-radius: 0.25em;background-color: #f0f8ff;}#sk-container-id-2 input.sk-toggleable__control:checked~div.sk-toggleable__content {max-height: 200px;max-width: 100%;overflow: auto;}#sk-container-id-2 input.sk-toggleable__control:checked~label.sk-toggleable__label-arrow:before {content: \"▾\";}#sk-container-id-2 div.sk-estimator input.sk-toggleable__control:checked~label.sk-toggleable__label {background-color: #d4ebff;}#sk-container-id-2 div.sk-label input.sk-toggleable__control:checked~label.sk-toggleable__label {background-color: #d4ebff;}#sk-container-id-2 input.sk-hidden--visually {border: 0;clip: rect(1px 1px 1px 1px);clip: rect(1px, 1px, 1px, 1px);height: 1px;margin: -1px;overflow: hidden;padding: 0;position: absolute;width: 1px;}#sk-container-id-2 div.sk-estimator {font-family: monospace;background-color: #f0f8ff;border: 1px dotted black;border-radius: 0.25em;box-sizing: border-box;margin-bottom: 0.5em;}#sk-container-id-2 div.sk-estimator:hover {background-color: #d4ebff;}#sk-container-id-2 div.sk-parallel-item::after {content: \"\";width: 100%;border-bottom: 1px solid gray;flex-grow: 1;}#sk-container-id-2 div.sk-label:hover label.sk-toggleable__label {background-color: #d4ebff;}#sk-container-id-2 div.sk-serial::before {content: \"\";position: absolute;border-left: 1px solid gray;box-sizing: border-box;top: 0;bottom: 0;left: 50%;z-index: 0;}#sk-container-id-2 div.sk-serial {display: flex;flex-direction: column;align-items: center;background-color: white;padding-right: 0.2em;padding-left: 0.2em;position: relative;}#sk-container-id-2 div.sk-item {position: relative;z-index: 1;}#sk-container-id-2 div.sk-parallel {display: flex;align-items: stretch;justify-content: center;background-color: white;position: relative;}#sk-container-id-2 div.sk-item::before, #sk-container-id-2 div.sk-parallel-item::before {content: \"\";position: absolute;border-left: 1px solid gray;box-sizing: border-box;top: 0;bottom: 0;left: 50%;z-index: -1;}#sk-container-id-2 div.sk-parallel-item {display: flex;flex-direction: column;z-index: 1;position: relative;background-color: white;}#sk-container-id-2 div.sk-parallel-item:first-child::after {align-self: flex-end;width: 50%;}#sk-container-id-2 div.sk-parallel-item:last-child::after {align-self: flex-start;width: 50%;}#sk-container-id-2 div.sk-parallel-item:only-child::after {width: 0;}#sk-container-id-2 div.sk-dashed-wrapped {border: 1px dashed gray;margin: 0 0.4em 0.5em 0.4em;box-sizing: border-box;padding-bottom: 0.4em;background-color: white;}#sk-container-id-2 div.sk-label label {font-family: monospace;font-weight: bold;display: inline-block;line-height: 1.2em;}#sk-container-id-2 div.sk-label-container {text-align: center;}#sk-container-id-2 div.sk-container {/* jupyter's `normalize.less` sets `[hidden] { display: none; }` but bootstrap.min.css set `[hidden] { display: none !important; }` so we also need the `!important` here to be able to override the default hidden behavior on the sphinx rendered scikit-learn.org. See: https://github.com/scikit-learn/scikit-learn/issues/21755 */display: inline-block !important;position: relative;}#sk-container-id-2 div.sk-text-repr-fallback {display: none;}</style><div id=\"sk-container-id-2\" class=\"sk-top-container\"><div class=\"sk-text-repr-fallback\"><pre>GridSearchCV(cv=10, estimator=LogisticRegression(solver=&#x27;liblinear&#x27;), n_jobs=8,\n",
       "             param_grid={&#x27;C&#x27;: [0.01, 0.1, 0.5, 0.9, 1, 5, 10],\n",
       "                         &#x27;penalty&#x27;: [&#x27;l1&#x27;, &#x27;l2&#x27;],\n",
       "                         &#x27;tol&#x27;: [0.0001, 0.01, 100.0]},\n",
       "             scoring=&#x27;accuracy&#x27;)</pre><b>In a Jupyter environment, please rerun this cell to show the HTML representation or trust the notebook. <br />On GitHub, the HTML representation is unable to render, please try loading this page with nbviewer.org.</b></div><div class=\"sk-container\" hidden><div class=\"sk-item sk-dashed-wrapped\"><div class=\"sk-label-container\"><div class=\"sk-label sk-toggleable\"><input class=\"sk-toggleable__control sk-hidden--visually\" id=\"sk-estimator-id-4\" type=\"checkbox\" ><label for=\"sk-estimator-id-4\" class=\"sk-toggleable__label sk-toggleable__label-arrow\">GridSearchCV</label><div class=\"sk-toggleable__content\"><pre>GridSearchCV(cv=10, estimator=LogisticRegression(solver=&#x27;liblinear&#x27;), n_jobs=8,\n",
       "             param_grid={&#x27;C&#x27;: [0.01, 0.1, 0.5, 0.9, 1, 5, 10],\n",
       "                         &#x27;penalty&#x27;: [&#x27;l1&#x27;, &#x27;l2&#x27;],\n",
       "                         &#x27;tol&#x27;: [0.0001, 0.01, 100.0]},\n",
       "             scoring=&#x27;accuracy&#x27;)</pre></div></div></div><div class=\"sk-parallel\"><div class=\"sk-parallel-item\"><div class=\"sk-item\"><div class=\"sk-label-container\"><div class=\"sk-label sk-toggleable\"><input class=\"sk-toggleable__control sk-hidden--visually\" id=\"sk-estimator-id-5\" type=\"checkbox\" ><label for=\"sk-estimator-id-5\" class=\"sk-toggleable__label sk-toggleable__label-arrow\">estimator: LogisticRegression</label><div class=\"sk-toggleable__content\"><pre>LogisticRegression(solver=&#x27;liblinear&#x27;)</pre></div></div></div><div class=\"sk-serial\"><div class=\"sk-item\"><div class=\"sk-estimator sk-toggleable\"><input class=\"sk-toggleable__control sk-hidden--visually\" id=\"sk-estimator-id-6\" type=\"checkbox\" ><label for=\"sk-estimator-id-6\" class=\"sk-toggleable__label sk-toggleable__label-arrow\">LogisticRegression</label><div class=\"sk-toggleable__content\"><pre>LogisticRegression(solver=&#x27;liblinear&#x27;)</pre></div></div></div></div></div></div></div></div></div></div>"
      ],
      "text/plain": [
       "GridSearchCV(cv=10, estimator=LogisticRegression(solver='liblinear'), n_jobs=8,\n",
       "             param_grid={'C': [0.01, 0.1, 0.5, 0.9, 1, 5, 10],\n",
       "                         'penalty': ['l1', 'l2'],\n",
       "                         'tol': [0.0001, 0.01, 100.0]},\n",
       "             scoring='accuracy')"
      ]
     },
     "execution_count": 33,
     "metadata": {},
     "output_type": "execute_result"
    }
   ],
   "source": [
    "# Cross-Validation check\n",
    "GSLR.fit(x_train, y_train)"
   ]
  },
  {
   "cell_type": "code",
   "execution_count": 37,
   "id": "328688b8",
   "metadata": {},
   "outputs": [
    {
     "name": "stdout",
     "output_type": "stream",
     "text": [
      "final params {'C': 1, 'penalty': 'l2', 'tol': 0.0001}\n",
      "best score 0.9722911497105045\n"
     ]
    }
   ],
   "source": [
    "print('final params', GSLR.best_params_)\n",
    "print('best score', GSLR.best_score_)"
   ]
  },
  {
   "cell_type": "code",
   "execution_count": 38,
   "id": "490dd046",
   "metadata": {},
   "outputs": [
    {
     "name": "stdout",
     "output_type": "stream",
     "text": [
      "              precision    recall  f1-score   support\n",
      "\n",
      "           0       0.98      0.98      0.98       311\n",
      "           1       0.92      0.92      0.92        78\n",
      "\n",
      "    accuracy                           0.97       389\n",
      "   macro avg       0.95      0.95      0.95       389\n",
      "weighted avg       0.97      0.97      0.97       389\n",
      "\n",
      "\u001b[32mAccuracy of Logistic Regression is: 96.92%\n"
     ]
    }
   ],
   "source": [
    "GSLR_pred = GSLR.predict(x_test)\n",
    "GSLR_acc = accuracy_score(y_test, GSLR_pred)\n",
    "print(classification_report(y_test, GSLR_pred))\n",
    "print(Fore.GREEN + f\"Accuracy of Logistic Regression is: {100*GSLR_acc:2.2f}%\")"
   ]
  },
  {
   "cell_type": "code",
   "execution_count": 39,
   "id": "f97e8984",
   "metadata": {},
   "outputs": [
    {
     "data": {
      "text/plain": [
       "<Figure size 500x500 with 0 Axes>"
      ]
     },
     "metadata": {},
     "output_type": "display_data"
    },
    {
     "data": {
      "image/png": "[encoded data removed]",
      "text/plain": [
       "<Figure size 640x480 with 1 Axes>"
      ]
     },
     "metadata": {
      "image/png": {
       "height": 454,
       "width": 500
      }
     },
     "output_type": "display_data"
    }
   ],
   "source": [
    "cm = confusion_matrix(y_test, GSLR_pred)\n",
    "plt.figure(figsize=(5,5))\n",
    "plot_confusion_matrix(cm, hide_ticks=True, cmap=plt.cm.Blues)\n",
    "plt.title('Logistic Regression Model - Confusion Matrix')\n",
    "plt.xticks(range(2), [\"K-Scatch X\", 'K-Scratch O'], fontsize=10)\n",
    "plt.yticks(range(2), [\"K-Scatch X\", 'K-Scratch O'], fontsize=10)\n",
    "plt.show()"
   ]
  },
  {
   "cell_type": "code",
   "execution_count": 40,
   "id": "f092628c",
   "metadata": {
    "scrolled": true
   },
   "outputs": [
    {
     "name": "stdout",
     "output_type": "stream",
     "text": [
      "0.945 (+/-0.037) for {'C': 0.01, 'penalty': 'l1', 'tol': 0.0001}\n",
      "0.945 (+/-0.035) for {'C': 0.01, 'penalty': 'l1', 'tol': 0.01}\n",
      "0.798 (+/-0.005) for {'C': 0.01, 'penalty': 'l1', 'tol': 100.0}\n",
      "0.950 (+/-0.033) for {'C': 0.01, 'penalty': 'l2', 'tol': 0.0001}\n",
      "0.950 (+/-0.033) for {'C': 0.01, 'penalty': 'l2', 'tol': 0.01}\n",
      "0.798 (+/-0.005) for {'C': 0.01, 'penalty': 'l2', 'tol': 100.0}\n",
      "0.964 (+/-0.028) for {'C': 0.1, 'penalty': 'l1', 'tol': 0.0001}\n",
      "0.963 (+/-0.028) for {'C': 0.1, 'penalty': 'l1', 'tol': 0.01}\n",
      "0.798 (+/-0.005) for {'C': 0.1, 'penalty': 'l1', 'tol': 100.0}\n",
      "0.966 (+/-0.021) for {'C': 0.1, 'penalty': 'l2', 'tol': 0.0001}\n",
      "0.966 (+/-0.021) for {'C': 0.1, 'penalty': 'l2', 'tol': 0.01}\n",
      "0.798 (+/-0.005) for {'C': 0.1, 'penalty': 'l2', 'tol': 100.0}\n",
      "0.969 (+/-0.028) for {'C': 0.5, 'penalty': 'l1', 'tol': 0.0001}\n",
      "0.970 (+/-0.024) for {'C': 0.5, 'penalty': 'l1', 'tol': 0.01}\n",
      "0.798 (+/-0.005) for {'C': 0.5, 'penalty': 'l1', 'tol': 100.0}\n",
      "0.969 (+/-0.023) for {'C': 0.5, 'penalty': 'l2', 'tol': 0.0001}\n",
      "0.968 (+/-0.020) for {'C': 0.5, 'penalty': 'l2', 'tol': 0.01}\n",
      "0.798 (+/-0.005) for {'C': 0.5, 'penalty': 'l2', 'tol': 100.0}\n",
      "0.969 (+/-0.030) for {'C': 0.9, 'penalty': 'l1', 'tol': 0.0001}\n",
      "0.969 (+/-0.029) for {'C': 0.9, 'penalty': 'l1', 'tol': 0.01}\n",
      "0.798 (+/-0.005) for {'C': 0.9, 'penalty': 'l1', 'tol': 100.0}\n",
      "0.971 (+/-0.022) for {'C': 0.9, 'penalty': 'l2', 'tol': 0.0001}\n",
      "0.972 (+/-0.025) for {'C': 0.9, 'penalty': 'l2', 'tol': 0.01}\n",
      "0.798 (+/-0.005) for {'C': 0.9, 'penalty': 'l2', 'tol': 100.0}\n",
      "0.970 (+/-0.030) for {'C': 1, 'penalty': 'l1', 'tol': 0.0001}\n",
      "0.969 (+/-0.029) for {'C': 1, 'penalty': 'l1', 'tol': 0.01}\n",
      "0.798 (+/-0.005) for {'C': 1, 'penalty': 'l1', 'tol': 100.0}\n",
      "0.972 (+/-0.023) for {'C': 1, 'penalty': 'l2', 'tol': 0.0001}\n",
      "0.972 (+/-0.025) for {'C': 1, 'penalty': 'l2', 'tol': 0.01}\n",
      "0.798 (+/-0.005) for {'C': 1, 'penalty': 'l2', 'tol': 100.0}\n",
      "0.970 (+/-0.027) for {'C': 5, 'penalty': 'l1', 'tol': 0.0001}\n",
      "0.972 (+/-0.026) for {'C': 5, 'penalty': 'l1', 'tol': 0.01}\n",
      "0.798 (+/-0.005) for {'C': 5, 'penalty': 'l1', 'tol': 100.0}\n",
      "0.972 (+/-0.028) for {'C': 5, 'penalty': 'l2', 'tol': 0.0001}\n",
      "0.972 (+/-0.028) for {'C': 5, 'penalty': 'l2', 'tol': 0.01}\n",
      "0.798 (+/-0.005) for {'C': 5, 'penalty': 'l2', 'tol': 100.0}\n",
      "0.972 (+/-0.025) for {'C': 10, 'penalty': 'l1', 'tol': 0.0001}\n",
      "0.970 (+/-0.023) for {'C': 10, 'penalty': 'l1', 'tol': 0.01}\n",
      "0.798 (+/-0.005) for {'C': 10, 'penalty': 'l1', 'tol': 100.0}\n",
      "0.971 (+/-0.026) for {'C': 10, 'penalty': 'l2', 'tol': 0.0001}\n",
      "0.971 (+/-0.024) for {'C': 10, 'penalty': 'l2', 'tol': 0.01}\n",
      "0.798 (+/-0.005) for {'C': 10, 'penalty': 'l2', 'tol': 100.0}\n"
     ]
    }
   ],
   "source": [
    "# Cross validation 과정에서 계산된 정확도 값들을 출력\n",
    "means = GSLR.cv_results_['mean_test_score']\n",
    "stds = GSLR.cv_results_['std_test_score']\n",
    "params = GSLR.cv_results_['params']\n",
    "for mean, std, params in zip(means, stds, params):\n",
    "    print(\"{0:.3f} (+/-{1:.03f}) for {2}\".format(mean, std*2, params))"
   ]
  },
  {
   "cell_type": "markdown",
   "id": "fb8d01b4",
   "metadata": {},
   "source": [
    "## Decision Tree\n",
    "**Parameters**\n",
    "- criterion: gini, enropy\n",
    "- max_depth: 최대 깊이를 제한\n",
    "- min_samples_split: 한 노드에 들어있는 최소 데이터 수 제한\n",
    "- min_samples_leaf\n",
    "- max_features: 변수의 개수를 제한\n",
    "\n",
    "**Pruning**: Overfitting을 낮추기 위해 '가지치기'를 실행"
   ]
  },
  {
   "cell_type": "code",
   "execution_count": 41,
   "id": "0892da89",
   "metadata": {},
   "outputs": [
    {
     "name": "stdout",
     "output_type": "stream",
     "text": [
      "              precision    recall  f1-score   support\n",
      "\n",
      "           0       0.99      0.99      0.99       311\n",
      "           1       0.96      0.95      0.95        78\n",
      "\n",
      "    accuracy                           0.98       389\n",
      "   macro avg       0.97      0.97      0.97       389\n",
      "weighted avg       0.98      0.98      0.98       389\n",
      "\n",
      "\u001b[32mAccuracy of Decision Tree is: 98.20%\n"
     ]
    },
    {
     "data": {
      "text/plain": [
       "{'ccp_alpha': 0.0,\n",
       " 'class_weight': None,\n",
       " 'criterion': 'gini',\n",
       " 'max_depth': None,\n",
       " 'max_features': None,\n",
       " 'max_leaf_nodes': None,\n",
       " 'min_impurity_decrease': 0.0,\n",
       " 'min_samples_leaf': 1,\n",
       " 'min_samples_split': 2,\n",
       " 'min_weight_fraction_leaf': 0.0,\n",
       " 'random_state': None,\n",
       " 'splitter': 'best'}"
      ]
     },
     "execution_count": 41,
     "metadata": {},
     "output_type": "execute_result"
    }
   ],
   "source": [
    "from sklearn.tree import DecisionTreeClassifier\n",
    "\n",
    "dt_clf = DecisionTreeClassifier()\n",
    "dt_clf.fit(x_train, y_train)\n",
    "dt_clf_pred = dt_clf.predict(x_test)\n",
    "dt_clf_acc = accuracy_score(y_test, dt_clf_pred)\n",
    "print(classification_report(y_test, dt_clf_pred))\n",
    "print(Fore.GREEN + f\"Accuracy of Decision Tree is: {100*dt_clf_acc:2.2f}%\")\n",
    "dt_clf.get_params()"
   ]
  },
  {
   "cell_type": "code",
   "execution_count": 42,
   "id": "e240fe96",
   "metadata": {},
   "outputs": [],
   "source": [
    "parameters = {'criterion':['gini', 'entropy'],\n",
    "              'min_samples_split':[2, 5, 10, 15],\n",
    "              'max_depth':[None, 2],\n",
    "              'min_samples_leaf':[1, 3, 10, 15],\n",
    "              'max_features':[None, 'sqrt', 'log2'],\n",
    "             }"
   ]
  },
  {
   "cell_type": "code",
   "execution_count": 43,
   "id": "93b44e56",
   "metadata": {},
   "outputs": [
    {
     "data": {
      "text/html": [
       "<style>#sk-container-id-3 {color: black;background-color: white;}#sk-container-id-3 pre{padding: 0;}#sk-container-id-3 div.sk-toggleable {background-color: white;}#sk-container-id-3 label.sk-toggleable__label {cursor: pointer;display: block;width: 100%;margin-bottom: 0;padding: 0.3em;box-sizing: border-box;text-align: center;}#sk-container-id-3 label.sk-toggleable__label-arrow:before {content: \"▸\";float: left;margin-right: 0.25em;color: #696969;}#sk-container-id-3 label.sk-toggleable__label-arrow:hover:before {color: black;}#sk-container-id-3 div.sk-estimator:hover label.sk-toggleable__label-arrow:before {color: black;}#sk-container-id-3 div.sk-toggleable__content {max-height: 0;max-width: 0;overflow: hidden;text-align: left;background-color: #f0f8ff;}#sk-container-id-3 div.sk-toggleable__content pre {margin: 0.2em;color: black;border-radius: 0.25em;background-color: #f0f8ff;}#sk-container-id-3 input.sk-toggleable__control:checked~div.sk-toggleable__content {max-height: 200px;max-width: 100%;overflow: auto;}#sk-container-id-3 input.sk-toggleable__control:checked~label.sk-toggleable__label-arrow:before {content: \"▾\";}#sk-container-id-3 div.sk-estimator input.sk-toggleable__control:checked~label.sk-toggleable__label {background-color: #d4ebff;}#sk-container-id-3 div.sk-label input.sk-toggleable__control:checked~label.sk-toggleable__label {background-color: #d4ebff;}#sk-container-id-3 input.sk-hidden--visually {border: 0;clip: rect(1px 1px 1px 1px);clip: rect(1px, 1px, 1px, 1px);height: 1px;margin: -1px;overflow: hidden;padding: 0;position: absolute;width: 1px;}#sk-container-id-3 div.sk-estimator {font-family: monospace;background-color: #f0f8ff;border: 1px dotted black;border-radius: 0.25em;box-sizing: border-box;margin-bottom: 0.5em;}#sk-container-id-3 div.sk-estimator:hover {background-color: #d4ebff;}#sk-container-id-3 div.sk-parallel-item::after {content: \"\";width: 100%;border-bottom: 1px solid gray;flex-grow: 1;}#sk-container-id-3 div.sk-label:hover label.sk-toggleable__label {background-color: #d4ebff;}#sk-container-id-3 div.sk-serial::before {content: \"\";position: absolute;border-left: 1px solid gray;box-sizing: border-box;top: 0;bottom: 0;left: 50%;z-index: 0;}#sk-container-id-3 div.sk-serial {display: flex;flex-direction: column;align-items: center;background-color: white;padding-right: 0.2em;padding-left: 0.2em;position: relative;}#sk-container-id-3 div.sk-item {position: relative;z-index: 1;}#sk-container-id-3 div.sk-parallel {display: flex;align-items: stretch;justify-content: center;background-color: white;position: relative;}#sk-container-id-3 div.sk-item::before, #sk-container-id-3 div.sk-parallel-item::before {content: \"\";position: absolute;border-left: 1px solid gray;box-sizing: border-box;top: 0;bottom: 0;left: 50%;z-index: -1;}#sk-container-id-3 div.sk-parallel-item {display: flex;flex-direction: column;z-index: 1;position: relative;background-color: white;}#sk-container-id-3 div.sk-parallel-item:first-child::after {align-self: flex-end;width: 50%;}#sk-container-id-3 div.sk-parallel-item:last-child::after {align-self: flex-start;width: 50%;}#sk-container-id-3 div.sk-parallel-item:only-child::after {width: 0;}#sk-container-id-3 div.sk-dashed-wrapped {border: 1px dashed gray;margin: 0 0.4em 0.5em 0.4em;box-sizing: border-box;padding-bottom: 0.4em;background-color: white;}#sk-container-id-3 div.sk-label label {font-family: monospace;font-weight: bold;display: inline-block;line-height: 1.2em;}#sk-container-id-3 div.sk-label-container {text-align: center;}#sk-container-id-3 div.sk-container {/* jupyter's `normalize.less` sets `[hidden] { display: none; }` but bootstrap.min.css set `[hidden] { display: none !important; }` so we also need the `!important` here to be able to override the default hidden behavior on the sphinx rendered scikit-learn.org. See: https://github.com/scikit-learn/scikit-learn/issues/21755 */display: inline-block !important;position: relative;}#sk-container-id-3 div.sk-text-repr-fallback {display: none;}</style><div id=\"sk-container-id-3\" class=\"sk-top-container\"><div class=\"sk-text-repr-fallback\"><pre>GridSearchCV(cv=10, estimator=DecisionTreeClassifier(), n_jobs=8,\n",
       "             param_grid={&#x27;criterion&#x27;: [&#x27;gini&#x27;, &#x27;entropy&#x27;],\n",
       "                         &#x27;max_depth&#x27;: [None, 2],\n",
       "                         &#x27;max_features&#x27;: [None, &#x27;sqrt&#x27;, &#x27;log2&#x27;],\n",
       "                         &#x27;min_samples_leaf&#x27;: [1, 3, 10, 15],\n",
       "                         &#x27;min_samples_split&#x27;: [2, 5, 10, 15]},\n",
       "             scoring=&#x27;accuracy&#x27;)</pre><b>In a Jupyter environment, please rerun this cell to show the HTML representation or trust the notebook. <br />On GitHub, the HTML representation is unable to render, please try loading this page with nbviewer.org.</b></div><div class=\"sk-container\" hidden><div class=\"sk-item sk-dashed-wrapped\"><div class=\"sk-label-container\"><div class=\"sk-label sk-toggleable\"><input class=\"sk-toggleable__control sk-hidden--visually\" id=\"sk-estimator-id-7\" type=\"checkbox\" ><label for=\"sk-estimator-id-7\" class=\"sk-toggleable__label sk-toggleable__label-arrow\">GridSearchCV</label><div class=\"sk-toggleable__content\"><pre>GridSearchCV(cv=10, estimator=DecisionTreeClassifier(), n_jobs=8,\n",
       "             param_grid={&#x27;criterion&#x27;: [&#x27;gini&#x27;, &#x27;entropy&#x27;],\n",
       "                         &#x27;max_depth&#x27;: [None, 2],\n",
       "                         &#x27;max_features&#x27;: [None, &#x27;sqrt&#x27;, &#x27;log2&#x27;],\n",
       "                         &#x27;min_samples_leaf&#x27;: [1, 3, 10, 15],\n",
       "                         &#x27;min_samples_split&#x27;: [2, 5, 10, 15]},\n",
       "             scoring=&#x27;accuracy&#x27;)</pre></div></div></div><div class=\"sk-parallel\"><div class=\"sk-parallel-item\"><div class=\"sk-item\"><div class=\"sk-label-container\"><div class=\"sk-label sk-toggleable\"><input class=\"sk-toggleable__control sk-hidden--visually\" id=\"sk-estimator-id-8\" type=\"checkbox\" ><label for=\"sk-estimator-id-8\" class=\"sk-toggleable__label sk-toggleable__label-arrow\">estimator: DecisionTreeClassifier</label><div class=\"sk-toggleable__content\"><pre>DecisionTreeClassifier()</pre></div></div></div><div class=\"sk-serial\"><div class=\"sk-item\"><div class=\"sk-estimator sk-toggleable\"><input class=\"sk-toggleable__control sk-hidden--visually\" id=\"sk-estimator-id-9\" type=\"checkbox\" ><label for=\"sk-estimator-id-9\" class=\"sk-toggleable__label sk-toggleable__label-arrow\">DecisionTreeClassifier</label><div class=\"sk-toggleable__content\"><pre>DecisionTreeClassifier()</pre></div></div></div></div></div></div></div></div></div></div>"
      ],
      "text/plain": [
       "GridSearchCV(cv=10, estimator=DecisionTreeClassifier(), n_jobs=8,\n",
       "             param_grid={'criterion': ['gini', 'entropy'],\n",
       "                         'max_depth': [None, 2],\n",
       "                         'max_features': [None, 'sqrt', 'log2'],\n",
       "                         'min_samples_leaf': [1, 3, 10, 15],\n",
       "                         'min_samples_split': [2, 5, 10, 15]},\n",
       "             scoring='accuracy')"
      ]
     },
     "execution_count": 43,
     "metadata": {},
     "output_type": "execute_result"
    }
   ],
   "source": [
    "dt = DecisionTreeClassifier()\n",
    "GSDT = GridSearchCV(dt, parameters, cv=10, n_jobs=n_thread, scoring='accuracy')\n",
    "GSDT.fit(x_train, y_train)"
   ]
  },
  {
   "cell_type": "code",
   "execution_count": 44,
   "id": "235a3738",
   "metadata": {},
   "outputs": [
    {
     "name": "stdout",
     "output_type": "stream",
     "text": [
      "Final Params: {'criterion': 'entropy', 'max_depth': None, 'max_features': None, 'min_samples_leaf': 3, 'min_samples_split': 10}\n",
      "Best Score: 0.9774483043837883\n"
     ]
    }
   ],
   "source": [
    "print(\"Final Params:\", GSDT.best_params_)\n",
    "print(\"Best Score:\", GSDT.best_score_)"
   ]
  },
  {
   "cell_type": "code",
   "execution_count": 45,
   "id": "92b20e64",
   "metadata": {},
   "outputs": [
    {
     "name": "stdout",
     "output_type": "stream",
     "text": [
      "              precision    recall  f1-score   support\n",
      "\n",
      "           0       0.97      0.99      0.98       311\n",
      "           1       0.96      0.88      0.92        78\n",
      "\n",
      "    accuracy                           0.97       389\n",
      "   macro avg       0.96      0.94      0.95       389\n",
      "weighted avg       0.97      0.97      0.97       389\n",
      "\n",
      "\u001b[32mAccuracy of GridSearch Decision Tree: 96.92%\n"
     ]
    }
   ],
   "source": [
    "GSDT_pred = GSDT.predict(x_test)\n",
    "GSDT_acc = accuracy_score(y_test, GSDT_pred)\n",
    "print(classification_report(y_test, GSDT_pred))\n",
    "print(Fore.GREEN + f\"Accuracy of GridSearch Decision Tree: {100*GSDT_acc:2.2f}%\")"
   ]
  },
  {
   "cell_type": "code",
   "execution_count": 46,
   "id": "ae8c62cb",
   "metadata": {},
   "outputs": [
    {
     "data": {
      "text/plain": [
       "<Figure size 500x500 with 0 Axes>"
      ]
     },
     "metadata": {},
     "output_type": "display_data"
    },
    {
     "data": {
      "image/png": "[encoded data removed]",
      "text/plain": [
       "<Figure size 640x480 with 1 Axes>"
      ]
     },
     "metadata": {
      "image/png": {
       "height": 432,
       "width": 499
      }
     },
     "output_type": "display_data"
    }
   ],
   "source": [
    "cm = confusion_matrix(y_test, GSDT_pred)\n",
    "plt.figure(figsize=(5,5))\n",
    "plot_confusion_matrix(cm, cmap=plt.cm.Blues, hide_ticks=True)\n",
    "plt.xticks(range(2), [\"K-Scatch X\", 'K-Scratch O'], fontsize=10)\n",
    "plt.yticks(range(2), [\"K-Scatch X\", 'K-Scratch O'], fontsize=10)\n",
    "plt.show()"
   ]
  },
  {
   "cell_type": "code",
   "execution_count": 47,
   "id": "a08905e0",
   "metadata": {},
   "outputs": [
    {
     "name": "stdout",
     "output_type": "stream",
     "text": [
      "0    1239\n",
      "1     313\n",
      "Name: K_Scatch, dtype: int64\n"
     ]
    }
   ],
   "source": [
    "# train에서 종속변수의 분포\n",
    "print(y_train.value_counts())"
   ]
  },
  {
   "cell_type": "code",
   "execution_count": 48,
   "id": "f6fe504e",
   "metadata": {},
   "outputs": [],
   "source": [
    "!dot -c"
   ]
  },
  {
   "cell_type": "code",
   "execution_count": 49,
   "id": "b99cfafe",
   "metadata": {
    "scrolled": true
   },
   "outputs": [
    {
     "data": {
      "image/svg+xml": [
       "<?xml version=\"1.0\" encoding=\"UTF-8\" standalone=\"no\"?>\n",
       "<!DOCTYPE svg PUBLIC \"-//W3C//DTD SVG 1.1//EN\"\n",
       " \"http://www.w3.org/Graphics/SVG/1.1/DTD/svg11.dtd\">\n",
       "<!-- Generated by graphviz version 6.0.2 (0)\n",
       " -->\n",
       "<!-- Title: Tree Pages: 1 -->\n",
       "<svg width=\"1463pt\" height=\"1205pt\"\n",
       " viewBox=\"0.00 0.00 1463.00 1205.00\" xmlns=\"http://www.w3.org/2000/svg\" xmlns:xlink=\"http://www.w3.org/1999/xlink\">\n",
       "<g id=\"graph0\" class=\"graph\" transform=\"scale(1 1) rotate(0) translate(4 1201)\">\n",
       "<title>Tree</title>\n",
       "<polygon fill=\"white\" stroke=\"none\" points=\"-4,4 -4,-1201 1459,-1201 1459,4 -4,4\"/>\n",
       "<!-- 0 -->\n",
       "<g id=\"node1\" class=\"node\">\n",
       "<title>0</title>\n",
       "<path fill=\"#eca16b\" stroke=\"black\" d=\"M1068.5,-1197C1068.5,-1197 913.5,-1197 913.5,-1197 907.5,-1197 901.5,-1191 901.5,-1185 901.5,-1185 901.5,-1141 901.5,-1141 901.5,-1135 907.5,-1129 913.5,-1129 913.5,-1129 1068.5,-1129 1068.5,-1129 1074.5,-1129 1080.5,-1135 1080.5,-1141 1080.5,-1141 1080.5,-1185 1080.5,-1185 1080.5,-1191 1074.5,-1197 1068.5,-1197\"/>\n",
       "<text text-anchor=\"middle\" x=\"991\" y=\"-1181.8\" font-family=\"Helvetica,sans-Serif\" font-size=\"14.00\">Outside_X_Index &lt;= 0.148</text>\n",
       "<text text-anchor=\"middle\" x=\"991\" y=\"-1166.8\" font-family=\"Helvetica,sans-Serif\" font-size=\"14.00\">entropy = 0.725</text>\n",
       "<text text-anchor=\"middle\" x=\"991\" y=\"-1151.8\" font-family=\"Helvetica,sans-Serif\" font-size=\"14.00\">samples = 1552</text>\n",
       "<text text-anchor=\"middle\" x=\"991\" y=\"-1136.8\" font-family=\"Helvetica,sans-Serif\" font-size=\"14.00\">value = [1239, 313]</text>\n",
       "</g>\n",
       "<!-- 1 -->\n",
       "<g id=\"node2\" class=\"node\">\n",
       "<title>1</title>\n",
       "<path fill=\"#e68641\" stroke=\"black\" d=\"M986,-1093C986,-1093 794,-1093 794,-1093 788,-1093 782,-1087 782,-1081 782,-1081 782,-1037 782,-1037 782,-1031 788,-1025 794,-1025 794,-1025 986,-1025 986,-1025 992,-1025 998,-1031 998,-1037 998,-1037 998,-1081 998,-1081 998,-1087 992,-1093 986,-1093\"/>\n",
       "<text text-anchor=\"middle\" x=\"890\" y=\"-1077.8\" font-family=\"Helvetica,sans-Serif\" font-size=\"14.00\">Steel_Plate_Thickness &lt;= &#45;0.604</text>\n",
       "<text text-anchor=\"middle\" x=\"890\" y=\"-1062.8\" font-family=\"Helvetica,sans-Serif\" font-size=\"14.00\">entropy = 0.242</text>\n",
       "<text text-anchor=\"middle\" x=\"890\" y=\"-1047.8\" font-family=\"Helvetica,sans-Serif\" font-size=\"14.00\">samples = 1252</text>\n",
       "<text text-anchor=\"middle\" x=\"890\" y=\"-1032.8\" font-family=\"Helvetica,sans-Serif\" font-size=\"14.00\">value = [1202, 50]</text>\n",
       "</g>\n",
       "<!-- 0&#45;&gt;1 -->\n",
       "<g id=\"edge1\" class=\"edge\">\n",
       "<title>0&#45;&gt;1</title>\n",
       "<path fill=\"none\" stroke=\"black\" d=\"M958.21,-1128.88C949.3,-1119.89 939.55,-1110.04 930.28,-1100.68\"/>\n",
       "<polygon fill=\"black\" stroke=\"black\" points=\"932.5,-1097.94 922.97,-1093.3 927.52,-1102.87 932.5,-1097.94\"/>\n",
       "<text text-anchor=\"middle\" x=\"922.85\" y=\"-1114.6\" font-family=\"Helvetica,sans-Serif\" font-size=\"14.00\">True</text>\n",
       "</g>\n",
       "<!-- 32 -->\n",
       "<g id=\"node33\" class=\"node\">\n",
       "<title>32</title>\n",
       "<path fill=\"#55abe9\" stroke=\"black\" d=\"M1156,-1093C1156,-1093 1028,-1093 1028,-1093 1022,-1093 1016,-1087 1016,-1081 1016,-1081 1016,-1037 1016,-1037 1016,-1031 1022,-1025 1028,-1025 1028,-1025 1156,-1025 1156,-1025 1162,-1025 1168,-1031 1168,-1037 1168,-1037 1168,-1081 1168,-1081 1168,-1087 1162,-1093 1156,-1093\"/>\n",
       "<text text-anchor=\"middle\" x=\"1092\" y=\"-1077.8\" font-family=\"Helvetica,sans-Serif\" font-size=\"14.00\">X_Minimum &lt;= &#45;0.589</text>\n",
       "<text text-anchor=\"middle\" x=\"1092\" y=\"-1062.8\" font-family=\"Helvetica,sans-Serif\" font-size=\"14.00\">entropy = 0.539</text>\n",
       "<text text-anchor=\"middle\" x=\"1092\" y=\"-1047.8\" font-family=\"Helvetica,sans-Serif\" font-size=\"14.00\">samples = 300</text>\n",
       "<text text-anchor=\"middle\" x=\"1092\" y=\"-1032.8\" font-family=\"Helvetica,sans-Serif\" font-size=\"14.00\">value = [37, 263]</text>\n",
       "</g>\n",
       "<!-- 0&#45;&gt;32 -->\n",
       "<g id=\"edge32\" class=\"edge\">\n",
       "<title>0&#45;&gt;32</title>\n",
       "<path fill=\"none\" stroke=\"black\" d=\"M1023.79,-1128.88C1032.7,-1119.89 1042.45,-1110.04 1051.72,-1100.68\"/>\n",
       "<polygon fill=\"black\" stroke=\"black\" points=\"1054.48,-1102.87 1059.03,-1093.3 1049.5,-1097.94 1054.48,-1102.87\"/>\n",
       "<text text-anchor=\"middle\" x=\"1059.15\" y=\"-1114.6\" font-family=\"Helvetica,sans-Serif\" font-size=\"14.00\">False</text>\n",
       "</g>\n",
       "<!-- 2 -->\n",
       "<g id=\"node3\" class=\"node\">\n",
       "<title>2</title>\n",
       "<path fill=\"#ea9b62\" stroke=\"black\" d=\"M811,-989C811,-989 655,-989 655,-989 649,-989 643,-983 643,-977 643,-977 643,-933 643,-933 643,-927 649,-921 655,-921 655,-921 811,-921 811,-921 817,-921 823,-927 823,-933 823,-933 823,-977 823,-977 823,-983 817,-989 811,-989\"/>\n",
       "<text text-anchor=\"middle\" x=\"733\" y=\"-973.8\" font-family=\"Helvetica,sans-Serif\" font-size=\"14.00\">Luminosity_Index &lt;= 1.647</text>\n",
       "<text text-anchor=\"middle\" x=\"733\" y=\"-958.8\" font-family=\"Helvetica,sans-Serif\" font-size=\"14.00\">entropy = 0.658</text>\n",
       "<text text-anchor=\"middle\" x=\"733\" y=\"-943.8\" font-family=\"Helvetica,sans-Serif\" font-size=\"14.00\">samples = 294</text>\n",
       "<text text-anchor=\"middle\" x=\"733\" y=\"-928.8\" font-family=\"Helvetica,sans-Serif\" font-size=\"14.00\">value = [244, 50]</text>\n",
       "</g>\n",
       "<!-- 1&#45;&gt;2 -->\n",
       "<g id=\"edge2\" class=\"edge\">\n",
       "<title>1&#45;&gt;2</title>\n",
       "<path fill=\"none\" stroke=\"black\" d=\"M839.03,-1024.88C824.14,-1015.21 807.75,-1004.56 792.39,-994.59\"/>\n",
       "<polygon fill=\"black\" stroke=\"black\" points=\"794.28,-991.64 783.99,-989.12 790.46,-997.51 794.28,-991.64\"/>\n",
       "</g>\n",
       "<!-- 31 -->\n",
       "<g id=\"node32\" class=\"node\">\n",
       "<title>31</title>\n",
       "<path fill=\"#e58139\" stroke=\"black\" d=\"M939,-981.5C939,-981.5 853,-981.5 853,-981.5 847,-981.5 841,-975.5 841,-969.5 841,-969.5 841,-940.5 841,-940.5 841,-934.5 847,-928.5 853,-928.5 853,-928.5 939,-928.5 939,-928.5 945,-928.5 951,-934.5 951,-940.5 951,-940.5 951,-969.5 951,-969.5 951,-975.5 945,-981.5 939,-981.5\"/>\n",
       "<text text-anchor=\"middle\" x=\"896\" y=\"-966.3\" font-family=\"Helvetica,sans-Serif\" font-size=\"14.00\">entropy = 0.0</text>\n",
       "<text text-anchor=\"middle\" x=\"896\" y=\"-951.3\" font-family=\"Helvetica,sans-Serif\" font-size=\"14.00\">samples = 958</text>\n",
       "<text text-anchor=\"middle\" x=\"896\" y=\"-936.3\" font-family=\"Helvetica,sans-Serif\" font-size=\"14.00\">value = [958, 0]</text>\n",
       "</g>\n",
       "<!-- 1&#45;&gt;31 -->\n",
       "<g id=\"edge31\" class=\"edge\">\n",
       "<title>1&#45;&gt;31</title>\n",
       "<path fill=\"none\" stroke=\"black\" d=\"M891.95,-1024.88C892.58,-1014.22 893.27,-1002.35 893.91,-991.52\"/>\n",
       "<polygon fill=\"black\" stroke=\"black\" points=\"897.41,-991.71 894.5,-981.52 890.42,-991.3 897.41,-991.71\"/>\n",
       "</g>\n",
       "<!-- 3 -->\n",
       "<g id=\"node4\" class=\"node\">\n",
       "<title>3</title>\n",
       "<path fill=\"#e78d4b\" stroke=\"black\" d=\"M630,-885C630,-885 498,-885 498,-885 492,-885 486,-879 486,-873 486,-873 486,-829 486,-829 486,-823 492,-817 498,-817 498,-817 630,-817 630,-817 636,-817 642,-823 642,-829 642,-829 642,-873 642,-873 642,-879 636,-885 630,-885\"/>\n",
       "<text text-anchor=\"middle\" x=\"564\" y=\"-869.8\" font-family=\"Helvetica,sans-Serif\" font-size=\"14.00\">X_Maximum &lt;= &#45;0.199</text>\n",
       "<text text-anchor=\"middle\" x=\"564\" y=\"-854.8\" font-family=\"Helvetica,sans-Serif\" font-size=\"14.00\">entropy = 0.415</text>\n",
       "<text text-anchor=\"middle\" x=\"564\" y=\"-839.8\" font-family=\"Helvetica,sans-Serif\" font-size=\"14.00\">samples = 263</text>\n",
       "<text text-anchor=\"middle\" x=\"564\" y=\"-824.8\" font-family=\"Helvetica,sans-Serif\" font-size=\"14.00\">value = [241, 22]</text>\n",
       "</g>\n",
       "<!-- 2&#45;&gt;3 -->\n",
       "<g id=\"edge3\" class=\"edge\">\n",
       "<title>2&#45;&gt;3</title>\n",
       "<path fill=\"none\" stroke=\"black\" d=\"M678.13,-920.88C661.96,-911.12 644.14,-900.37 627.47,-890.31\"/>\n",
       "<polygon fill=\"black\" stroke=\"black\" points=\"629.25,-887.3 618.88,-885.12 625.64,-893.29 629.25,-887.3\"/>\n",
       "</g>\n",
       "<!-- 28 -->\n",
       "<g id=\"node29\" class=\"node\">\n",
       "<title>28</title>\n",
       "<path fill=\"#4ea8e8\" stroke=\"black\" d=\"M802,-885C802,-885 672,-885 672,-885 666,-885 660,-879 660,-873 660,-873 660,-829 660,-829 660,-823 666,-817 672,-817 672,-817 802,-817 802,-817 808,-817 814,-823 814,-829 814,-829 814,-873 814,-873 814,-879 808,-885 802,-885\"/>\n",
       "<text text-anchor=\"middle\" x=\"737\" y=\"-869.8\" font-family=\"Helvetica,sans-Serif\" font-size=\"14.00\">Empty_Index &lt;= 0.176</text>\n",
       "<text text-anchor=\"middle\" x=\"737\" y=\"-854.8\" font-family=\"Helvetica,sans-Serif\" font-size=\"14.00\">entropy = 0.459</text>\n",
       "<text text-anchor=\"middle\" x=\"737\" y=\"-839.8\" font-family=\"Helvetica,sans-Serif\" font-size=\"14.00\">samples = 31</text>\n",
       "<text text-anchor=\"middle\" x=\"737\" y=\"-824.8\" font-family=\"Helvetica,sans-Serif\" font-size=\"14.00\">value = [3, 28]</text>\n",
       "</g>\n",
       "<!-- 2&#45;&gt;28 -->\n",
       "<g id=\"edge28\" class=\"edge\">\n",
       "<title>2&#45;&gt;28</title>\n",
       "<path fill=\"none\" stroke=\"black\" d=\"M734.3,-920.88C734.62,-912.78 734.96,-903.98 735.3,-895.47\"/>\n",
       "<polygon fill=\"black\" stroke=\"black\" points=\"738.8,-895.43 735.69,-885.3 731.8,-895.15 738.8,-895.43\"/>\n",
       "</g>\n",
       "<!-- 4 -->\n",
       "<g id=\"node5\" class=\"node\">\n",
       "<title>4</title>\n",
       "<path fill=\"#ea9a61\" stroke=\"black\" d=\"M444,-781C444,-781 286,-781 286,-781 280,-781 274,-775 274,-769 274,-769 274,-725 274,-725 274,-719 280,-713 286,-713 286,-713 444,-713 444,-713 450,-713 456,-719 456,-725 456,-725 456,-769 456,-769 456,-775 450,-781 444,-781\"/>\n",
       "<text text-anchor=\"middle\" x=\"365\" y=\"-765.8\" font-family=\"Helvetica,sans-Serif\" font-size=\"14.00\">Orientation_Index &lt;= 0.493</text>\n",
       "<text text-anchor=\"middle\" x=\"365\" y=\"-750.8\" font-family=\"Helvetica,sans-Serif\" font-size=\"14.00\">entropy = 0.65</text>\n",
       "<text text-anchor=\"middle\" x=\"365\" y=\"-735.8\" font-family=\"Helvetica,sans-Serif\" font-size=\"14.00\">samples = 120</text>\n",
       "<text text-anchor=\"middle\" x=\"365\" y=\"-720.8\" font-family=\"Helvetica,sans-Serif\" font-size=\"14.00\">value = [100, 20]</text>\n",
       "</g>\n",
       "<!-- 3&#45;&gt;4 -->\n",
       "<g id=\"edge4\" class=\"edge\">\n",
       "<title>3&#45;&gt;4</title>\n",
       "<path fill=\"none\" stroke=\"black\" d=\"M499.39,-816.88C480,-806.95 458.59,-795.97 438.66,-785.76\"/>\n",
       "<polygon fill=\"black\" stroke=\"black\" points=\"440.12,-782.57 429.63,-781.12 436.93,-788.8 440.12,-782.57\"/>\n",
       "</g>\n",
       "<!-- 21 -->\n",
       "<g id=\"node22\" class=\"node\">\n",
       "<title>21</title>\n",
       "<path fill=\"#e5833c\" stroke=\"black\" d=\"M647.5,-781C647.5,-781 486.5,-781 486.5,-781 480.5,-781 474.5,-775 474.5,-769 474.5,-769 474.5,-725 474.5,-725 474.5,-719 480.5,-713 486.5,-713 486.5,-713 647.5,-713 647.5,-713 653.5,-713 659.5,-719 659.5,-725 659.5,-725 659.5,-769 659.5,-769 659.5,-775 653.5,-781 647.5,-781\"/>\n",
       "<text text-anchor=\"middle\" x=\"567\" y=\"-765.8\" font-family=\"Helvetica,sans-Serif\" font-size=\"14.00\">Luminosity_Index &lt;= &#45;0.649</text>\n",
       "<text text-anchor=\"middle\" x=\"567\" y=\"-750.8\" font-family=\"Helvetica,sans-Serif\" font-size=\"14.00\">entropy = 0.106</text>\n",
       "<text text-anchor=\"middle\" x=\"567\" y=\"-735.8\" font-family=\"Helvetica,sans-Serif\" font-size=\"14.00\">samples = 143</text>\n",
       "<text text-anchor=\"middle\" x=\"567\" y=\"-720.8\" font-family=\"Helvetica,sans-Serif\" font-size=\"14.00\">value = [141, 2]</text>\n",
       "</g>\n",
       "<!-- 3&#45;&gt;21 -->\n",
       "<g id=\"edge21\" class=\"edge\">\n",
       "<title>3&#45;&gt;21</title>\n",
       "<path fill=\"none\" stroke=\"black\" d=\"M564.97,-816.88C565.21,-808.78 565.47,-799.98 565.72,-791.47\"/>\n",
       "<polygon fill=\"black\" stroke=\"black\" points=\"569.23,-791.4 566.02,-781.3 562.23,-791.19 569.23,-791.4\"/>\n",
       "</g>\n",
       "<!-- 5 -->\n",
       "<g id=\"node6\" class=\"node\">\n",
       "<title>5</title>\n",
       "<path fill=\"#eeaf81\" stroke=\"black\" d=\"M288,-677C288,-677 156,-677 156,-677 150,-677 144,-671 144,-665 144,-665 144,-621 144,-621 144,-615 150,-609 156,-609 156,-609 288,-609 288,-609 294,-609 300,-615 300,-621 300,-621 300,-665 300,-665 300,-671 294,-677 288,-677\"/>\n",
       "<text text-anchor=\"middle\" x=\"222\" y=\"-661.8\" font-family=\"Helvetica,sans-Serif\" font-size=\"14.00\">Y_Maximum &lt;= &#45;0.848</text>\n",
       "<text text-anchor=\"middle\" x=\"222\" y=\"-646.8\" font-family=\"Helvetica,sans-Serif\" font-size=\"14.00\">entropy = 0.837</text>\n",
       "<text text-anchor=\"middle\" x=\"222\" y=\"-631.8\" font-family=\"Helvetica,sans-Serif\" font-size=\"14.00\">samples = 75</text>\n",
       "<text text-anchor=\"middle\" x=\"222\" y=\"-616.8\" font-family=\"Helvetica,sans-Serif\" font-size=\"14.00\">value = [55, 20]</text>\n",
       "</g>\n",
       "<!-- 4&#45;&gt;5 -->\n",
       "<g id=\"edge5\" class=\"edge\">\n",
       "<title>4&#45;&gt;5</title>\n",
       "<path fill=\"none\" stroke=\"black\" d=\"M318.57,-712.88C305.33,-703.44 290.79,-693.06 277.09,-683.29\"/>\n",
       "<polygon fill=\"black\" stroke=\"black\" points=\"278.86,-680.26 268.68,-677.3 274.79,-685.96 278.86,-680.26\"/>\n",
       "</g>\n",
       "<!-- 20 -->\n",
       "<g id=\"node21\" class=\"node\">\n",
       "<title>20</title>\n",
       "<path fill=\"#e58139\" stroke=\"black\" d=\"M408,-669.5C408,-669.5 330,-669.5 330,-669.5 324,-669.5 318,-663.5 318,-657.5 318,-657.5 318,-628.5 318,-628.5 318,-622.5 324,-616.5 330,-616.5 330,-616.5 408,-616.5 408,-616.5 414,-616.5 420,-622.5 420,-628.5 420,-628.5 420,-657.5 420,-657.5 420,-663.5 414,-669.5 408,-669.5\"/>\n",
       "<text text-anchor=\"middle\" x=\"369\" y=\"-654.3\" font-family=\"Helvetica,sans-Serif\" font-size=\"14.00\">entropy = 0.0</text>\n",
       "<text text-anchor=\"middle\" x=\"369\" y=\"-639.3\" font-family=\"Helvetica,sans-Serif\" font-size=\"14.00\">samples = 45</text>\n",
       "<text text-anchor=\"middle\" x=\"369\" y=\"-624.3\" font-family=\"Helvetica,sans-Serif\" font-size=\"14.00\">value = [45, 0]</text>\n",
       "</g>\n",
       "<!-- 4&#45;&gt;20 -->\n",
       "<g id=\"edge20\" class=\"edge\">\n",
       "<title>4&#45;&gt;20</title>\n",
       "<path fill=\"none\" stroke=\"black\" d=\"M366.3,-712.88C366.72,-702.22 367.18,-690.35 367.61,-679.52\"/>\n",
       "<polygon fill=\"black\" stroke=\"black\" points=\"371.1,-679.65 368,-669.52 364.11,-679.38 371.1,-679.65\"/>\n",
       "</g>\n",
       "<!-- 6 -->\n",
       "<g id=\"node7\" class=\"node\">\n",
       "<title>6</title>\n",
       "<path fill=\"#399de5\" stroke=\"black\" d=\"M119,-565.5C119,-565.5 47,-565.5 47,-565.5 41,-565.5 35,-559.5 35,-553.5 35,-553.5 35,-524.5 35,-524.5 35,-518.5 41,-512.5 47,-512.5 47,-512.5 119,-512.5 119,-512.5 125,-512.5 131,-518.5 131,-524.5 131,-524.5 131,-553.5 131,-553.5 131,-559.5 125,-565.5 119,-565.5\"/>\n",
       "<text text-anchor=\"middle\" x=\"83\" y=\"-550.3\" font-family=\"Helvetica,sans-Serif\" font-size=\"14.00\">entropy = 0.0</text>\n",
       "<text text-anchor=\"middle\" x=\"83\" y=\"-535.3\" font-family=\"Helvetica,sans-Serif\" font-size=\"14.00\">samples = 6</text>\n",
       "<text text-anchor=\"middle\" x=\"83\" y=\"-520.3\" font-family=\"Helvetica,sans-Serif\" font-size=\"14.00\">value = [0, 6]</text>\n",
       "</g>\n",
       "<!-- 5&#45;&gt;6 -->\n",
       "<g id=\"edge6\" class=\"edge\">\n",
       "<title>5&#45;&gt;6</title>\n",
       "<path fill=\"none\" stroke=\"black\" d=\"M176.87,-608.88C160.53,-596.9 142.14,-583.4 125.99,-571.55\"/>\n",
       "<polygon fill=\"black\" stroke=\"black\" points=\"127.91,-568.61 117.78,-565.52 123.77,-574.26 127.91,-568.61\"/>\n",
       "</g>\n",
       "<!-- 7 -->\n",
       "<g id=\"node8\" class=\"node\">\n",
       "<title>7</title>\n",
       "<path fill=\"#eca16b\" stroke=\"black\" d=\"M293,-573C293,-573 161,-573 161,-573 155,-573 149,-567 149,-561 149,-561 149,-517 149,-517 149,-511 155,-505 161,-505 161,-505 293,-505 293,-505 299,-505 305,-511 305,-517 305,-517 305,-561 305,-561 305,-567 299,-573 293,-573\"/>\n",
       "<text text-anchor=\"middle\" x=\"227\" y=\"-557.8\" font-family=\"Helvetica,sans-Serif\" font-size=\"14.00\">X_Maximum &lt;= &#45;0.857</text>\n",
       "<text text-anchor=\"middle\" x=\"227\" y=\"-542.8\" font-family=\"Helvetica,sans-Serif\" font-size=\"14.00\">entropy = 0.728</text>\n",
       "<text text-anchor=\"middle\" x=\"227\" y=\"-527.8\" font-family=\"Helvetica,sans-Serif\" font-size=\"14.00\">samples = 69</text>\n",
       "<text text-anchor=\"middle\" x=\"227\" y=\"-512.8\" font-family=\"Helvetica,sans-Serif\" font-size=\"14.00\">value = [55, 14]</text>\n",
       "</g>\n",
       "<!-- 5&#45;&gt;7 -->\n",
       "<g id=\"edge7\" class=\"edge\">\n",
       "<title>5&#45;&gt;7</title>\n",
       "<path fill=\"none\" stroke=\"black\" d=\"M223.62,-608.88C224.02,-600.78 224.45,-591.98 224.87,-583.47\"/>\n",
       "<polygon fill=\"black\" stroke=\"black\" points=\"228.37,-583.46 225.37,-573.3 221.38,-583.12 228.37,-583.46\"/>\n",
       "</g>\n",
       "<!-- 8 -->\n",
       "<g id=\"node9\" class=\"node\">\n",
       "<title>8</title>\n",
       "<path fill=\"#f4c8a9\" stroke=\"black\" d=\"M281,-469C281,-469 125,-469 125,-469 119,-469 113,-463 113,-457 113,-457 113,-413 113,-413 113,-407 119,-401 125,-401 125,-401 281,-401 281,-401 287,-401 293,-407 293,-413 293,-413 293,-457 293,-457 293,-463 287,-469 281,-469\"/>\n",
       "<text text-anchor=\"middle\" x=\"203\" y=\"-453.8\" font-family=\"Helvetica,sans-Serif\" font-size=\"14.00\">Luminosity_Index &lt;= 0.506</text>\n",
       "<text text-anchor=\"middle\" x=\"203\" y=\"-438.8\" font-family=\"Helvetica,sans-Serif\" font-size=\"14.00\">entropy = 0.944</text>\n",
       "<text text-anchor=\"middle\" x=\"203\" y=\"-423.8\" font-family=\"Helvetica,sans-Serif\" font-size=\"14.00\">samples = 36</text>\n",
       "<text text-anchor=\"middle\" x=\"203\" y=\"-408.8\" font-family=\"Helvetica,sans-Serif\" font-size=\"14.00\">value = [23, 13]</text>\n",
       "</g>\n",
       "<!-- 7&#45;&gt;8 -->\n",
       "<g id=\"edge8\" class=\"edge\">\n",
       "<title>7&#45;&gt;8</title>\n",
       "<path fill=\"none\" stroke=\"black\" d=\"M219.21,-504.88C217.28,-496.69 215.19,-487.79 213.16,-479.19\"/>\n",
       "<polygon fill=\"black\" stroke=\"black\" points=\"216.53,-478.23 210.84,-469.3 209.72,-479.84 216.53,-478.23\"/>\n",
       "</g>\n",
       "<!-- 17 -->\n",
       "<g id=\"node18\" class=\"node\">\n",
       "<title>17</title>\n",
       "<path fill=\"#e6853f\" stroke=\"black\" d=\"M452.5,-469C452.5,-469 323.5,-469 323.5,-469 317.5,-469 311.5,-463 311.5,-457 311.5,-457 311.5,-413 311.5,-413 311.5,-407 317.5,-401 323.5,-401 323.5,-401 452.5,-401 452.5,-401 458.5,-401 464.5,-407 464.5,-413 464.5,-413 464.5,-457 464.5,-457 464.5,-463 458.5,-469 452.5,-469\"/>\n",
       "<text text-anchor=\"middle\" x=\"388\" y=\"-453.8\" font-family=\"Helvetica,sans-Serif\" font-size=\"14.00\">Edges_Index &lt;= 0.891</text>\n",
       "<text text-anchor=\"middle\" x=\"388\" y=\"-438.8\" font-family=\"Helvetica,sans-Serif\" font-size=\"14.00\">entropy = 0.196</text>\n",
       "<text text-anchor=\"middle\" x=\"388\" y=\"-423.8\" font-family=\"Helvetica,sans-Serif\" font-size=\"14.00\">samples = 33</text>\n",
       "<text text-anchor=\"middle\" x=\"388\" y=\"-408.8\" font-family=\"Helvetica,sans-Serif\" font-size=\"14.00\">value = [32, 1]</text>\n",
       "</g>\n",
       "<!-- 7&#45;&gt;17 -->\n",
       "<g id=\"edge17\" class=\"edge\">\n",
       "<title>7&#45;&gt;17</title>\n",
       "<path fill=\"none\" stroke=\"black\" d=\"M279.27,-504.88C294.53,-495.21 311.35,-484.56 327.09,-474.59\"/>\n",
       "<polygon fill=\"black\" stroke=\"black\" points=\"329.14,-477.43 335.71,-469.12 325.39,-471.52 329.14,-477.43\"/>\n",
       "</g>\n",
       "<!-- 9 -->\n",
       "<g id=\"node10\" class=\"node\">\n",
       "<title>9</title>\n",
       "<path fill=\"#e58139\" stroke=\"black\" d=\"M90,-357.5C90,-357.5 12,-357.5 12,-357.5 6,-357.5 0,-351.5 0,-345.5 0,-345.5 0,-316.5 0,-316.5 0,-310.5 6,-304.5 12,-304.5 12,-304.5 90,-304.5 90,-304.5 96,-304.5 102,-310.5 102,-316.5 102,-316.5 102,-345.5 102,-345.5 102,-351.5 96,-357.5 90,-357.5\"/>\n",
       "<text text-anchor=\"middle\" x=\"51\" y=\"-342.3\" font-family=\"Helvetica,sans-Serif\" font-size=\"14.00\">entropy = 0.0</text>\n",
       "<text text-anchor=\"middle\" x=\"51\" y=\"-327.3\" font-family=\"Helvetica,sans-Serif\" font-size=\"14.00\">samples = 13</text>\n",
       "<text text-anchor=\"middle\" x=\"51\" y=\"-312.3\" font-family=\"Helvetica,sans-Serif\" font-size=\"14.00\">value = [13, 0]</text>\n",
       "</g>\n",
       "<!-- 8&#45;&gt;9 -->\n",
       "<g id=\"edge9\" class=\"edge\">\n",
       "<title>8&#45;&gt;9</title>\n",
       "<path fill=\"none\" stroke=\"black\" d=\"M153.65,-400.88C135.62,-388.79 115.3,-375.15 97.53,-363.22\"/>\n",
       "<polygon fill=\"black\" stroke=\"black\" points=\"99.28,-360.19 89.03,-357.52 95.38,-366 99.28,-360.19\"/>\n",
       "</g>\n",
       "<!-- 10 -->\n",
       "<g id=\"node11\" class=\"node\">\n",
       "<title>10</title>\n",
       "<path fill=\"#d1e8f9\" stroke=\"black\" d=\"M288,-365C288,-365 132,-365 132,-365 126,-365 120,-359 120,-353 120,-353 120,-309 120,-309 120,-303 126,-297 132,-297 132,-297 288,-297 288,-297 294,-297 300,-303 300,-309 300,-309 300,-353 300,-353 300,-359 294,-365 288,-365\"/>\n",
       "<text text-anchor=\"middle\" x=\"210\" y=\"-349.8\" font-family=\"Helvetica,sans-Serif\" font-size=\"14.00\">Luminosity_Index &lt;= 0.678</text>\n",
       "<text text-anchor=\"middle\" x=\"210\" y=\"-334.8\" font-family=\"Helvetica,sans-Serif\" font-size=\"14.00\">entropy = 0.988</text>\n",
       "<text text-anchor=\"middle\" x=\"210\" y=\"-319.8\" font-family=\"Helvetica,sans-Serif\" font-size=\"14.00\">samples = 23</text>\n",
       "<text text-anchor=\"middle\" x=\"210\" y=\"-304.8\" font-family=\"Helvetica,sans-Serif\" font-size=\"14.00\">value = [10, 13]</text>\n",
       "</g>\n",
       "<!-- 8&#45;&gt;10 -->\n",
       "<g id=\"edge10\" class=\"edge\">\n",
       "<title>8&#45;&gt;10</title>\n",
       "<path fill=\"none\" stroke=\"black\" d=\"M205.27,-400.88C205.83,-392.78 206.43,-383.98 207.02,-375.47\"/>\n",
       "<polygon fill=\"black\" stroke=\"black\" points=\"210.52,-375.52 207.71,-365.3 203.54,-375.04 210.52,-375.52\"/>\n",
       "</g>\n",
       "<!-- 11 -->\n",
       "<g id=\"node12\" class=\"node\">\n",
       "<title>11</title>\n",
       "<path fill=\"#399de5\" stroke=\"black\" d=\"M162,-253.5C162,-253.5 90,-253.5 90,-253.5 84,-253.5 78,-247.5 78,-241.5 78,-241.5 78,-212.5 78,-212.5 78,-206.5 84,-200.5 90,-200.5 90,-200.5 162,-200.5 162,-200.5 168,-200.5 174,-206.5 174,-212.5 174,-212.5 174,-241.5 174,-241.5 174,-247.5 168,-253.5 162,-253.5\"/>\n",
       "<text text-anchor=\"middle\" x=\"126\" y=\"-238.3\" font-family=\"Helvetica,sans-Serif\" font-size=\"14.00\">entropy = 0.0</text>\n",
       "<text text-anchor=\"middle\" x=\"126\" y=\"-223.3\" font-family=\"Helvetica,sans-Serif\" font-size=\"14.00\">samples = 7</text>\n",
       "<text text-anchor=\"middle\" x=\"126\" y=\"-208.3\" font-family=\"Helvetica,sans-Serif\" font-size=\"14.00\">value = [0, 7]</text>\n",
       "</g>\n",
       "<!-- 10&#45;&gt;11 -->\n",
       "<g id=\"edge11\" class=\"edge\">\n",
       "<title>10&#45;&gt;11</title>\n",
       "<path fill=\"none\" stroke=\"black\" d=\"M182.73,-296.88C173.4,-285.56 162.96,-272.88 153.61,-261.52\"/>\n",
       "<polygon fill=\"black\" stroke=\"black\" points=\"156.08,-259.01 147.02,-253.52 150.67,-263.46 156.08,-259.01\"/>\n",
       "</g>\n",
       "<!-- 12 -->\n",
       "<g id=\"node13\" class=\"node\">\n",
       "<title>12</title>\n",
       "<path fill=\"#f5cdb0\" stroke=\"black\" d=\"M384,-261C384,-261 204,-261 204,-261 198,-261 192,-255 192,-249 192,-249 192,-205 192,-205 192,-199 198,-193 204,-193 204,-193 384,-193 384,-193 390,-193 396,-199 396,-205 396,-205 396,-249 396,-249 396,-255 390,-261 384,-261\"/>\n",
       "<text text-anchor=\"middle\" x=\"294\" y=\"-245.8\" font-family=\"Helvetica,sans-Serif\" font-size=\"14.00\">Length_of_Conveyer &lt;= &#45;0.502</text>\n",
       "<text text-anchor=\"middle\" x=\"294\" y=\"-230.8\" font-family=\"Helvetica,sans-Serif\" font-size=\"14.00\">entropy = 0.954</text>\n",
       "<text text-anchor=\"middle\" x=\"294\" y=\"-215.8\" font-family=\"Helvetica,sans-Serif\" font-size=\"14.00\">samples = 16</text>\n",
       "<text text-anchor=\"middle\" x=\"294\" y=\"-200.8\" font-family=\"Helvetica,sans-Serif\" font-size=\"14.00\">value = [10, 6]</text>\n",
       "</g>\n",
       "<!-- 10&#45;&gt;12 -->\n",
       "<g id=\"edge12\" class=\"edge\">\n",
       "<title>10&#45;&gt;12</title>\n",
       "<path fill=\"none\" stroke=\"black\" d=\"M237.27,-296.88C244.53,-288.07 252.47,-278.43 260.04,-269.24\"/>\n",
       "<polygon fill=\"black\" stroke=\"black\" points=\"262.92,-271.24 266.58,-261.3 257.52,-266.79 262.92,-271.24\"/>\n",
       "</g>\n",
       "<!-- 13 -->\n",
       "<g id=\"node14\" class=\"node\">\n",
       "<title>13</title>\n",
       "<path fill=\"#e88e4d\" stroke=\"black\" d=\"M298.5,-157C298.5,-157 123.5,-157 123.5,-157 117.5,-157 111.5,-151 111.5,-145 111.5,-145 111.5,-101 111.5,-101 111.5,-95 117.5,-89 123.5,-89 123.5,-89 298.5,-89 298.5,-89 304.5,-89 310.5,-95 310.5,-101 310.5,-101 310.5,-145 310.5,-145 310.5,-151 304.5,-157 298.5,-157\"/>\n",
       "<text text-anchor=\"middle\" x=\"211\" y=\"-141.8\" font-family=\"Helvetica,sans-Serif\" font-size=\"14.00\">Sum_of_Luminosity &lt;= &#45;0.381</text>\n",
       "<text text-anchor=\"middle\" x=\"211\" y=\"-126.8\" font-family=\"Helvetica,sans-Serif\" font-size=\"14.00\">entropy = 0.439</text>\n",
       "<text text-anchor=\"middle\" x=\"211\" y=\"-111.8\" font-family=\"Helvetica,sans-Serif\" font-size=\"14.00\">samples = 11</text>\n",
       "<text text-anchor=\"middle\" x=\"211\" y=\"-96.8\" font-family=\"Helvetica,sans-Serif\" font-size=\"14.00\">value = [10, 1]</text>\n",
       "</g>\n",
       "<!-- 12&#45;&gt;13 -->\n",
       "<g id=\"edge13\" class=\"edge\">\n",
       "<title>12&#45;&gt;13</title>\n",
       "<path fill=\"none\" stroke=\"black\" d=\"M267.05,-192.88C259.88,-184.07 252.04,-174.43 244.55,-165.24\"/>\n",
       "<polygon fill=\"black\" stroke=\"black\" points=\"247.12,-162.85 238.1,-157.3 241.69,-167.26 247.12,-162.85\"/>\n",
       "</g>\n",
       "<!-- 16 -->\n",
       "<g id=\"node17\" class=\"node\">\n",
       "<title>16</title>\n",
       "<path fill=\"#399de5\" stroke=\"black\" d=\"M413,-149.5C413,-149.5 341,-149.5 341,-149.5 335,-149.5 329,-143.5 329,-137.5 329,-137.5 329,-108.5 329,-108.5 329,-102.5 335,-96.5 341,-96.5 341,-96.5 413,-96.5 413,-96.5 419,-96.5 425,-102.5 425,-108.5 425,-108.5 425,-137.5 425,-137.5 425,-143.5 419,-149.5 413,-149.5\"/>\n",
       "<text text-anchor=\"middle\" x=\"377\" y=\"-134.3\" font-family=\"Helvetica,sans-Serif\" font-size=\"14.00\">entropy = 0.0</text>\n",
       "<text text-anchor=\"middle\" x=\"377\" y=\"-119.3\" font-family=\"Helvetica,sans-Serif\" font-size=\"14.00\">samples = 5</text>\n",
       "<text text-anchor=\"middle\" x=\"377\" y=\"-104.3\" font-family=\"Helvetica,sans-Serif\" font-size=\"14.00\">value = [0, 5]</text>\n",
       "</g>\n",
       "<!-- 12&#45;&gt;16 -->\n",
       "<g id=\"edge16\" class=\"edge\">\n",
       "<title>12&#45;&gt;16</title>\n",
       "<path fill=\"none\" stroke=\"black\" d=\"M320.95,-192.88C330.17,-181.56 340.48,-168.88 349.72,-157.52\"/>\n",
       "<polygon fill=\"black\" stroke=\"black\" points=\"352.64,-159.49 356.23,-149.52 347.21,-155.07 352.64,-159.49\"/>\n",
       "</g>\n",
       "<!-- 14 -->\n",
       "<g id=\"node15\" class=\"node\">\n",
       "<title>14</title>\n",
       "<path fill=\"#399de5\" stroke=\"black\" d=\"M189,-53C189,-53 117,-53 117,-53 111,-53 105,-47 105,-41 105,-41 105,-12 105,-12 105,-6 111,0 117,0 117,0 189,0 189,0 195,0 201,-6 201,-12 201,-12 201,-41 201,-41 201,-47 195,-53 189,-53\"/>\n",
       "<text text-anchor=\"middle\" x=\"153\" y=\"-37.8\" font-family=\"Helvetica,sans-Serif\" font-size=\"14.00\">entropy = 0.0</text>\n",
       "<text text-anchor=\"middle\" x=\"153\" y=\"-22.8\" font-family=\"Helvetica,sans-Serif\" font-size=\"14.00\">samples = 1</text>\n",
       "<text text-anchor=\"middle\" x=\"153\" y=\"-7.8\" font-family=\"Helvetica,sans-Serif\" font-size=\"14.00\">value = [0, 1]</text>\n",
       "</g>\n",
       "<!-- 13&#45;&gt;14 -->\n",
       "<g id=\"edge14\" class=\"edge\">\n",
       "<title>13&#45;&gt;14</title>\n",
       "<path fill=\"none\" stroke=\"black\" d=\"M190.71,-88.95C185.32,-80.17 179.49,-70.66 174.06,-61.82\"/>\n",
       "<polygon fill=\"black\" stroke=\"black\" points=\"177.01,-59.93 168.8,-53.24 171.04,-63.59 177.01,-59.93\"/>\n",
       "</g>\n",
       "<!-- 15 -->\n",
       "<g id=\"node16\" class=\"node\">\n",
       "<title>15</title>\n",
       "<path fill=\"#e58139\" stroke=\"black\" d=\"M309,-53C309,-53 231,-53 231,-53 225,-53 219,-47 219,-41 219,-41 219,-12 219,-12 219,-6 225,0 231,0 231,0 309,0 309,0 315,0 321,-6 321,-12 321,-12 321,-41 321,-41 321,-47 315,-53 309,-53\"/>\n",
       "<text text-anchor=\"middle\" x=\"270\" y=\"-37.8\" font-family=\"Helvetica,sans-Serif\" font-size=\"14.00\">entropy = 0.0</text>\n",
       "<text text-anchor=\"middle\" x=\"270\" y=\"-22.8\" font-family=\"Helvetica,sans-Serif\" font-size=\"14.00\">samples = 10</text>\n",
       "<text text-anchor=\"middle\" x=\"270\" y=\"-7.8\" font-family=\"Helvetica,sans-Serif\" font-size=\"14.00\">value = [10, 0]</text>\n",
       "</g>\n",
       "<!-- 13&#45;&gt;15 -->\n",
       "<g id=\"edge15\" class=\"edge\">\n",
       "<title>13&#45;&gt;15</title>\n",
       "<path fill=\"none\" stroke=\"black\" d=\"M231.64,-88.95C237.12,-80.17 243.05,-70.66 248.58,-61.82\"/>\n",
       "<polygon fill=\"black\" stroke=\"black\" points=\"251.6,-63.57 253.93,-53.24 245.67,-59.87 251.6,-63.57\"/>\n",
       "</g>\n",
       "<!-- 18 -->\n",
       "<g id=\"node19\" class=\"node\">\n",
       "<title>18</title>\n",
       "<path fill=\"#e58139\" stroke=\"black\" d=\"M421,-357.5C421,-357.5 343,-357.5 343,-357.5 337,-357.5 331,-351.5 331,-345.5 331,-345.5 331,-316.5 331,-316.5 331,-310.5 337,-304.5 343,-304.5 343,-304.5 421,-304.5 421,-304.5 427,-304.5 433,-310.5 433,-316.5 433,-316.5 433,-345.5 433,-345.5 433,-351.5 427,-357.5 421,-357.5\"/>\n",
       "<text text-anchor=\"middle\" x=\"382\" y=\"-342.3\" font-family=\"Helvetica,sans-Serif\" font-size=\"14.00\">entropy = 0.0</text>\n",
       "<text text-anchor=\"middle\" x=\"382\" y=\"-327.3\" font-family=\"Helvetica,sans-Serif\" font-size=\"14.00\">samples = 30</text>\n",
       "<text text-anchor=\"middle\" x=\"382\" y=\"-312.3\" font-family=\"Helvetica,sans-Serif\" font-size=\"14.00\">value = [30, 0]</text>\n",
       "</g>\n",
       "<!-- 17&#45;&gt;18 -->\n",
       "<g id=\"edge18\" class=\"edge\">\n",
       "<title>17&#45;&gt;18</title>\n",
       "<path fill=\"none\" stroke=\"black\" d=\"M386.05,-400.88C385.42,-390.22 384.73,-378.35 384.09,-367.52\"/>\n",
       "<polygon fill=\"black\" stroke=\"black\" points=\"387.58,-367.3 383.5,-357.52 380.59,-367.71 387.58,-367.3\"/>\n",
       "</g>\n",
       "<!-- 19 -->\n",
       "<g id=\"node20\" class=\"node\">\n",
       "<title>19</title>\n",
       "<path fill=\"#f2c09c\" stroke=\"black\" d=\"M550.5,-357.5C550.5,-357.5 463.5,-357.5 463.5,-357.5 457.5,-357.5 451.5,-351.5 451.5,-345.5 451.5,-345.5 451.5,-316.5 451.5,-316.5 451.5,-310.5 457.5,-304.5 463.5,-304.5 463.5,-304.5 550.5,-304.5 550.5,-304.5 556.5,-304.5 562.5,-310.5 562.5,-316.5 562.5,-316.5 562.5,-345.5 562.5,-345.5 562.5,-351.5 556.5,-357.5 550.5,-357.5\"/>\n",
       "<text text-anchor=\"middle\" x=\"507\" y=\"-342.3\" font-family=\"Helvetica,sans-Serif\" font-size=\"14.00\">entropy = 0.918</text>\n",
       "<text text-anchor=\"middle\" x=\"507\" y=\"-327.3\" font-family=\"Helvetica,sans-Serif\" font-size=\"14.00\">samples = 3</text>\n",
       "<text text-anchor=\"middle\" x=\"507\" y=\"-312.3\" font-family=\"Helvetica,sans-Serif\" font-size=\"14.00\">value = [2, 1]</text>\n",
       "</g>\n",
       "<!-- 17&#45;&gt;19 -->\n",
       "<g id=\"edge19\" class=\"edge\">\n",
       "<title>17&#45;&gt;19</title>\n",
       "<path fill=\"none\" stroke=\"black\" d=\"M426.64,-400.88C440.36,-389.12 455.79,-375.89 469.43,-364.2\"/>\n",
       "<polygon fill=\"black\" stroke=\"black\" points=\"471.91,-366.69 477.23,-357.52 467.36,-361.37 471.91,-366.69\"/>\n",
       "</g>\n",
       "<!-- 22 -->\n",
       "<g id=\"node23\" class=\"node\">\n",
       "<title>22</title>\n",
       "<path fill=\"#ea9a61\" stroke=\"black\" d=\"M619,-677C619,-677 485,-677 485,-677 479,-677 473,-671 473,-665 473,-665 473,-621 473,-621 473,-615 479,-609 485,-609 485,-609 619,-609 619,-609 625,-609 631,-615 631,-621 631,-621 631,-665 631,-665 631,-671 625,-677 619,-677\"/>\n",
       "<text text-anchor=\"middle\" x=\"552\" y=\"-661.8\" font-family=\"Helvetica,sans-Serif\" font-size=\"14.00\">Square_Index &lt;= 1.085</text>\n",
       "<text text-anchor=\"middle\" x=\"552\" y=\"-646.8\" font-family=\"Helvetica,sans-Serif\" font-size=\"14.00\">entropy = 0.65</text>\n",
       "<text text-anchor=\"middle\" x=\"552\" y=\"-631.8\" font-family=\"Helvetica,sans-Serif\" font-size=\"14.00\">samples = 12</text>\n",
       "<text text-anchor=\"middle\" x=\"552\" y=\"-616.8\" font-family=\"Helvetica,sans-Serif\" font-size=\"14.00\">value = [10, 2]</text>\n",
       "</g>\n",
       "<!-- 21&#45;&gt;22 -->\n",
       "<g id=\"edge22\" class=\"edge\">\n",
       "<title>21&#45;&gt;22</title>\n",
       "<path fill=\"none\" stroke=\"black\" d=\"M562.13,-712.88C560.94,-704.78 559.64,-695.98 558.39,-687.47\"/>\n",
       "<polygon fill=\"black\" stroke=\"black\" points=\"561.81,-686.68 556.9,-677.3 554.89,-687.7 561.81,-686.68\"/>\n",
       "</g>\n",
       "<!-- 27 -->\n",
       "<g id=\"node28\" class=\"node\">\n",
       "<title>27</title>\n",
       "<path fill=\"#e58139\" stroke=\"black\" d=\"M747,-669.5C747,-669.5 661,-669.5 661,-669.5 655,-669.5 649,-663.5 649,-657.5 649,-657.5 649,-628.5 649,-628.5 649,-622.5 655,-616.5 661,-616.5 661,-616.5 747,-616.5 747,-616.5 753,-616.5 759,-622.5 759,-628.5 759,-628.5 759,-657.5 759,-657.5 759,-663.5 753,-669.5 747,-669.5\"/>\n",
       "<text text-anchor=\"middle\" x=\"704\" y=\"-654.3\" font-family=\"Helvetica,sans-Serif\" font-size=\"14.00\">entropy = 0.0</text>\n",
       "<text text-anchor=\"middle\" x=\"704\" y=\"-639.3\" font-family=\"Helvetica,sans-Serif\" font-size=\"14.00\">samples = 131</text>\n",
       "<text text-anchor=\"middle\" x=\"704\" y=\"-624.3\" font-family=\"Helvetica,sans-Serif\" font-size=\"14.00\">value = [131, 0]</text>\n",
       "</g>\n",
       "<!-- 21&#45;&gt;27 -->\n",
       "<g id=\"edge27\" class=\"edge\">\n",
       "<title>21&#45;&gt;27</title>\n",
       "<path fill=\"none\" stroke=\"black\" d=\"M611.48,-712.88C627.58,-700.9 645.71,-687.4 661.62,-675.55\"/>\n",
       "<polygon fill=\"black\" stroke=\"black\" points=\"663.79,-678.3 669.72,-669.52 659.61,-672.68 663.79,-678.3\"/>\n",
       "</g>\n",
       "<!-- 23 -->\n",
       "<g id=\"node24\" class=\"node\">\n",
       "<title>23</title>\n",
       "<path fill=\"#e88e4d\" stroke=\"black\" d=\"M607,-573C607,-573 483,-573 483,-573 477,-573 471,-567 471,-561 471,-561 471,-517 471,-517 471,-511 477,-505 483,-505 483,-505 607,-505 607,-505 613,-505 619,-511 619,-517 619,-517 619,-561 619,-561 619,-567 613,-573 607,-573\"/>\n",
       "<text text-anchor=\"middle\" x=\"545\" y=\"-557.8\" font-family=\"Helvetica,sans-Serif\" font-size=\"14.00\">Y_Minimum &lt;= 0.593</text>\n",
       "<text text-anchor=\"middle\" x=\"545\" y=\"-542.8\" font-family=\"Helvetica,sans-Serif\" font-size=\"14.00\">entropy = 0.439</text>\n",
       "<text text-anchor=\"middle\" x=\"545\" y=\"-527.8\" font-family=\"Helvetica,sans-Serif\" font-size=\"14.00\">samples = 11</text>\n",
       "<text text-anchor=\"middle\" x=\"545\" y=\"-512.8\" font-family=\"Helvetica,sans-Serif\" font-size=\"14.00\">value = [10, 1]</text>\n",
       "</g>\n",
       "<!-- 22&#45;&gt;23 -->\n",
       "<g id=\"edge23\" class=\"edge\">\n",
       "<title>22&#45;&gt;23</title>\n",
       "<path fill=\"none\" stroke=\"black\" d=\"M549.73,-608.88C549.17,-600.78 548.57,-591.98 547.98,-583.47\"/>\n",
       "<polygon fill=\"black\" stroke=\"black\" points=\"551.46,-583.04 547.29,-573.3 544.48,-583.52 551.46,-583.04\"/>\n",
       "</g>\n",
       "<!-- 26 -->\n",
       "<g id=\"node27\" class=\"node\">\n",
       "<title>26</title>\n",
       "<path fill=\"#399de5\" stroke=\"black\" d=\"M721,-565.5C721,-565.5 649,-565.5 649,-565.5 643,-565.5 637,-559.5 637,-553.5 637,-553.5 637,-524.5 637,-524.5 637,-518.5 643,-512.5 649,-512.5 649,-512.5 721,-512.5 721,-512.5 727,-512.5 733,-518.5 733,-524.5 733,-524.5 733,-553.5 733,-553.5 733,-559.5 727,-565.5 721,-565.5\"/>\n",
       "<text text-anchor=\"middle\" x=\"685\" y=\"-550.3\" font-family=\"Helvetica,sans-Serif\" font-size=\"14.00\">entropy = 0.0</text>\n",
       "<text text-anchor=\"middle\" x=\"685\" y=\"-535.3\" font-family=\"Helvetica,sans-Serif\" font-size=\"14.00\">samples = 1</text>\n",
       "<text text-anchor=\"middle\" x=\"685\" y=\"-520.3\" font-family=\"Helvetica,sans-Serif\" font-size=\"14.00\">value = [0, 1]</text>\n",
       "</g>\n",
       "<!-- 22&#45;&gt;26 -->\n",
       "<g id=\"edge26\" class=\"edge\">\n",
       "<title>22&#45;&gt;26</title>\n",
       "<path fill=\"none\" stroke=\"black\" d=\"M595.18,-608.88C610.67,-597.01 628.09,-583.65 643.44,-571.88\"/>\n",
       "<polygon fill=\"black\" stroke=\"black\" points=\"645.92,-574.38 651.72,-565.52 641.66,-568.83 645.92,-574.38\"/>\n",
       "</g>\n",
       "<!-- 24 -->\n",
       "<g id=\"node25\" class=\"node\">\n",
       "<title>24</title>\n",
       "<path fill=\"#e58139\" stroke=\"black\" d=\"M577,-461.5C577,-461.5 505,-461.5 505,-461.5 499,-461.5 493,-455.5 493,-449.5 493,-449.5 493,-420.5 493,-420.5 493,-414.5 499,-408.5 505,-408.5 505,-408.5 577,-408.5 577,-408.5 583,-408.5 589,-414.5 589,-420.5 589,-420.5 589,-449.5 589,-449.5 589,-455.5 583,-461.5 577,-461.5\"/>\n",
       "<text text-anchor=\"middle\" x=\"541\" y=\"-446.3\" font-family=\"Helvetica,sans-Serif\" font-size=\"14.00\">entropy = 0.0</text>\n",
       "<text text-anchor=\"middle\" x=\"541\" y=\"-431.3\" font-family=\"Helvetica,sans-Serif\" font-size=\"14.00\">samples = 9</text>\n",
       "<text text-anchor=\"middle\" x=\"541\" y=\"-416.3\" font-family=\"Helvetica,sans-Serif\" font-size=\"14.00\">value = [9, 0]</text>\n",
       "</g>\n",
       "<!-- 23&#45;&gt;24 -->\n",
       "<g id=\"edge24\" class=\"edge\">\n",
       "<title>23&#45;&gt;24</title>\n",
       "<path fill=\"none\" stroke=\"black\" d=\"M543.7,-504.88C543.28,-494.22 542.82,-482.35 542.39,-471.52\"/>\n",
       "<polygon fill=\"black\" stroke=\"black\" points=\"545.89,-471.38 542,-461.52 538.9,-471.65 545.89,-471.38\"/>\n",
       "</g>\n",
       "<!-- 25 -->\n",
       "<g id=\"node26\" class=\"node\">\n",
       "<title>25</title>\n",
       "<path fill=\"#ffffff\" stroke=\"black\" d=\"M691,-461.5C691,-461.5 619,-461.5 619,-461.5 613,-461.5 607,-455.5 607,-449.5 607,-449.5 607,-420.5 607,-420.5 607,-414.5 613,-408.5 619,-408.5 619,-408.5 691,-408.5 691,-408.5 697,-408.5 703,-414.5 703,-420.5 703,-420.5 703,-449.5 703,-449.5 703,-455.5 697,-461.5 691,-461.5\"/>\n",
       "<text text-anchor=\"middle\" x=\"655\" y=\"-446.3\" font-family=\"Helvetica,sans-Serif\" font-size=\"14.00\">entropy = 1.0</text>\n",
       "<text text-anchor=\"middle\" x=\"655\" y=\"-431.3\" font-family=\"Helvetica,sans-Serif\" font-size=\"14.00\">samples = 2</text>\n",
       "<text text-anchor=\"middle\" x=\"655\" y=\"-416.3\" font-family=\"Helvetica,sans-Serif\" font-size=\"14.00\">value = [1, 1]</text>\n",
       "</g>\n",
       "<!-- 23&#45;&gt;25 -->\n",
       "<g id=\"edge25\" class=\"edge\">\n",
       "<title>23&#45;&gt;25</title>\n",
       "<path fill=\"none\" stroke=\"black\" d=\"M580.71,-504.88C593.29,-493.23 607.4,-480.14 619.92,-468.53\"/>\n",
       "<polygon fill=\"black\" stroke=\"black\" points=\"622.53,-470.89 627.48,-461.52 617.77,-465.75 622.53,-470.89\"/>\n",
       "</g>\n",
       "<!-- 29 -->\n",
       "<g id=\"node30\" class=\"node\">\n",
       "<title>29</title>\n",
       "<path fill=\"#399de5\" stroke=\"black\" d=\"M773,-773.5C773,-773.5 695,-773.5 695,-773.5 689,-773.5 683,-767.5 683,-761.5 683,-761.5 683,-732.5 683,-732.5 683,-726.5 689,-720.5 695,-720.5 695,-720.5 773,-720.5 773,-720.5 779,-720.5 785,-726.5 785,-732.5 785,-732.5 785,-761.5 785,-761.5 785,-767.5 779,-773.5 773,-773.5\"/>\n",
       "<text text-anchor=\"middle\" x=\"734\" y=\"-758.3\" font-family=\"Helvetica,sans-Serif\" font-size=\"14.00\">entropy = 0.0</text>\n",
       "<text text-anchor=\"middle\" x=\"734\" y=\"-743.3\" font-family=\"Helvetica,sans-Serif\" font-size=\"14.00\">samples = 26</text>\n",
       "<text text-anchor=\"middle\" x=\"734\" y=\"-728.3\" font-family=\"Helvetica,sans-Serif\" font-size=\"14.00\">value = [0, 26]</text>\n",
       "</g>\n",
       "<!-- 28&#45;&gt;29 -->\n",
       "<g id=\"edge29\" class=\"edge\">\n",
       "<title>28&#45;&gt;29</title>\n",
       "<path fill=\"none\" stroke=\"black\" d=\"M736.03,-816.88C735.71,-806.22 735.36,-794.35 735.04,-783.52\"/>\n",
       "<polygon fill=\"black\" stroke=\"black\" points=\"738.54,-783.41 734.75,-773.52 731.55,-783.62 738.54,-783.41\"/>\n",
       "</g>\n",
       "<!-- 30 -->\n",
       "<g id=\"node31\" class=\"node\">\n",
       "<title>30</title>\n",
       "<path fill=\"#f6d5bd\" stroke=\"black\" d=\"M902.5,-773.5C902.5,-773.5 815.5,-773.5 815.5,-773.5 809.5,-773.5 803.5,-767.5 803.5,-761.5 803.5,-761.5 803.5,-732.5 803.5,-732.5 803.5,-726.5 809.5,-720.5 815.5,-720.5 815.5,-720.5 902.5,-720.5 902.5,-720.5 908.5,-720.5 914.5,-726.5 914.5,-732.5 914.5,-732.5 914.5,-761.5 914.5,-761.5 914.5,-767.5 908.5,-773.5 902.5,-773.5\"/>\n",
       "<text text-anchor=\"middle\" x=\"859\" y=\"-758.3\" font-family=\"Helvetica,sans-Serif\" font-size=\"14.00\">entropy = 0.971</text>\n",
       "<text text-anchor=\"middle\" x=\"859\" y=\"-743.3\" font-family=\"Helvetica,sans-Serif\" font-size=\"14.00\">samples = 5</text>\n",
       "<text text-anchor=\"middle\" x=\"859\" y=\"-728.3\" font-family=\"Helvetica,sans-Serif\" font-size=\"14.00\">value = [3, 2]</text>\n",
       "</g>\n",
       "<!-- 28&#45;&gt;30 -->\n",
       "<g id=\"edge30\" class=\"edge\">\n",
       "<title>28&#45;&gt;30</title>\n",
       "<path fill=\"none\" stroke=\"black\" d=\"M776.61,-816.88C790.69,-805.12 806.5,-791.89 820.48,-780.2\"/>\n",
       "<polygon fill=\"black\" stroke=\"black\" points=\"823.05,-782.62 828.48,-773.52 818.56,-777.25 823.05,-782.62\"/>\n",
       "</g>\n",
       "<!-- 33 -->\n",
       "<g id=\"node34\" class=\"node\">\n",
       "<title>33</title>\n",
       "<path fill=\"#41a1e6\" stroke=\"black\" d=\"M1183,-989C1183,-989 991,-989 991,-989 985,-989 979,-983 979,-977 979,-977 979,-933 979,-933 979,-927 985,-921 991,-921 991,-921 1183,-921 1183,-921 1189,-921 1195,-927 1195,-933 1195,-933 1195,-977 1195,-977 1195,-983 1189,-989 1183,-989\"/>\n",
       "<text text-anchor=\"middle\" x=\"1087\" y=\"-973.8\" font-family=\"Helvetica,sans-Serif\" font-size=\"14.00\">Steel_Plate_Thickness &lt;= &#45;0.327</text>\n",
       "<text text-anchor=\"middle\" x=\"1087\" y=\"-958.8\" font-family=\"Helvetica,sans-Serif\" font-size=\"14.00\">entropy = 0.228</text>\n",
       "<text text-anchor=\"middle\" x=\"1087\" y=\"-943.8\" font-family=\"Helvetica,sans-Serif\" font-size=\"14.00\">samples = 271</text>\n",
       "<text text-anchor=\"middle\" x=\"1087\" y=\"-928.8\" font-family=\"Helvetica,sans-Serif\" font-size=\"14.00\">value = [10, 261]</text>\n",
       "</g>\n",
       "<!-- 32&#45;&gt;33 -->\n",
       "<g id=\"edge33\" class=\"edge\">\n",
       "<title>32&#45;&gt;33</title>\n",
       "<path fill=\"none\" stroke=\"black\" d=\"M1090.38,-1024.88C1089.98,-1016.78 1089.55,-1007.98 1089.13,-999.47\"/>\n",
       "<polygon fill=\"black\" stroke=\"black\" points=\"1092.62,-999.12 1088.63,-989.3 1085.63,-999.46 1092.62,-999.12\"/>\n",
       "</g>\n",
       "<!-- 42 -->\n",
       "<g id=\"node43\" class=\"node\">\n",
       "<title>42</title>\n",
       "<path fill=\"#e78a48\" stroke=\"black\" d=\"M1356.5,-989C1356.5,-989 1225.5,-989 1225.5,-989 1219.5,-989 1213.5,-983 1213.5,-977 1213.5,-977 1213.5,-933 1213.5,-933 1213.5,-927 1219.5,-921 1225.5,-921 1225.5,-921 1356.5,-921 1356.5,-921 1362.5,-921 1368.5,-927 1368.5,-933 1368.5,-933 1368.5,-977 1368.5,-977 1368.5,-983 1362.5,-989 1356.5,-989\"/>\n",
       "<text text-anchor=\"middle\" x=\"1291\" y=\"-973.8\" font-family=\"Helvetica,sans-Serif\" font-size=\"14.00\">X_Perimeter &lt;= &#45;0.022</text>\n",
       "<text text-anchor=\"middle\" x=\"1291\" y=\"-958.8\" font-family=\"Helvetica,sans-Serif\" font-size=\"14.00\">entropy = 0.362</text>\n",
       "<text text-anchor=\"middle\" x=\"1291\" y=\"-943.8\" font-family=\"Helvetica,sans-Serif\" font-size=\"14.00\">samples = 29</text>\n",
       "<text text-anchor=\"middle\" x=\"1291\" y=\"-928.8\" font-family=\"Helvetica,sans-Serif\" font-size=\"14.00\">value = [27, 2]</text>\n",
       "</g>\n",
       "<!-- 32&#45;&gt;42 -->\n",
       "<g id=\"edge42\" class=\"edge\">\n",
       "<title>32&#45;&gt;42</title>\n",
       "<path fill=\"none\" stroke=\"black\" d=\"M1156.61,-1024.88C1176,-1014.95 1197.41,-1003.97 1217.34,-993.76\"/>\n",
       "<polygon fill=\"black\" stroke=\"black\" points=\"1219.07,-996.8 1226.37,-989.12 1215.88,-990.57 1219.07,-996.8\"/>\n",
       "</g>\n",
       "<!-- 34 -->\n",
       "<g id=\"node35\" class=\"node\">\n",
       "<title>34</title>\n",
       "<path fill=\"#3c9fe5\" stroke=\"black\" d=\"M1070.5,-885C1070.5,-885 943.5,-885 943.5,-885 937.5,-885 931.5,-879 931.5,-873 931.5,-873 931.5,-829 931.5,-829 931.5,-823 937.5,-817 943.5,-817 943.5,-817 1070.5,-817 1070.5,-817 1076.5,-817 1082.5,-823 1082.5,-829 1082.5,-829 1082.5,-873 1082.5,-873 1082.5,-879 1076.5,-885 1070.5,-885\"/>\n",
       "<text text-anchor=\"middle\" x=\"1007\" y=\"-869.8\" font-family=\"Helvetica,sans-Serif\" font-size=\"14.00\">Empty_Index &lt;= &#45;0.59</text>\n",
       "<text text-anchor=\"middle\" x=\"1007\" y=\"-854.8\" font-family=\"Helvetica,sans-Serif\" font-size=\"14.00\">entropy = 0.113</text>\n",
       "<text text-anchor=\"middle\" x=\"1007\" y=\"-839.8\" font-family=\"Helvetica,sans-Serif\" font-size=\"14.00\">samples = 265</text>\n",
       "<text text-anchor=\"middle\" x=\"1007\" y=\"-824.8\" font-family=\"Helvetica,sans-Serif\" font-size=\"14.00\">value = [4, 261]</text>\n",
       "</g>\n",
       "<!-- 33&#45;&gt;34 -->\n",
       "<g id=\"edge34\" class=\"edge\">\n",
       "<title>33&#45;&gt;34</title>\n",
       "<path fill=\"none\" stroke=\"black\" d=\"M1061.03,-920.88C1054.11,-912.07 1046.55,-902.43 1039.34,-893.24\"/>\n",
       "<polygon fill=\"black\" stroke=\"black\" points=\"1042.04,-891.01 1033.12,-885.3 1036.53,-895.33 1042.04,-891.01\"/>\n",
       "</g>\n",
       "<!-- 41 -->\n",
       "<g id=\"node42\" class=\"node\">\n",
       "<title>41</title>\n",
       "<path fill=\"#e58139\" stroke=\"black\" d=\"M1185,-877.5C1185,-877.5 1113,-877.5 1113,-877.5 1107,-877.5 1101,-871.5 1101,-865.5 1101,-865.5 1101,-836.5 1101,-836.5 1101,-830.5 1107,-824.5 1113,-824.5 1113,-824.5 1185,-824.5 1185,-824.5 1191,-824.5 1197,-830.5 1197,-836.5 1197,-836.5 1197,-865.5 1197,-865.5 1197,-871.5 1191,-877.5 1185,-877.5\"/>\n",
       "<text text-anchor=\"middle\" x=\"1149\" y=\"-862.3\" font-family=\"Helvetica,sans-Serif\" font-size=\"14.00\">entropy = 0.0</text>\n",
       "<text text-anchor=\"middle\" x=\"1149\" y=\"-847.3\" font-family=\"Helvetica,sans-Serif\" font-size=\"14.00\">samples = 6</text>\n",
       "<text text-anchor=\"middle\" x=\"1149\" y=\"-832.3\" font-family=\"Helvetica,sans-Serif\" font-size=\"14.00\">value = [6, 0]</text>\n",
       "</g>\n",
       "<!-- 33&#45;&gt;41 -->\n",
       "<g id=\"edge41\" class=\"edge\">\n",
       "<title>33&#45;&gt;41</title>\n",
       "<path fill=\"none\" stroke=\"black\" d=\"M1107.13,-920.88C1113.88,-909.78 1121.42,-897.37 1128.22,-886.18\"/>\n",
       "<polygon fill=\"black\" stroke=\"black\" points=\"1131.28,-887.88 1133.49,-877.52 1125.3,-884.25 1131.28,-887.88\"/>\n",
       "</g>\n",
       "<!-- 35 -->\n",
       "<g id=\"node36\" class=\"node\">\n",
       "<title>35</title>\n",
       "<path fill=\"#f2c09c\" stroke=\"black\" d=\"M1043.5,-773.5C1043.5,-773.5 956.5,-773.5 956.5,-773.5 950.5,-773.5 944.5,-767.5 944.5,-761.5 944.5,-761.5 944.5,-732.5 944.5,-732.5 944.5,-726.5 950.5,-720.5 956.5,-720.5 956.5,-720.5 1043.5,-720.5 1043.5,-720.5 1049.5,-720.5 1055.5,-726.5 1055.5,-732.5 1055.5,-732.5 1055.5,-761.5 1055.5,-761.5 1055.5,-767.5 1049.5,-773.5 1043.5,-773.5\"/>\n",
       "<text text-anchor=\"middle\" x=\"1000\" y=\"-758.3\" font-family=\"Helvetica,sans-Serif\" font-size=\"14.00\">entropy = 0.918</text>\n",
       "<text text-anchor=\"middle\" x=\"1000\" y=\"-743.3\" font-family=\"Helvetica,sans-Serif\" font-size=\"14.00\">samples = 3</text>\n",
       "<text text-anchor=\"middle\" x=\"1000\" y=\"-728.3\" font-family=\"Helvetica,sans-Serif\" font-size=\"14.00\">value = [2, 1]</text>\n",
       "</g>\n",
       "<!-- 34&#45;&gt;35 -->\n",
       "<g id=\"edge35\" class=\"edge\">\n",
       "<title>34&#45;&gt;35</title>\n",
       "<path fill=\"none\" stroke=\"black\" d=\"M1004.73,-816.88C1004,-806.22 1003.18,-794.35 1002.44,-783.52\"/>\n",
       "<polygon fill=\"black\" stroke=\"black\" points=\"1005.93,-783.26 1001.75,-773.52 998.94,-783.74 1005.93,-783.26\"/>\n",
       "</g>\n",
       "<!-- 36 -->\n",
       "<g id=\"node37\" class=\"node\">\n",
       "<title>36</title>\n",
       "<path fill=\"#3b9ee5\" stroke=\"black\" d=\"M1266,-781C1266,-781 1086,-781 1086,-781 1080,-781 1074,-775 1074,-769 1074,-769 1074,-725 1074,-725 1074,-719 1080,-713 1086,-713 1086,-713 1266,-713 1266,-713 1272,-713 1278,-719 1278,-725 1278,-725 1278,-769 1278,-769 1278,-775 1272,-781 1266,-781\"/>\n",
       "<text text-anchor=\"middle\" x=\"1176\" y=\"-765.8\" font-family=\"Helvetica,sans-Serif\" font-size=\"14.00\">Length_of_Conveyer &lt;= &#45;0.709</text>\n",
       "<text text-anchor=\"middle\" x=\"1176\" y=\"-750.8\" font-family=\"Helvetica,sans-Serif\" font-size=\"14.00\">entropy = 0.065</text>\n",
       "<text text-anchor=\"middle\" x=\"1176\" y=\"-735.8\" font-family=\"Helvetica,sans-Serif\" font-size=\"14.00\">samples = 262</text>\n",
       "<text text-anchor=\"middle\" x=\"1176\" y=\"-720.8\" font-family=\"Helvetica,sans-Serif\" font-size=\"14.00\">value = [2, 260]</text>\n",
       "</g>\n",
       "<!-- 34&#45;&gt;36 -->\n",
       "<g id=\"edge36\" class=\"edge\">\n",
       "<title>34&#45;&gt;36</title>\n",
       "<path fill=\"none\" stroke=\"black\" d=\"M1061.87,-816.88C1078.04,-807.12 1095.86,-796.37 1112.53,-786.31\"/>\n",
       "<polygon fill=\"black\" stroke=\"black\" points=\"1114.36,-789.29 1121.12,-781.12 1110.75,-783.3 1114.36,-789.29\"/>\n",
       "</g>\n",
       "<!-- 37 -->\n",
       "<g id=\"node38\" class=\"node\">\n",
       "<title>37</title>\n",
       "<path fill=\"#44a2e6\" stroke=\"black\" d=\"M1176,-677C1176,-677 1006,-677 1006,-677 1000,-677 994,-671 994,-665 994,-665 994,-621 994,-621 994,-615 1000,-609 1006,-609 1006,-609 1176,-609 1176,-609 1182,-609 1188,-615 1188,-621 1188,-621 1188,-665 1188,-665 1188,-671 1182,-677 1176,-677\"/>\n",
       "<text text-anchor=\"middle\" x=\"1091\" y=\"-661.8\" font-family=\"Helvetica,sans-Serif\" font-size=\"14.00\">Sum_of_Luminosity &lt;= 0.772</text>\n",
       "<text text-anchor=\"middle\" x=\"1091\" y=\"-646.8\" font-family=\"Helvetica,sans-Serif\" font-size=\"14.00\">entropy = 0.297</text>\n",
       "<text text-anchor=\"middle\" x=\"1091\" y=\"-631.8\" font-family=\"Helvetica,sans-Serif\" font-size=\"14.00\">samples = 38</text>\n",
       "<text text-anchor=\"middle\" x=\"1091\" y=\"-616.8\" font-family=\"Helvetica,sans-Serif\" font-size=\"14.00\">value = [2, 36]</text>\n",
       "</g>\n",
       "<!-- 36&#45;&gt;37 -->\n",
       "<g id=\"edge37\" class=\"edge\">\n",
       "<title>36&#45;&gt;37</title>\n",
       "<path fill=\"none\" stroke=\"black\" d=\"M1148.4,-712.88C1141.05,-704.07 1133.03,-694.43 1125.36,-685.24\"/>\n",
       "<polygon fill=\"black\" stroke=\"black\" points=\"1127.84,-682.74 1118.75,-677.3 1122.46,-687.22 1127.84,-682.74\"/>\n",
       "</g>\n",
       "<!-- 40 -->\n",
       "<g id=\"node41\" class=\"node\">\n",
       "<title>40</title>\n",
       "<path fill=\"#399de5\" stroke=\"black\" d=\"M1304,-669.5C1304,-669.5 1218,-669.5 1218,-669.5 1212,-669.5 1206,-663.5 1206,-657.5 1206,-657.5 1206,-628.5 1206,-628.5 1206,-622.5 1212,-616.5 1218,-616.5 1218,-616.5 1304,-616.5 1304,-616.5 1310,-616.5 1316,-622.5 1316,-628.5 1316,-628.5 1316,-657.5 1316,-657.5 1316,-663.5 1310,-669.5 1304,-669.5\"/>\n",
       "<text text-anchor=\"middle\" x=\"1261\" y=\"-654.3\" font-family=\"Helvetica,sans-Serif\" font-size=\"14.00\">entropy = 0.0</text>\n",
       "<text text-anchor=\"middle\" x=\"1261\" y=\"-639.3\" font-family=\"Helvetica,sans-Serif\" font-size=\"14.00\">samples = 224</text>\n",
       "<text text-anchor=\"middle\" x=\"1261\" y=\"-624.3\" font-family=\"Helvetica,sans-Serif\" font-size=\"14.00\">value = [0, 224]</text>\n",
       "</g>\n",
       "<!-- 36&#45;&gt;40 -->\n",
       "<g id=\"edge40\" class=\"edge\">\n",
       "<title>36&#45;&gt;40</title>\n",
       "<path fill=\"none\" stroke=\"black\" d=\"M1203.6,-712.88C1213.04,-701.56 1223.6,-688.88 1233.07,-677.52\"/>\n",
       "<polygon fill=\"black\" stroke=\"black\" points=\"1236.02,-679.44 1239.73,-669.52 1230.64,-674.96 1236.02,-679.44\"/>\n",
       "</g>\n",
       "<!-- 38 -->\n",
       "<g id=\"node39\" class=\"node\">\n",
       "<title>38</title>\n",
       "<path fill=\"#7bbeee\" stroke=\"black\" d=\"M1071.5,-565.5C1071.5,-565.5 984.5,-565.5 984.5,-565.5 978.5,-565.5 972.5,-559.5 972.5,-553.5 972.5,-553.5 972.5,-524.5 972.5,-524.5 972.5,-518.5 978.5,-512.5 984.5,-512.5 984.5,-512.5 1071.5,-512.5 1071.5,-512.5 1077.5,-512.5 1083.5,-518.5 1083.5,-524.5 1083.5,-524.5 1083.5,-553.5 1083.5,-553.5 1083.5,-559.5 1077.5,-565.5 1071.5,-565.5\"/>\n",
       "<text text-anchor=\"middle\" x=\"1028\" y=\"-550.3\" font-family=\"Helvetica,sans-Serif\" font-size=\"14.00\">entropy = 0.811</text>\n",
       "<text text-anchor=\"middle\" x=\"1028\" y=\"-535.3\" font-family=\"Helvetica,sans-Serif\" font-size=\"14.00\">samples = 8</text>\n",
       "<text text-anchor=\"middle\" x=\"1028\" y=\"-520.3\" font-family=\"Helvetica,sans-Serif\" font-size=\"14.00\">value = [2, 6]</text>\n",
       "</g>\n",
       "<!-- 37&#45;&gt;38 -->\n",
       "<g id=\"edge38\" class=\"edge\">\n",
       "<title>37&#45;&gt;38</title>\n",
       "<path fill=\"none\" stroke=\"black\" d=\"M1070.55,-608.88C1063.68,-597.78 1056.02,-585.37 1049.11,-574.18\"/>\n",
       "<polygon fill=\"black\" stroke=\"black\" points=\"1052,-572.19 1043.76,-565.52 1046.04,-575.87 1052,-572.19\"/>\n",
       "</g>\n",
       "<!-- 39 -->\n",
       "<g id=\"node40\" class=\"node\">\n",
       "<title>39</title>\n",
       "<path fill=\"#399de5\" stroke=\"black\" d=\"M1192,-565.5C1192,-565.5 1114,-565.5 1114,-565.5 1108,-565.5 1102,-559.5 1102,-553.5 1102,-553.5 1102,-524.5 1102,-524.5 1102,-518.5 1108,-512.5 1114,-512.5 1114,-512.5 1192,-512.5 1192,-512.5 1198,-512.5 1204,-518.5 1204,-524.5 1204,-524.5 1204,-553.5 1204,-553.5 1204,-559.5 1198,-565.5 1192,-565.5\"/>\n",
       "<text text-anchor=\"middle\" x=\"1153\" y=\"-550.3\" font-family=\"Helvetica,sans-Serif\" font-size=\"14.00\">entropy = 0.0</text>\n",
       "<text text-anchor=\"middle\" x=\"1153\" y=\"-535.3\" font-family=\"Helvetica,sans-Serif\" font-size=\"14.00\">samples = 30</text>\n",
       "<text text-anchor=\"middle\" x=\"1153\" y=\"-520.3\" font-family=\"Helvetica,sans-Serif\" font-size=\"14.00\">value = [0, 30]</text>\n",
       "</g>\n",
       "<!-- 37&#45;&gt;39 -->\n",
       "<g id=\"edge39\" class=\"edge\">\n",
       "<title>37&#45;&gt;39</title>\n",
       "<path fill=\"none\" stroke=\"black\" d=\"M1111.13,-608.88C1117.88,-597.78 1125.42,-585.37 1132.22,-574.18\"/>\n",
       "<polygon fill=\"black\" stroke=\"black\" points=\"1135.28,-575.88 1137.49,-565.52 1129.3,-572.25 1135.28,-575.88\"/>\n",
       "</g>\n",
       "<!-- 43 -->\n",
       "<g id=\"node44\" class=\"node\">\n",
       "<title>43</title>\n",
       "<path fill=\"#ffffff\" stroke=\"black\" d=\"M1323,-877.5C1323,-877.5 1251,-877.5 1251,-877.5 1245,-877.5 1239,-871.5 1239,-865.5 1239,-865.5 1239,-836.5 1239,-836.5 1239,-830.5 1245,-824.5 1251,-824.5 1251,-824.5 1323,-824.5 1323,-824.5 1329,-824.5 1335,-830.5 1335,-836.5 1335,-836.5 1335,-865.5 1335,-865.5 1335,-871.5 1329,-877.5 1323,-877.5\"/>\n",
       "<text text-anchor=\"middle\" x=\"1287\" y=\"-862.3\" font-family=\"Helvetica,sans-Serif\" font-size=\"14.00\">entropy = 1.0</text>\n",
       "<text text-anchor=\"middle\" x=\"1287\" y=\"-847.3\" font-family=\"Helvetica,sans-Serif\" font-size=\"14.00\">samples = 4</text>\n",
       "<text text-anchor=\"middle\" x=\"1287\" y=\"-832.3\" font-family=\"Helvetica,sans-Serif\" font-size=\"14.00\">value = [2, 2]</text>\n",
       "</g>\n",
       "<!-- 42&#45;&gt;43 -->\n",
       "<g id=\"edge43\" class=\"edge\">\n",
       "<title>42&#45;&gt;43</title>\n",
       "<path fill=\"none\" stroke=\"black\" d=\"M1289.7,-920.88C1289.28,-910.22 1288.82,-898.35 1288.39,-887.52\"/>\n",
       "<polygon fill=\"black\" stroke=\"black\" points=\"1291.89,-887.38 1288,-877.52 1284.9,-887.65 1291.89,-887.38\"/>\n",
       "</g>\n",
       "<!-- 44 -->\n",
       "<g id=\"node45\" class=\"node\">\n",
       "<title>44</title>\n",
       "<path fill=\"#e58139\" stroke=\"black\" d=\"M1443,-877.5C1443,-877.5 1365,-877.5 1365,-877.5 1359,-877.5 1353,-871.5 1353,-865.5 1353,-865.5 1353,-836.5 1353,-836.5 1353,-830.5 1359,-824.5 1365,-824.5 1365,-824.5 1443,-824.5 1443,-824.5 1449,-824.5 1455,-830.5 1455,-836.5 1455,-836.5 1455,-865.5 1455,-865.5 1455,-871.5 1449,-877.5 1443,-877.5\"/>\n",
       "<text text-anchor=\"middle\" x=\"1404\" y=\"-862.3\" font-family=\"Helvetica,sans-Serif\" font-size=\"14.00\">entropy = 0.0</text>\n",
       "<text text-anchor=\"middle\" x=\"1404\" y=\"-847.3\" font-family=\"Helvetica,sans-Serif\" font-size=\"14.00\">samples = 25</text>\n",
       "<text text-anchor=\"middle\" x=\"1404\" y=\"-832.3\" font-family=\"Helvetica,sans-Serif\" font-size=\"14.00\">value = [25, 0]</text>\n",
       "</g>\n",
       "<!-- 42&#45;&gt;44 -->\n",
       "<g id=\"edge44\" class=\"edge\">\n",
       "<title>42&#45;&gt;44</title>\n",
       "<path fill=\"none\" stroke=\"black\" d=\"M1327.69,-920.88C1340.6,-909.23 1355.1,-896.14 1367.96,-884.53\"/>\n",
       "<polygon fill=\"black\" stroke=\"black\" points=\"1370.65,-886.82 1375.73,-877.52 1365.96,-881.62 1370.65,-886.82\"/>\n",
       "</g>\n",
       "</g>\n",
       "</svg>\n"
      ],
      "text/plain": [
       "<graphviz.sources.Source at 0x168ee6c10>"
      ]
     },
     "execution_count": 49,
     "metadata": {},
     "output_type": "execute_result"
    }
   ],
   "source": [
    "import graphviz\n",
    "import sklearn.tree as tree\n",
    "dt2 = DecisionTreeClassifier(criterion = 'entropy',\n",
    "                           max_depth = None, # 몇 번의 Edge를 거치는가\n",
    "                           max_features = None, # 사용하는 변수의 개수\n",
    "                           min_samples_leaf = 1, # Leaf가 가질 수 있는 최소 샘플 수\n",
    "                           min_samples_split = 10 # 다음 가지치기를 하기 위해 갖고있어야하는 최소 샘플 수\n",
    "                          )\n",
    "dt2.fit(x_train, y_train)\n",
    "dot_data = tree.export_graphviz(dt2, feature_names=x_train.columns, filled=True, rounded=True)\n",
    "graph = graphviz.Source(dot_data)\n",
    "graph"
   ]
  },
  {
   "cell_type": "markdown",
   "id": "88f13a92",
   "metadata": {},
   "source": [
    "## Random Forest\n",
    "- Random Forest는 Bagging과 Drop-out을 활용하여 의사결정나무의 변동성을 완화시키고 예측력을 높인 모델\n",
    "    - **Bagging**\n",
    "        - Bootstrapping: 복원추출을 통하여 샘플 구성이 조금씩 다른 여러 데이터넷을 생성\n",
    "        - Aggregating: 여러 모형의 결과를 통합하여 모형의 변동성(Variance)을 낮춤\n",
    "    - **Drop-out: Tree를 구성할 때 변수를 일부 탈락. Tree간의 Correlation을 감소시켜 모형의 변동성을 낮춤**\n",
    "    \n",
    "**Parameters**\n",
    "- n_estimators: Bootstrapping을 몇 회 반복할지\n",
    "- max_depth\n",
    "- min_sample_split\n",
    "- min_sample_leaf"
   ]
  },
  {
   "cell_type": "code",
   "execution_count": 50,
   "id": "61917144",
   "metadata": {},
   "outputs": [
    {
     "name": "stdout",
     "output_type": "stream",
     "text": [
      "              precision    recall  f1-score   support\n",
      "\n",
      "           0       0.99      1.00      0.99       311\n",
      "           1       1.00      0.95      0.97        78\n",
      "\n",
      "    accuracy                           0.99       389\n",
      "   macro avg       0.99      0.97      0.98       389\n",
      "weighted avg       0.99      0.99      0.99       389\n",
      "\n",
      "\u001b[32mAccuracy of Random Forest: 98.97%\n"
     ]
    }
   ],
   "source": [
    "from sklearn.ensemble import RandomForestClassifier\n",
    "\n",
    "rf_clf = RandomForestClassifier()\n",
    "rf_clf.fit(x_train, y_train)\n",
    "rf_clf_pred = rf_clf.predict(x_test)\n",
    "rf_clf_acc = accuracy_score(y_test, rf_clf_pred)\n",
    "print(classification_report(y_test, rf_clf_pred))\n",
    "print(Fore.GREEN + f\"Accuracy of Random Forest: {100*rf_clf_acc:2.2f}%\")"
   ]
  },
  {
   "cell_type": "code",
   "execution_count": 51,
   "id": "6baef404",
   "metadata": {},
   "outputs": [
    {
     "data": {
      "text/html": [
       "<style>#sk-container-id-4 {color: black;background-color: white;}#sk-container-id-4 pre{padding: 0;}#sk-container-id-4 div.sk-toggleable {background-color: white;}#sk-container-id-4 label.sk-toggleable__label {cursor: pointer;display: block;width: 100%;margin-bottom: 0;padding: 0.3em;box-sizing: border-box;text-align: center;}#sk-container-id-4 label.sk-toggleable__label-arrow:before {content: \"▸\";float: left;margin-right: 0.25em;color: #696969;}#sk-container-id-4 label.sk-toggleable__label-arrow:hover:before {color: black;}#sk-container-id-4 div.sk-estimator:hover label.sk-toggleable__label-arrow:before {color: black;}#sk-container-id-4 div.sk-toggleable__content {max-height: 0;max-width: 0;overflow: hidden;text-align: left;background-color: #f0f8ff;}#sk-container-id-4 div.sk-toggleable__content pre {margin: 0.2em;color: black;border-radius: 0.25em;background-color: #f0f8ff;}#sk-container-id-4 input.sk-toggleable__control:checked~div.sk-toggleable__content {max-height: 200px;max-width: 100%;overflow: auto;}#sk-container-id-4 input.sk-toggleable__control:checked~label.sk-toggleable__label-arrow:before {content: \"▾\";}#sk-container-id-4 div.sk-estimator input.sk-toggleable__control:checked~label.sk-toggleable__label {background-color: #d4ebff;}#sk-container-id-4 div.sk-label input.sk-toggleable__control:checked~label.sk-toggleable__label {background-color: #d4ebff;}#sk-container-id-4 input.sk-hidden--visually {border: 0;clip: rect(1px 1px 1px 1px);clip: rect(1px, 1px, 1px, 1px);height: 1px;margin: -1px;overflow: hidden;padding: 0;position: absolute;width: 1px;}#sk-container-id-4 div.sk-estimator {font-family: monospace;background-color: #f0f8ff;border: 1px dotted black;border-radius: 0.25em;box-sizing: border-box;margin-bottom: 0.5em;}#sk-container-id-4 div.sk-estimator:hover {background-color: #d4ebff;}#sk-container-id-4 div.sk-parallel-item::after {content: \"\";width: 100%;border-bottom: 1px solid gray;flex-grow: 1;}#sk-container-id-4 div.sk-label:hover label.sk-toggleable__label {background-color: #d4ebff;}#sk-container-id-4 div.sk-serial::before {content: \"\";position: absolute;border-left: 1px solid gray;box-sizing: border-box;top: 0;bottom: 0;left: 50%;z-index: 0;}#sk-container-id-4 div.sk-serial {display: flex;flex-direction: column;align-items: center;background-color: white;padding-right: 0.2em;padding-left: 0.2em;position: relative;}#sk-container-id-4 div.sk-item {position: relative;z-index: 1;}#sk-container-id-4 div.sk-parallel {display: flex;align-items: stretch;justify-content: center;background-color: white;position: relative;}#sk-container-id-4 div.sk-item::before, #sk-container-id-4 div.sk-parallel-item::before {content: \"\";position: absolute;border-left: 1px solid gray;box-sizing: border-box;top: 0;bottom: 0;left: 50%;z-index: -1;}#sk-container-id-4 div.sk-parallel-item {display: flex;flex-direction: column;z-index: 1;position: relative;background-color: white;}#sk-container-id-4 div.sk-parallel-item:first-child::after {align-self: flex-end;width: 50%;}#sk-container-id-4 div.sk-parallel-item:last-child::after {align-self: flex-start;width: 50%;}#sk-container-id-4 div.sk-parallel-item:only-child::after {width: 0;}#sk-container-id-4 div.sk-dashed-wrapped {border: 1px dashed gray;margin: 0 0.4em 0.5em 0.4em;box-sizing: border-box;padding-bottom: 0.4em;background-color: white;}#sk-container-id-4 div.sk-label label {font-family: monospace;font-weight: bold;display: inline-block;line-height: 1.2em;}#sk-container-id-4 div.sk-label-container {text-align: center;}#sk-container-id-4 div.sk-container {/* jupyter's `normalize.less` sets `[hidden] { display: none; }` but bootstrap.min.css set `[hidden] { display: none !important; }` so we also need the `!important` here to be able to override the default hidden behavior on the sphinx rendered scikit-learn.org. See: https://github.com/scikit-learn/scikit-learn/issues/21755 */display: inline-block !important;position: relative;}#sk-container-id-4 div.sk-text-repr-fallback {display: none;}</style><div id=\"sk-container-id-4\" class=\"sk-top-container\"><div class=\"sk-text-repr-fallback\"><pre>GridSearchCV(cv=10, estimator=RandomForestClassifier(), n_jobs=8,\n",
       "             param_grid={&#x27;criterion&#x27;: [&#x27;entropy&#x27;], &#x27;max_depth&#x27;: [None, 2],\n",
       "                         &#x27;max_features&#x27;: [&#x27;sqrt&#x27;],\n",
       "                         &#x27;min_samples_leaf&#x27;: [1, 3, 10],\n",
       "                         &#x27;min_samples_split&#x27;: [2, 5],\n",
       "                         &#x27;n_estimators&#x27;: [50, 100]},\n",
       "             scoring=&#x27;accuracy&#x27;)</pre><b>In a Jupyter environment, please rerun this cell to show the HTML representation or trust the notebook. <br />On GitHub, the HTML representation is unable to render, please try loading this page with nbviewer.org.</b></div><div class=\"sk-container\" hidden><div class=\"sk-item sk-dashed-wrapped\"><div class=\"sk-label-container\"><div class=\"sk-label sk-toggleable\"><input class=\"sk-toggleable__control sk-hidden--visually\" id=\"sk-estimator-id-10\" type=\"checkbox\" ><label for=\"sk-estimator-id-10\" class=\"sk-toggleable__label sk-toggleable__label-arrow\">GridSearchCV</label><div class=\"sk-toggleable__content\"><pre>GridSearchCV(cv=10, estimator=RandomForestClassifier(), n_jobs=8,\n",
       "             param_grid={&#x27;criterion&#x27;: [&#x27;entropy&#x27;], &#x27;max_depth&#x27;: [None, 2],\n",
       "                         &#x27;max_features&#x27;: [&#x27;sqrt&#x27;],\n",
       "                         &#x27;min_samples_leaf&#x27;: [1, 3, 10],\n",
       "                         &#x27;min_samples_split&#x27;: [2, 5],\n",
       "                         &#x27;n_estimators&#x27;: [50, 100]},\n",
       "             scoring=&#x27;accuracy&#x27;)</pre></div></div></div><div class=\"sk-parallel\"><div class=\"sk-parallel-item\"><div class=\"sk-item\"><div class=\"sk-label-container\"><div class=\"sk-label sk-toggleable\"><input class=\"sk-toggleable__control sk-hidden--visually\" id=\"sk-estimator-id-11\" type=\"checkbox\" ><label for=\"sk-estimator-id-11\" class=\"sk-toggleable__label sk-toggleable__label-arrow\">estimator: RandomForestClassifier</label><div class=\"sk-toggleable__content\"><pre>RandomForestClassifier()</pre></div></div></div><div class=\"sk-serial\"><div class=\"sk-item\"><div class=\"sk-estimator sk-toggleable\"><input class=\"sk-toggleable__control sk-hidden--visually\" id=\"sk-estimator-id-12\" type=\"checkbox\" ><label for=\"sk-estimator-id-12\" class=\"sk-toggleable__label sk-toggleable__label-arrow\">RandomForestClassifier</label><div class=\"sk-toggleable__content\"><pre>RandomForestClassifier()</pre></div></div></div></div></div></div></div></div></div></div>"
      ],
      "text/plain": [
       "GridSearchCV(cv=10, estimator=RandomForestClassifier(), n_jobs=8,\n",
       "             param_grid={'criterion': ['entropy'], 'max_depth': [None, 2],\n",
       "                         'max_features': ['sqrt'],\n",
       "                         'min_samples_leaf': [1, 3, 10],\n",
       "                         'min_samples_split': [2, 5],\n",
       "                         'n_estimators': [50, 100]},\n",
       "             scoring='accuracy')"
      ]
     },
     "execution_count": 51,
     "metadata": {},
     "output_type": "execute_result"
    }
   ],
   "source": [
    "rf=RandomForestClassifier()\n",
    "parameters = {'n_estimators':[50,100],\n",
    "              'criterion':['entropy'],\n",
    "              'min_samples_split':[2, 5],\n",
    "              'max_depth':[None, 2],\n",
    "              'min_samples_leaf':[1, 3, 10],\n",
    "              'max_features':['sqrt'],\n",
    "             }\n",
    "GSRF=GridSearchCV(rf, parameters, cv=10, n_jobs=n_thread, scoring='accuracy')\n",
    "GSRF.fit(x_train, y_train)"
   ]
  },
  {
   "cell_type": "code",
   "execution_count": 52,
   "id": "ed4d742a",
   "metadata": {},
   "outputs": [
    {
     "name": "stdout",
     "output_type": "stream",
     "text": [
      "final params {'criterion': 'entropy', 'max_depth': None, 'max_features': 'sqrt', 'min_samples_leaf': 1, 'min_samples_split': 2, 'n_estimators': 100}\n",
      "best score 0.984528535980149\n"
     ]
    }
   ],
   "source": [
    "print('final params', GSRF.best_params_)\n",
    "print('best score', GSRF.best_score_)"
   ]
  },
  {
   "cell_type": "code",
   "execution_count": 53,
   "id": "21ecb246",
   "metadata": {},
   "outputs": [
    {
     "name": "stdout",
     "output_type": "stream",
     "text": [
      "              precision    recall  f1-score   support\n",
      "\n",
      "           0       0.99      1.00      1.00       311\n",
      "           1       1.00      0.96      0.98        78\n",
      "\n",
      "    accuracy                           0.99       389\n",
      "   macro avg       1.00      0.98      0.99       389\n",
      "weighted avg       0.99      0.99      0.99       389\n",
      "\n",
      "\u001b[32mAccuracy of GS_RandomForest: 99.23%\n"
     ]
    }
   ],
   "source": [
    "GSRF_pred = GSRF.predict(x_test)\n",
    "GSRF_acc = accuracy_score(y_test, GSRF_pred)\n",
    "print(classification_report(y_test, GSRF_pred))\n",
    "print(Fore.GREEN + f\"Accuracy of GS_RandomForest: {100*GSRF_acc:2.2f}%\")"
   ]
  },
  {
   "cell_type": "code",
   "execution_count": 54,
   "id": "85b5fbfe",
   "metadata": {},
   "outputs": [
    {
     "data": {
      "text/plain": [
       "<Figure size 500x500 with 0 Axes>"
      ]
     },
     "metadata": {},
     "output_type": "display_data"
    },
    {
     "data": {
      "image/png": "[encoded data removed]",
      "text/plain": [
       "<Figure size 640x480 with 1 Axes>"
      ]
     },
     "metadata": {
      "image/png": {
       "height": 432,
       "width": 493
      }
     },
     "output_type": "display_data"
    }
   ],
   "source": [
    "cm = confusion_matrix(y_test, GSRF_pred)\n",
    "plt.figure(figsize=(5,5))\n",
    "plot_confusion_matrix(cm, cmap=plt.cm.Blues, hide_ticks=True)\n",
    "plt.xticks(range(2), ['K-Scatch X', 'K-Scatch O'])\n",
    "plt.yticks(range(2), ['K-Scatch X', 'K-Scatch O'])\n",
    "plt.show()"
   ]
  },
  {
   "cell_type": "markdown",
   "id": "424724ea",
   "metadata": {},
   "source": [
    "## Support Vector Machine\n",
    "- Margin을 최대로하는 Boundary를 찾는 것이 목표\n",
    "- Error를 허용하는 정도를 Parameter'C'로 표현\n",
    "    - C가 크면 Error를 많이 허용. C가 작을수록 Error를 적게 허용\n",
    "    \n",
    "**Parameters**\n",
    "- C: 값이 크면 Regularization을 완화. 작으면 세게\n",
    "- kernel: Linear한 경우 일반적으로 사용을 안함. 곡선 등 비선형관계는 Polynomial, Gaussian 등을 사용\n",
    "- degree: Polynomial의 차원(2차, 3차, ...)\n",
    "- gamma: 'rbf', 'poly', and 'sigmoid'에 사용\n",
    "\n",
    "**선형관계** -> C를 조절  \n",
    "**비선형관계** -> kernel, degree, gamma를 조절"
   ]
  },
  {
   "cell_type": "code",
   "execution_count": 95,
   "id": "5d926606",
   "metadata": {},
   "outputs": [
    {
     "name": "stdout",
     "output_type": "stream",
     "text": [
      "              precision    recall  f1-score   support\n",
      "\n",
      "           0       0.98      1.00      0.99       311\n",
      "           1       0.99      0.92      0.95        78\n",
      "\n",
      "    accuracy                           0.98       389\n",
      "   macro avg       0.98      0.96      0.97       389\n",
      "weighted avg       0.98      0.98      0.98       389\n",
      "\n",
      "\u001b[32mAccuracy of Support Vector Classifier: 98.20%\n"
     ]
    }
   ],
   "source": [
    "from sklearn.svm import SVC\n",
    "\n",
    "sc_clf = SVC()\n",
    "sc_clf.fit(x_train, y_train)\n",
    "sc_clf_pred = sc_clf.predict(x_test)\n",
    "sc_clf_acc = accuracy_score(y_test, sc_clf_pred)\n",
    "print(classification_report(y_test, sc_clf_pred))\n",
    "print(Fore.GREEN + f\"Accuracy of Support Vector Classifier: {100*sc_clf_acc:2.2f}%\")"
   ]
  },
  {
   "cell_type": "code",
   "execution_count": 110,
   "id": "28c6b7df",
   "metadata": {},
   "outputs": [
    {
     "name": "stdout",
     "output_type": "stream",
     "text": [
      "{'C': 1.0, 'break_ties': False, 'cache_size': 200, 'class_weight': None, 'coef0': 0.0, 'decision_function_shape': 'ovr', 'degree': 3, 'gamma': 'scale', 'kernel': 'rbf', 'max_iter': -1, 'probability': False, 'random_state': None, 'shrinking': True, 'tol': 0.001, 'verbose': False}\n",
      "\n",
      "Apply default params(Training) -> 98.39%\n"
     ]
    }
   ],
   "source": [
    "print(sc_clf.get_params())\n",
    "print(f\"\\nApply default params(Training) -> {100*sc_clf.score(x_train, y_train):.2f}%\")"
   ]
  },
  {
   "cell_type": "code",
   "execution_count": 89,
   "id": "bb8cc4c6",
   "metadata": {},
   "outputs": [
    {
     "data": {
      "text/html": [
       "<style>#sk-container-id-12 {color: black;background-color: white;}#sk-container-id-12 pre{padding: 0;}#sk-container-id-12 div.sk-toggleable {background-color: white;}#sk-container-id-12 label.sk-toggleable__label {cursor: pointer;display: block;width: 100%;margin-bottom: 0;padding: 0.3em;box-sizing: border-box;text-align: center;}#sk-container-id-12 label.sk-toggleable__label-arrow:before {content: \"▸\";float: left;margin-right: 0.25em;color: #696969;}#sk-container-id-12 label.sk-toggleable__label-arrow:hover:before {color: black;}#sk-container-id-12 div.sk-estimator:hover label.sk-toggleable__label-arrow:before {color: black;}#sk-container-id-12 div.sk-toggleable__content {max-height: 0;max-width: 0;overflow: hidden;text-align: left;background-color: #f0f8ff;}#sk-container-id-12 div.sk-toggleable__content pre {margin: 0.2em;color: black;border-radius: 0.25em;background-color: #f0f8ff;}#sk-container-id-12 input.sk-toggleable__control:checked~div.sk-toggleable__content {max-height: 200px;max-width: 100%;overflow: auto;}#sk-container-id-12 input.sk-toggleable__control:checked~label.sk-toggleable__label-arrow:before {content: \"▾\";}#sk-container-id-12 div.sk-estimator input.sk-toggleable__control:checked~label.sk-toggleable__label {background-color: #d4ebff;}#sk-container-id-12 div.sk-label input.sk-toggleable__control:checked~label.sk-toggleable__label {background-color: #d4ebff;}#sk-container-id-12 input.sk-hidden--visually {border: 0;clip: rect(1px 1px 1px 1px);clip: rect(1px, 1px, 1px, 1px);height: 1px;margin: -1px;overflow: hidden;padding: 0;position: absolute;width: 1px;}#sk-container-id-12 div.sk-estimator {font-family: monospace;background-color: #f0f8ff;border: 1px dotted black;border-radius: 0.25em;box-sizing: border-box;margin-bottom: 0.5em;}#sk-container-id-12 div.sk-estimator:hover {background-color: #d4ebff;}#sk-container-id-12 div.sk-parallel-item::after {content: \"\";width: 100%;border-bottom: 1px solid gray;flex-grow: 1;}#sk-container-id-12 div.sk-label:hover label.sk-toggleable__label {background-color: #d4ebff;}#sk-container-id-12 div.sk-serial::before {content: \"\";position: absolute;border-left: 1px solid gray;box-sizing: border-box;top: 0;bottom: 0;left: 50%;z-index: 0;}#sk-container-id-12 div.sk-serial {display: flex;flex-direction: column;align-items: center;background-color: white;padding-right: 0.2em;padding-left: 0.2em;position: relative;}#sk-container-id-12 div.sk-item {position: relative;z-index: 1;}#sk-container-id-12 div.sk-parallel {display: flex;align-items: stretch;justify-content: center;background-color: white;position: relative;}#sk-container-id-12 div.sk-item::before, #sk-container-id-12 div.sk-parallel-item::before {content: \"\";position: absolute;border-left: 1px solid gray;box-sizing: border-box;top: 0;bottom: 0;left: 50%;z-index: -1;}#sk-container-id-12 div.sk-parallel-item {display: flex;flex-direction: column;z-index: 1;position: relative;background-color: white;}#sk-container-id-12 div.sk-parallel-item:first-child::after {align-self: flex-end;width: 50%;}#sk-container-id-12 div.sk-parallel-item:last-child::after {align-self: flex-start;width: 50%;}#sk-container-id-12 div.sk-parallel-item:only-child::after {width: 0;}#sk-container-id-12 div.sk-dashed-wrapped {border: 1px dashed gray;margin: 0 0.4em 0.5em 0.4em;box-sizing: border-box;padding-bottom: 0.4em;background-color: white;}#sk-container-id-12 div.sk-label label {font-family: monospace;font-weight: bold;display: inline-block;line-height: 1.2em;}#sk-container-id-12 div.sk-label-container {text-align: center;}#sk-container-id-12 div.sk-container {/* jupyter's `normalize.less` sets `[hidden] { display: none; }` but bootstrap.min.css set `[hidden] { display: none !important; }` so we also need the `!important` here to be able to override the default hidden behavior on the sphinx rendered scikit-learn.org. See: https://github.com/scikit-learn/scikit-learn/issues/21755 */display: inline-block !important;position: relative;}#sk-container-id-12 div.sk-text-repr-fallback {display: none;}</style><div id=\"sk-container-id-12\" class=\"sk-top-container\"><div class=\"sk-text-repr-fallback\"><pre>GridSearchCV(cv=10, estimator=SVC(), n_jobs=8,\n",
       "             param_grid={&#x27;C&#x27;: [0.01, 0.1, 0.5, 0.9, 1, 5, 10],\n",
       "                         &#x27;gamma&#x27;: [0.1, 1, 10, &#x27;scale&#x27;],\n",
       "                         &#x27;kernel&#x27;: [&#x27;linear&#x27;, &#x27;rbf&#x27;, &#x27;poly&#x27;]},\n",
       "             scoring=&#x27;accuracy&#x27;)</pre><b>In a Jupyter environment, please rerun this cell to show the HTML representation or trust the notebook. <br />On GitHub, the HTML representation is unable to render, please try loading this page with nbviewer.org.</b></div><div class=\"sk-container\" hidden><div class=\"sk-item sk-dashed-wrapped\"><div class=\"sk-label-container\"><div class=\"sk-label sk-toggleable\"><input class=\"sk-toggleable__control sk-hidden--visually\" id=\"sk-estimator-id-34\" type=\"checkbox\" ><label for=\"sk-estimator-id-34\" class=\"sk-toggleable__label sk-toggleable__label-arrow\">GridSearchCV</label><div class=\"sk-toggleable__content\"><pre>GridSearchCV(cv=10, estimator=SVC(), n_jobs=8,\n",
       "             param_grid={&#x27;C&#x27;: [0.01, 0.1, 0.5, 0.9, 1, 5, 10],\n",
       "                         &#x27;gamma&#x27;: [0.1, 1, 10, &#x27;scale&#x27;],\n",
       "                         &#x27;kernel&#x27;: [&#x27;linear&#x27;, &#x27;rbf&#x27;, &#x27;poly&#x27;]},\n",
       "             scoring=&#x27;accuracy&#x27;)</pre></div></div></div><div class=\"sk-parallel\"><div class=\"sk-parallel-item\"><div class=\"sk-item\"><div class=\"sk-label-container\"><div class=\"sk-label sk-toggleable\"><input class=\"sk-toggleable__control sk-hidden--visually\" id=\"sk-estimator-id-35\" type=\"checkbox\" ><label for=\"sk-estimator-id-35\" class=\"sk-toggleable__label sk-toggleable__label-arrow\">estimator: SVC</label><div class=\"sk-toggleable__content\"><pre>SVC()</pre></div></div></div><div class=\"sk-serial\"><div class=\"sk-item\"><div class=\"sk-estimator sk-toggleable\"><input class=\"sk-toggleable__control sk-hidden--visually\" id=\"sk-estimator-id-36\" type=\"checkbox\" ><label for=\"sk-estimator-id-36\" class=\"sk-toggleable__label sk-toggleable__label-arrow\">SVC</label><div class=\"sk-toggleable__content\"><pre>SVC()</pre></div></div></div></div></div></div></div></div></div></div>"
      ],
      "text/plain": [
       "GridSearchCV(cv=10, estimator=SVC(), n_jobs=8,\n",
       "             param_grid={'C': [0.01, 0.1, 0.5, 0.9, 1, 5, 10],\n",
       "                         'gamma': [0.1, 1, 10, 'scale'],\n",
       "                         'kernel': ['linear', 'rbf', 'poly']},\n",
       "             scoring='accuracy')"
      ]
     },
     "execution_count": 89,
     "metadata": {},
     "output_type": "execute_result"
    }
   ],
   "source": [
    "parameters = {'C':[0.01, 0.1, 0.5, 0.9, 1, 5, 10], 'kernel':['linear', 'rbf', 'poly'], 'gamma':[0.1, 1, 10,'scale']}\n",
    "\n",
    "svc=SVC()\n",
    "GS_SVM = GridSearchCV(svc, parameters, cv=10, n_jobs=n_thread, scoring='accuracy')\n",
    "GS_SVM.fit(x_train, y_train)"
   ]
  },
  {
   "cell_type": "code",
   "execution_count": 111,
   "id": "e3bba3dd",
   "metadata": {},
   "outputs": [
    {
     "name": "stdout",
     "output_type": "stream",
     "text": [
      "final params {'C': 5, 'gamma': 0.1, 'kernel': 'rbf'}\n",
      "best score 0.9838999172870141\n"
     ]
    }
   ],
   "source": [
    "# Training\n",
    "print('final params', GS_SVM.best_params_)\n",
    "print('best score', GS_SVM.best_score_)"
   ]
  },
  {
   "cell_type": "code",
   "execution_count": 112,
   "id": "bf81e28f",
   "metadata": {},
   "outputs": [
    {
     "name": "stdout",
     "output_type": "stream",
     "text": [
      "              precision    recall  f1-score   support\n",
      "\n",
      "           0       0.98      1.00      0.99       311\n",
      "           1       0.99      0.91      0.95        78\n",
      "\n",
      "    accuracy                           0.98       389\n",
      "   macro avg       0.98      0.95      0.97       389\n",
      "weighted avg       0.98      0.98      0.98       389\n",
      "\n",
      "\u001b[32mAccuracy of GS Support Vector Classifier: 97.94%\n"
     ]
    }
   ],
   "source": [
    "GS_SVM_pred = GS_SVM.predict(x_test)\n",
    "GS_SVM_acc = accuracy_score(y_test, GS_SVM_pred)\n",
    "print(classification_report(y_test, GS_SVM_pred))\n",
    "print(Fore.GREEN + f\"Accuracy of GS Support Vector Classifier: {100*GS_SVM_acc:2.2f}%\")"
   ]
  },
  {
   "cell_type": "code",
   "execution_count": 113,
   "id": "0b5761fc",
   "metadata": {},
   "outputs": [
    {
     "data": {
      "text/plain": [
       "<Figure size 500x500 with 0 Axes>"
      ]
     },
     "metadata": {},
     "output_type": "display_data"
    },
    {
     "data": {
      "image/png": "[encoded data removed]",
      "text/plain": [
       "<Figure size 640x480 with 1 Axes>"
      ]
     },
     "metadata": {
      "image/png": {
       "height": 432,
       "width": 493
      }
     },
     "output_type": "display_data"
    }
   ],
   "source": [
    "cm=confusion_matrix(y_test, GS_SVM_pred)\n",
    "\n",
    "plt.figure(figsize=(5,5))\n",
    "plot_confusion_matrix(cm, hide_ticks=True, cmap=plt.cm.Blues)\n",
    "plt.xticks(range(2), ['K-Scatch X', 'K-Scatch O'])\n",
    "plt.yticks(range(2), ['K-Scatch X', 'K-Scatch O'])\n",
    "plt.show()"
   ]
  },
  {
   "cell_type": "markdown",
   "id": "b61551a7",
   "metadata": {},
   "source": [
    "## ANN\n",
    "**Parameters**\n",
    "- hidden_layer_size: tuple, **default=(100,)**\n",
    "    - Ex) (3,2)-> 1번째 hidden layer 3 & 2번째 hidden layer 2\n",
    "- activation: 'identity', 'logistic', 'tanh', **'relu'**\n",
    "- solver: 'lbfgs', 'sgd', **'adam'**\n",
    "    - 'lbfgs'는 샘플이 크지않을 때 adam보다 효과가 좋음\n",
    "- alpha\n",
    "- beta_1, beta_2\n",
    "    - 'adam'을 썼을 때 수렴이 잘 안되면 사용\n",
    "    \n",
    "**Tips**\n",
    "- 일반적으로 hidden layer는 하나로 충분(데이터가 매우 크지 않을 때)\n",
    "- hidden layer가 2개를 넘어서면 자칫 local minimum에 빠지는 경우가 발생\n",
    "- hiden node는 Grid Search로 찾는 것이 일반적\n",
    "    - $\\text{Number of Neurons} = \\cfrac{\\text{Training Data Samples}}{\\text{Factor}\\times\\text{(Input Neurons}+\\text{Output Neurons)}}$\n",
    "    - **The factor is used to prevent over-fitting and it is number between 1-10**"
   ]
  },
  {
   "cell_type": "code",
   "execution_count": 114,
   "id": "c61151a3",
   "metadata": {},
   "outputs": [
    {
     "name": "stdout",
     "output_type": "stream",
     "text": [
      "              precision    recall  f1-score   support\n",
      "\n",
      "           0       0.98      0.99      0.99       311\n",
      "           1       0.97      0.94      0.95        78\n",
      "\n",
      "    accuracy                           0.98       389\n",
      "   macro avg       0.98      0.96      0.97       389\n",
      "weighted avg       0.98      0.98      0.98       389\n",
      "\n",
      "\u001b[32mAccuracy of Neural Network is: 98.20%\n"
     ]
    }
   ],
   "source": [
    "from sklearn.neural_network import MLPClassifier\n",
    "\n",
    "nn_model = MLPClassifier(max_iter=1000)\n",
    "nn_model.fit(x_train, y_train)\n",
    "nn_model_pred = nn_model.predict(x_test)\n",
    "nn_model_acc = accuracy_score(y_test, nn_model_pred)\n",
    "print(classification_report(y_test, nn_model_pred))\n",
    "print(Fore.GREEN + f\"Accuracy of Neural Network is: {100*nn_model_acc:2.2f}%\")"
   ]
  },
  {
   "cell_type": "code",
   "execution_count": 115,
   "id": "8a18cc90",
   "metadata": {},
   "outputs": [
    {
     "data": {
      "text/plain": [
       "(1552, 27)"
      ]
     },
     "execution_count": 115,
     "metadata": {},
     "output_type": "execute_result"
    }
   ],
   "source": [
    "x_train.shape"
   ]
  },
  {
   "cell_type": "code",
   "execution_count": 116,
   "id": "18293b00",
   "metadata": {},
   "outputs": [
    {
     "data": {
      "text/plain": [
       "57.48148148148148"
      ]
     },
     "execution_count": 116,
     "metadata": {},
     "output_type": "execute_result"
    }
   ],
   "source": [
    "1552/(1*(26+1))"
   ]
  },
  {
   "cell_type": "code",
   "execution_count": 117,
   "id": "46bc6865",
   "metadata": {},
   "outputs": [
    {
     "data": {
      "text/plain": [
       "5.7481481481481485"
      ]
     },
     "execution_count": 117,
     "metadata": {},
     "output_type": "execute_result"
    }
   ],
   "source": [
    "1552/(10*(26+1))"
   ]
  },
  {
   "cell_type": "code",
   "execution_count": 118,
   "id": "e76bf7eb",
   "metadata": {},
   "outputs": [],
   "source": [
    "nn_model2 = MLPClassifier(random_state=13725, max_iter=1000)"
   ]
  },
  {
   "cell_type": "code",
   "execution_count": 119,
   "id": "f1d2d9ff",
   "metadata": {
    "scrolled": true
   },
   "outputs": [
    {
     "name": "stderr",
     "output_type": "stream",
     "text": [
      "/opt/homebrew/anaconda3/lib/python3.9/site-packages/sklearn/neural_network/_multilayer_perceptron.py:536: ConvergenceWarning: lbfgs failed to converge (status=1):\n",
      "STOP: TOTAL NO. of ITERATIONS REACHED LIMIT.\n",
      "\n",
      "Increase the number of iterations (max_iter) or scale the data as shown in:\n",
      "    https://scikit-learn.org/stable/modules/preprocessing.html\n",
      "  self.n_iter_ = _check_optimize_result(\"lbfgs\", opt_res, self.max_iter)\n",
      "/opt/homebrew/anaconda3/lib/python3.9/site-packages/sklearn/neural_network/_multilayer_perceptron.py:536: ConvergenceWarning: lbfgs failed to converge (status=1):\n",
      "STOP: TOTAL NO. of ITERATIONS REACHED LIMIT.\n",
      "\n",
      "Increase the number of iterations (max_iter) or scale the data as shown in:\n",
      "    https://scikit-learn.org/stable/modules/preprocessing.html\n",
      "  self.n_iter_ = _check_optimize_result(\"lbfgs\", opt_res, self.max_iter)\n",
      "/opt/homebrew/anaconda3/lib/python3.9/site-packages/sklearn/neural_network/_multilayer_perceptron.py:536: ConvergenceWarning: lbfgs failed to converge (status=1):\n",
      "STOP: TOTAL NO. of ITERATIONS REACHED LIMIT.\n",
      "\n",
      "Increase the number of iterations (max_iter) or scale the data as shown in:\n",
      "    https://scikit-learn.org/stable/modules/preprocessing.html\n",
      "  self.n_iter_ = _check_optimize_result(\"lbfgs\", opt_res, self.max_iter)\n",
      "/opt/homebrew/anaconda3/lib/python3.9/site-packages/sklearn/neural_network/_multilayer_perceptron.py:536: ConvergenceWarning: lbfgs failed to converge (status=1):\n",
      "STOP: TOTAL NO. of ITERATIONS REACHED LIMIT.\n",
      "\n",
      "Increase the number of iterations (max_iter) or scale the data as shown in:\n",
      "    https://scikit-learn.org/stable/modules/preprocessing.html\n",
      "  self.n_iter_ = _check_optimize_result(\"lbfgs\", opt_res, self.max_iter)\n"
     ]
    },
    {
     "data": {
      "text/html": [
       "<style>#sk-container-id-14 {color: black;background-color: white;}#sk-container-id-14 pre{padding: 0;}#sk-container-id-14 div.sk-toggleable {background-color: white;}#sk-container-id-14 label.sk-toggleable__label {cursor: pointer;display: block;width: 100%;margin-bottom: 0;padding: 0.3em;box-sizing: border-box;text-align: center;}#sk-container-id-14 label.sk-toggleable__label-arrow:before {content: \"▸\";float: left;margin-right: 0.25em;color: #696969;}#sk-container-id-14 label.sk-toggleable__label-arrow:hover:before {color: black;}#sk-container-id-14 div.sk-estimator:hover label.sk-toggleable__label-arrow:before {color: black;}#sk-container-id-14 div.sk-toggleable__content {max-height: 0;max-width: 0;overflow: hidden;text-align: left;background-color: #f0f8ff;}#sk-container-id-14 div.sk-toggleable__content pre {margin: 0.2em;color: black;border-radius: 0.25em;background-color: #f0f8ff;}#sk-container-id-14 input.sk-toggleable__control:checked~div.sk-toggleable__content {max-height: 200px;max-width: 100%;overflow: auto;}#sk-container-id-14 input.sk-toggleable__control:checked~label.sk-toggleable__label-arrow:before {content: \"▾\";}#sk-container-id-14 div.sk-estimator input.sk-toggleable__control:checked~label.sk-toggleable__label {background-color: #d4ebff;}#sk-container-id-14 div.sk-label input.sk-toggleable__control:checked~label.sk-toggleable__label {background-color: #d4ebff;}#sk-container-id-14 input.sk-hidden--visually {border: 0;clip: rect(1px 1px 1px 1px);clip: rect(1px, 1px, 1px, 1px);height: 1px;margin: -1px;overflow: hidden;padding: 0;position: absolute;width: 1px;}#sk-container-id-14 div.sk-estimator {font-family: monospace;background-color: #f0f8ff;border: 1px dotted black;border-radius: 0.25em;box-sizing: border-box;margin-bottom: 0.5em;}#sk-container-id-14 div.sk-estimator:hover {background-color: #d4ebff;}#sk-container-id-14 div.sk-parallel-item::after {content: \"\";width: 100%;border-bottom: 1px solid gray;flex-grow: 1;}#sk-container-id-14 div.sk-label:hover label.sk-toggleable__label {background-color: #d4ebff;}#sk-container-id-14 div.sk-serial::before {content: \"\";position: absolute;border-left: 1px solid gray;box-sizing: border-box;top: 0;bottom: 0;left: 50%;z-index: 0;}#sk-container-id-14 div.sk-serial {display: flex;flex-direction: column;align-items: center;background-color: white;padding-right: 0.2em;padding-left: 0.2em;position: relative;}#sk-container-id-14 div.sk-item {position: relative;z-index: 1;}#sk-container-id-14 div.sk-parallel {display: flex;align-items: stretch;justify-content: center;background-color: white;position: relative;}#sk-container-id-14 div.sk-item::before, #sk-container-id-14 div.sk-parallel-item::before {content: \"\";position: absolute;border-left: 1px solid gray;box-sizing: border-box;top: 0;bottom: 0;left: 50%;z-index: -1;}#sk-container-id-14 div.sk-parallel-item {display: flex;flex-direction: column;z-index: 1;position: relative;background-color: white;}#sk-container-id-14 div.sk-parallel-item:first-child::after {align-self: flex-end;width: 50%;}#sk-container-id-14 div.sk-parallel-item:last-child::after {align-self: flex-start;width: 50%;}#sk-container-id-14 div.sk-parallel-item:only-child::after {width: 0;}#sk-container-id-14 div.sk-dashed-wrapped {border: 1px dashed gray;margin: 0 0.4em 0.5em 0.4em;box-sizing: border-box;padding-bottom: 0.4em;background-color: white;}#sk-container-id-14 div.sk-label label {font-family: monospace;font-weight: bold;display: inline-block;line-height: 1.2em;}#sk-container-id-14 div.sk-label-container {text-align: center;}#sk-container-id-14 div.sk-container {/* jupyter's `normalize.less` sets `[hidden] { display: none; }` but bootstrap.min.css set `[hidden] { display: none !important; }` so we also need the `!important` here to be able to override the default hidden behavior on the sphinx rendered scikit-learn.org. See: https://github.com/scikit-learn/scikit-learn/issues/21755 */display: inline-block !important;position: relative;}#sk-container-id-14 div.sk-text-repr-fallback {display: none;}</style><div id=\"sk-container-id-14\" class=\"sk-top-container\"><div class=\"sk-text-repr-fallback\"><pre>GridSearchCV(cv=10, estimator=MLPClassifier(max_iter=1000, random_state=13725),\n",
       "             n_jobs=8,\n",
       "             param_grid={&#x27;activation&#x27;: [&#x27;tanh&#x27;, &#x27;relu&#x27;],\n",
       "                         &#x27;alpha&#x27;: [0.001, 0.1, 10.0],\n",
       "                         &#x27;hidden_layer_sizes&#x27;: [5, 30, 60],\n",
       "                         &#x27;solver&#x27;: [&#x27;adam&#x27;, &#x27;lbfgs&#x27;]},\n",
       "             scoring=&#x27;accuracy&#x27;)</pre><b>In a Jupyter environment, please rerun this cell to show the HTML representation or trust the notebook. <br />On GitHub, the HTML representation is unable to render, please try loading this page with nbviewer.org.</b></div><div class=\"sk-container\" hidden><div class=\"sk-item sk-dashed-wrapped\"><div class=\"sk-label-container\"><div class=\"sk-label sk-toggleable\"><input class=\"sk-toggleable__control sk-hidden--visually\" id=\"sk-estimator-id-38\" type=\"checkbox\" ><label for=\"sk-estimator-id-38\" class=\"sk-toggleable__label sk-toggleable__label-arrow\">GridSearchCV</label><div class=\"sk-toggleable__content\"><pre>GridSearchCV(cv=10, estimator=MLPClassifier(max_iter=1000, random_state=13725),\n",
       "             n_jobs=8,\n",
       "             param_grid={&#x27;activation&#x27;: [&#x27;tanh&#x27;, &#x27;relu&#x27;],\n",
       "                         &#x27;alpha&#x27;: [0.001, 0.1, 10.0],\n",
       "                         &#x27;hidden_layer_sizes&#x27;: [5, 30, 60],\n",
       "                         &#x27;solver&#x27;: [&#x27;adam&#x27;, &#x27;lbfgs&#x27;]},\n",
       "             scoring=&#x27;accuracy&#x27;)</pre></div></div></div><div class=\"sk-parallel\"><div class=\"sk-parallel-item\"><div class=\"sk-item\"><div class=\"sk-label-container\"><div class=\"sk-label sk-toggleable\"><input class=\"sk-toggleable__control sk-hidden--visually\" id=\"sk-estimator-id-39\" type=\"checkbox\" ><label for=\"sk-estimator-id-39\" class=\"sk-toggleable__label sk-toggleable__label-arrow\">estimator: MLPClassifier</label><div class=\"sk-toggleable__content\"><pre>MLPClassifier(max_iter=1000, random_state=13725)</pre></div></div></div><div class=\"sk-serial\"><div class=\"sk-item\"><div class=\"sk-estimator sk-toggleable\"><input class=\"sk-toggleable__control sk-hidden--visually\" id=\"sk-estimator-id-40\" type=\"checkbox\" ><label for=\"sk-estimator-id-40\" class=\"sk-toggleable__label sk-toggleable__label-arrow\">MLPClassifier</label><div class=\"sk-toggleable__content\"><pre>MLPClassifier(max_iter=1000, random_state=13725)</pre></div></div></div></div></div></div></div></div></div></div>"
      ],
      "text/plain": [
       "GridSearchCV(cv=10, estimator=MLPClassifier(max_iter=1000, random_state=13725),\n",
       "             n_jobs=8,\n",
       "             param_grid={'activation': ['tanh', 'relu'],\n",
       "                         'alpha': [0.001, 0.1, 10.0],\n",
       "                         'hidden_layer_sizes': [5, 30, 60],\n",
       "                         'solver': ['adam', 'lbfgs']},\n",
       "             scoring='accuracy')"
      ]
     },
     "execution_count": 119,
     "metadata": {},
     "output_type": "execute_result"
    }
   ],
   "source": [
    "parameters = {'alpha':[1e-3, 1e-1, 1e1],\n",
    "              'hidden_layer_sizes':[(5), (30), (60)],\n",
    "              'activation':['tanh', 'relu'],\n",
    "              'solver':['adam', 'lbfgs']\n",
    "             }\n",
    "GS_NN=GridSearchCV(nn_model2, parameters, cv=10, n_jobs=n_thread, scoring='accuracy')\n",
    "GS_NN.fit(x_train, y_train)"
   ]
  },
  {
   "cell_type": "code",
   "execution_count": 120,
   "id": "04eb0db6",
   "metadata": {},
   "outputs": [
    {
     "name": "stdout",
     "output_type": "stream",
     "text": [
      "final params {'activation': 'relu', 'alpha': 0.001, 'hidden_layer_sizes': 60, 'solver': 'adam'}\n",
      "best score 0.979387923904053\n"
     ]
    }
   ],
   "source": [
    "print('final params', GS_NN.best_params_)\n",
    "print('best score', GS_NN.best_score_)"
   ]
  },
  {
   "cell_type": "code",
   "execution_count": 121,
   "id": "73c1e996",
   "metadata": {},
   "outputs": [
    {
     "name": "stdout",
     "output_type": "stream",
     "text": [
      "0.969 (+/-0.016) for {'activation': 'tanh', 'alpha': 0.001, 'hidden_layer_sizes': 5, 'solver': 'adam'}\n",
      "0.972 (+/-0.016) for {'activation': 'tanh', 'alpha': 0.001, 'hidden_layer_sizes': 5, 'solver': 'lbfgs'}\n",
      "0.976 (+/-0.014) for {'activation': 'tanh', 'alpha': 0.001, 'hidden_layer_sizes': 30, 'solver': 'adam'}\n",
      "0.975 (+/-0.013) for {'activation': 'tanh', 'alpha': 0.001, 'hidden_layer_sizes': 30, 'solver': 'lbfgs'}\n",
      "0.978 (+/-0.014) for {'activation': 'tanh', 'alpha': 0.001, 'hidden_layer_sizes': 60, 'solver': 'adam'}\n",
      "0.976 (+/-0.011) for {'activation': 'tanh', 'alpha': 0.001, 'hidden_layer_sizes': 60, 'solver': 'lbfgs'}\n",
      "0.967 (+/-0.016) for {'activation': 'tanh', 'alpha': 0.1, 'hidden_layer_sizes': 5, 'solver': 'adam'}\n",
      "0.976 (+/-0.013) for {'activation': 'tanh', 'alpha': 0.1, 'hidden_layer_sizes': 5, 'solver': 'lbfgs'}\n",
      "0.978 (+/-0.011) for {'activation': 'tanh', 'alpha': 0.1, 'hidden_layer_sizes': 30, 'solver': 'adam'}\n",
      "0.976 (+/-0.013) for {'activation': 'tanh', 'alpha': 0.1, 'hidden_layer_sizes': 30, 'solver': 'lbfgs'}\n",
      "0.979 (+/-0.013) for {'activation': 'tanh', 'alpha': 0.1, 'hidden_layer_sizes': 60, 'solver': 'adam'}\n",
      "0.978 (+/-0.010) for {'activation': 'tanh', 'alpha': 0.1, 'hidden_layer_sizes': 60, 'solver': 'lbfgs'}\n",
      "0.958 (+/-0.014) for {'activation': 'tanh', 'alpha': 10.0, 'hidden_layer_sizes': 5, 'solver': 'adam'}\n",
      "0.972 (+/-0.012) for {'activation': 'tanh', 'alpha': 10.0, 'hidden_layer_sizes': 5, 'solver': 'lbfgs'}\n",
      "0.957 (+/-0.015) for {'activation': 'tanh', 'alpha': 10.0, 'hidden_layer_sizes': 30, 'solver': 'adam'}\n",
      "0.972 (+/-0.014) for {'activation': 'tanh', 'alpha': 10.0, 'hidden_layer_sizes': 30, 'solver': 'lbfgs'}\n",
      "0.957 (+/-0.015) for {'activation': 'tanh', 'alpha': 10.0, 'hidden_layer_sizes': 60, 'solver': 'adam'}\n",
      "0.972 (+/-0.014) for {'activation': 'tanh', 'alpha': 10.0, 'hidden_layer_sizes': 60, 'solver': 'lbfgs'}\n",
      "0.963 (+/-0.015) for {'activation': 'relu', 'alpha': 0.001, 'hidden_layer_sizes': 5, 'solver': 'adam'}\n",
      "0.974 (+/-0.012) for {'activation': 'relu', 'alpha': 0.001, 'hidden_layer_sizes': 5, 'solver': 'lbfgs'}\n",
      "0.976 (+/-0.012) for {'activation': 'relu', 'alpha': 0.001, 'hidden_layer_sizes': 30, 'solver': 'adam'}\n",
      "0.972 (+/-0.012) for {'activation': 'relu', 'alpha': 0.001, 'hidden_layer_sizes': 30, 'solver': 'lbfgs'}\n",
      "0.979 (+/-0.012) for {'activation': 'relu', 'alpha': 0.001, 'hidden_layer_sizes': 60, 'solver': 'adam'}\n",
      "0.972 (+/-0.013) for {'activation': 'relu', 'alpha': 0.001, 'hidden_layer_sizes': 60, 'solver': 'lbfgs'}\n",
      "0.966 (+/-0.016) for {'activation': 'relu', 'alpha': 0.1, 'hidden_layer_sizes': 5, 'solver': 'adam'}\n",
      "0.972 (+/-0.012) for {'activation': 'relu', 'alpha': 0.1, 'hidden_layer_sizes': 5, 'solver': 'lbfgs'}\n",
      "0.977 (+/-0.011) for {'activation': 'relu', 'alpha': 0.1, 'hidden_layer_sizes': 30, 'solver': 'adam'}\n",
      "0.978 (+/-0.008) for {'activation': 'relu', 'alpha': 0.1, 'hidden_layer_sizes': 30, 'solver': 'lbfgs'}\n",
      "0.976 (+/-0.013) for {'activation': 'relu', 'alpha': 0.1, 'hidden_layer_sizes': 60, 'solver': 'adam'}\n",
      "0.979 (+/-0.009) for {'activation': 'relu', 'alpha': 0.1, 'hidden_layer_sizes': 60, 'solver': 'lbfgs'}\n",
      "0.958 (+/-0.015) for {'activation': 'relu', 'alpha': 10.0, 'hidden_layer_sizes': 5, 'solver': 'adam'}\n",
      "0.972 (+/-0.014) for {'activation': 'relu', 'alpha': 10.0, 'hidden_layer_sizes': 5, 'solver': 'lbfgs'}\n",
      "0.959 (+/-0.015) for {'activation': 'relu', 'alpha': 10.0, 'hidden_layer_sizes': 30, 'solver': 'adam'}\n",
      "0.974 (+/-0.012) for {'activation': 'relu', 'alpha': 10.0, 'hidden_layer_sizes': 30, 'solver': 'lbfgs'}\n",
      "0.959 (+/-0.015) for {'activation': 'relu', 'alpha': 10.0, 'hidden_layer_sizes': 60, 'solver': 'adam'}\n",
      "0.975 (+/-0.012) for {'activation': 'relu', 'alpha': 10.0, 'hidden_layer_sizes': 60, 'solver': 'lbfgs'}\n"
     ]
    }
   ],
   "source": [
    "means = GS_NN.cv_results_['mean_test_score']\n",
    "stds = GS_NN.cv_results_['std_test_score']\n",
    "params = GS_NN.cv_results_['params']\n",
    "for mean, std, param in zip(means, stds, params):\n",
    "    print(\"{0:.3f} (+/-{1:.03f}) for {2}\".format(mean, std, param))"
   ]
  },
  {
   "cell_type": "markdown",
   "id": "cc383e57",
   "metadata": {},
   "source": [
    "1. 모든 구간에서는 아니지만, 대부분 동일한 Hyper Parameters가 주워질 때 Adam이 lbfgs보다 낮은 정확도를 가짐 (alpha가 클 때)  \n",
    "    $\\rightarrow$**adam보다는 lbfgs에서 더 Robust한 결과가 나옴**\n",
    "2. 뚜렷하게 나타나지는 않지만, hidden_layer_sizes가 5보다는 30,60에서 더 높은 정확도를 가짐\n",
    "3. alpha는 10보다는 0.1, 0.001이 더 좋은 결과를 가짐  \n",
    "    $\\rightarrow$**0.1과 0.001은 큰 차이가 없음**\n",
    "4. tanh와 relu의 차이는 크지않음\n",
    "5. 대부분의 정확도들이 오차범위 안에 위치\n",
    "    $\\rightarrow$**cross-validation 10번은 충분하지 않음**\n",
    "    $\\rightarrow$**그렇다고 늘리면 오차범위가 더 커질것**\n",
    "- Sample Size: 1500개\n",
    "- Defect Sample Size: 300\n",
    "- Validation Set: (1500, 300) x 1/10 = (150, 30) -> Accuracy 계산\n",
    "    - 150개 30개로 Accuracy를 계산하게되는데 Sample이 더 줄어든다면(cv가 커진다면) Accuracy 계산 하나하나의 값들이 흔들리므로 이 값들도 많이 흔들려서 오히려 Cross Validation을 많이해서 많이 계산했음에도 오차범위가 늘어나게됨\n",
    "    - Cross Validation을 줄여도 계산 자체가 줄어들어 오차범위가 늘어나게됨\n",
    "\n",
    "따라서 현재로서는 오차범위 밖을 벗어나는 Hyper Parameters Set을 확인후 제거 (EX, 'adam')  \n",
    "만약, Convergence Problem이 있다면 다시 adam을 적용  \n",
    "나머지는 되도록이면 best score의 best parameter로 적용"
   ]
  },
  {
   "cell_type": "code",
   "execution_count": 68,
   "id": "c3cb89df",
   "metadata": {
    "scrolled": true
   },
   "outputs": [
    {
     "data": {
      "text/html": [
       "<style>#sk-container-id-7 {color: black;background-color: white;}#sk-container-id-7 pre{padding: 0;}#sk-container-id-7 div.sk-toggleable {background-color: white;}#sk-container-id-7 label.sk-toggleable__label {cursor: pointer;display: block;width: 100%;margin-bottom: 0;padding: 0.3em;box-sizing: border-box;text-align: center;}#sk-container-id-7 label.sk-toggleable__label-arrow:before {content: \"▸\";float: left;margin-right: 0.25em;color: #696969;}#sk-container-id-7 label.sk-toggleable__label-arrow:hover:before {color: black;}#sk-container-id-7 div.sk-estimator:hover label.sk-toggleable__label-arrow:before {color: black;}#sk-container-id-7 div.sk-toggleable__content {max-height: 0;max-width: 0;overflow: hidden;text-align: left;background-color: #f0f8ff;}#sk-container-id-7 div.sk-toggleable__content pre {margin: 0.2em;color: black;border-radius: 0.25em;background-color: #f0f8ff;}#sk-container-id-7 input.sk-toggleable__control:checked~div.sk-toggleable__content {max-height: 200px;max-width: 100%;overflow: auto;}#sk-container-id-7 input.sk-toggleable__control:checked~label.sk-toggleable__label-arrow:before {content: \"▾\";}#sk-container-id-7 div.sk-estimator input.sk-toggleable__control:checked~label.sk-toggleable__label {background-color: #d4ebff;}#sk-container-id-7 div.sk-label input.sk-toggleable__control:checked~label.sk-toggleable__label {background-color: #d4ebff;}#sk-container-id-7 input.sk-hidden--visually {border: 0;clip: rect(1px 1px 1px 1px);clip: rect(1px, 1px, 1px, 1px);height: 1px;margin: -1px;overflow: hidden;padding: 0;position: absolute;width: 1px;}#sk-container-id-7 div.sk-estimator {font-family: monospace;background-color: #f0f8ff;border: 1px dotted black;border-radius: 0.25em;box-sizing: border-box;margin-bottom: 0.5em;}#sk-container-id-7 div.sk-estimator:hover {background-color: #d4ebff;}#sk-container-id-7 div.sk-parallel-item::after {content: \"\";width: 100%;border-bottom: 1px solid gray;flex-grow: 1;}#sk-container-id-7 div.sk-label:hover label.sk-toggleable__label {background-color: #d4ebff;}#sk-container-id-7 div.sk-serial::before {content: \"\";position: absolute;border-left: 1px solid gray;box-sizing: border-box;top: 0;bottom: 0;left: 50%;z-index: 0;}#sk-container-id-7 div.sk-serial {display: flex;flex-direction: column;align-items: center;background-color: white;padding-right: 0.2em;padding-left: 0.2em;position: relative;}#sk-container-id-7 div.sk-item {position: relative;z-index: 1;}#sk-container-id-7 div.sk-parallel {display: flex;align-items: stretch;justify-content: center;background-color: white;position: relative;}#sk-container-id-7 div.sk-item::before, #sk-container-id-7 div.sk-parallel-item::before {content: \"\";position: absolute;border-left: 1px solid gray;box-sizing: border-box;top: 0;bottom: 0;left: 50%;z-index: -1;}#sk-container-id-7 div.sk-parallel-item {display: flex;flex-direction: column;z-index: 1;position: relative;background-color: white;}#sk-container-id-7 div.sk-parallel-item:first-child::after {align-self: flex-end;width: 50%;}#sk-container-id-7 div.sk-parallel-item:last-child::after {align-self: flex-start;width: 50%;}#sk-container-id-7 div.sk-parallel-item:only-child::after {width: 0;}#sk-container-id-7 div.sk-dashed-wrapped {border: 1px dashed gray;margin: 0 0.4em 0.5em 0.4em;box-sizing: border-box;padding-bottom: 0.4em;background-color: white;}#sk-container-id-7 div.sk-label label {font-family: monospace;font-weight: bold;display: inline-block;line-height: 1.2em;}#sk-container-id-7 div.sk-label-container {text-align: center;}#sk-container-id-7 div.sk-container {/* jupyter's `normalize.less` sets `[hidden] { display: none; }` but bootstrap.min.css set `[hidden] { display: none !important; }` so we also need the `!important` here to be able to override the default hidden behavior on the sphinx rendered scikit-learn.org. See: https://github.com/scikit-learn/scikit-learn/issues/21755 */display: inline-block !important;position: relative;}#sk-container-id-7 div.sk-text-repr-fallback {display: none;}</style><div id=\"sk-container-id-7\" class=\"sk-top-container\"><div class=\"sk-text-repr-fallback\"><pre>GridSearchCV(cv=10, estimator=MLPClassifier(max_iter=1000, random_state=13725),\n",
       "             n_jobs=8,\n",
       "             param_grid={&#x27;activation&#x27;: [&#x27;tanh&#x27;], &#x27;alpha&#x27;: [0.1],\n",
       "                         &#x27;hidden_layer_sizes&#x27;: [5, 10, 20, 30],\n",
       "                         &#x27;solver&#x27;: [&#x27;lbfgs&#x27;]},\n",
       "             scoring=&#x27;accuracy&#x27;)</pre><b>In a Jupyter environment, please rerun this cell to show the HTML representation or trust the notebook. <br />On GitHub, the HTML representation is unable to render, please try loading this page with nbviewer.org.</b></div><div class=\"sk-container\" hidden><div class=\"sk-item sk-dashed-wrapped\"><div class=\"sk-label-container\"><div class=\"sk-label sk-toggleable\"><input class=\"sk-toggleable__control sk-hidden--visually\" id=\"sk-estimator-id-19\" type=\"checkbox\" ><label for=\"sk-estimator-id-19\" class=\"sk-toggleable__label sk-toggleable__label-arrow\">GridSearchCV</label><div class=\"sk-toggleable__content\"><pre>GridSearchCV(cv=10, estimator=MLPClassifier(max_iter=1000, random_state=13725),\n",
       "             n_jobs=8,\n",
       "             param_grid={&#x27;activation&#x27;: [&#x27;tanh&#x27;], &#x27;alpha&#x27;: [0.1],\n",
       "                         &#x27;hidden_layer_sizes&#x27;: [5, 10, 20, 30],\n",
       "                         &#x27;solver&#x27;: [&#x27;lbfgs&#x27;]},\n",
       "             scoring=&#x27;accuracy&#x27;)</pre></div></div></div><div class=\"sk-parallel\"><div class=\"sk-parallel-item\"><div class=\"sk-item\"><div class=\"sk-label-container\"><div class=\"sk-label sk-toggleable\"><input class=\"sk-toggleable__control sk-hidden--visually\" id=\"sk-estimator-id-20\" type=\"checkbox\" ><label for=\"sk-estimator-id-20\" class=\"sk-toggleable__label sk-toggleable__label-arrow\">estimator: MLPClassifier</label><div class=\"sk-toggleable__content\"><pre>MLPClassifier(max_iter=1000, random_state=13725)</pre></div></div></div><div class=\"sk-serial\"><div class=\"sk-item\"><div class=\"sk-estimator sk-toggleable\"><input class=\"sk-toggleable__control sk-hidden--visually\" id=\"sk-estimator-id-21\" type=\"checkbox\" ><label for=\"sk-estimator-id-21\" class=\"sk-toggleable__label sk-toggleable__label-arrow\">MLPClassifier</label><div class=\"sk-toggleable__content\"><pre>MLPClassifier(max_iter=1000, random_state=13725)</pre></div></div></div></div></div></div></div></div></div></div>"
      ],
      "text/plain": [
       "GridSearchCV(cv=10, estimator=MLPClassifier(max_iter=1000, random_state=13725),\n",
       "             n_jobs=8,\n",
       "             param_grid={'activation': ['tanh'], 'alpha': [0.1],\n",
       "                         'hidden_layer_sizes': [5, 10, 20, 30],\n",
       "                         'solver': ['lbfgs']},\n",
       "             scoring='accuracy')"
      ]
     },
     "execution_count": 68,
     "metadata": {},
     "output_type": "execute_result"
    }
   ],
   "source": [
    "parameters2 = {'alpha':[1e-1],\n",
    "               'hidden_layer_sizes':[(5), (10), (20), (30)], # 큰 차이가 없다면 일반적으로 과적합은 피해야하므로 (60,)을 제거\n",
    "               'activation':['tanh'],\n",
    "               'solver':['lbfgs']\n",
    "              }\n",
    "GS_NN2=GridSearchCV(nn_model2, parameters2, cv=10, n_jobs=n_thread, scoring='accuracy')\n",
    "GS_NN2.fit(x_train, y_train)"
   ]
  },
  {
   "cell_type": "code",
   "execution_count": 69,
   "id": "0c859c46",
   "metadata": {},
   "outputs": [
    {
     "name": "stdout",
     "output_type": "stream",
     "text": [
      "0.976 (+/-0.013) for {'activation': 'tanh', 'alpha': 0.1, 'hidden_layer_sizes': 5, 'solver': 'lbfgs'}\n",
      "0.974 (+/-0.014) for {'activation': 'tanh', 'alpha': 0.1, 'hidden_layer_sizes': 10, 'solver': 'lbfgs'}\n",
      "0.980 (+/-0.015) for {'activation': 'tanh', 'alpha': 0.1, 'hidden_layer_sizes': 20, 'solver': 'lbfgs'}\n",
      "0.976 (+/-0.013) for {'activation': 'tanh', 'alpha': 0.1, 'hidden_layer_sizes': 30, 'solver': 'lbfgs'}\n"
     ]
    }
   ],
   "source": [
    "means = GS_NN2.cv_results_['mean_test_score']\n",
    "stds = GS_NN2.cv_results_['std_test_score']\n",
    "params = GS_NN2.cv_results_['params']\n",
    "for mean, std, param in zip(means, stds, params):\n",
    "    print(\"{0:.3f} (+/-{1:.03f}) for {2}\".format(mean, std, param))"
   ]
  },
  {
   "cell_type": "markdown",
   "id": "f667f67d",
   "metadata": {},
   "source": [
    "$\\begin{aligned}\n",
    "\\rightarrow &\\text{'hidden_layer_size'를 20으로 선정 후 hidden_layer 층을 하나 더 쌓음}\\\\\n",
    "&\\text{층을 하나 더 쌓았을 때 문제점은 Convergence하지 않을 수 있다는 것}\\\\\n",
    "&\\textbf{모델이 복잡해지는만큼 Samples수가 충분하지 않다면 수렴하지 않을 가능성이 높음}\n",
    "\\end{aligned}$"
   ]
  },
  {
   "cell_type": "code",
   "execution_count": 70,
   "id": "39d3a788",
   "metadata": {
    "scrolled": true
   },
   "outputs": [
    {
     "data": {
      "text/html": [
       "<style>#sk-container-id-8 {color: black;background-color: white;}#sk-container-id-8 pre{padding: 0;}#sk-container-id-8 div.sk-toggleable {background-color: white;}#sk-container-id-8 label.sk-toggleable__label {cursor: pointer;display: block;width: 100%;margin-bottom: 0;padding: 0.3em;box-sizing: border-box;text-align: center;}#sk-container-id-8 label.sk-toggleable__label-arrow:before {content: \"▸\";float: left;margin-right: 0.25em;color: #696969;}#sk-container-id-8 label.sk-toggleable__label-arrow:hover:before {color: black;}#sk-container-id-8 div.sk-estimator:hover label.sk-toggleable__label-arrow:before {color: black;}#sk-container-id-8 div.sk-toggleable__content {max-height: 0;max-width: 0;overflow: hidden;text-align: left;background-color: #f0f8ff;}#sk-container-id-8 div.sk-toggleable__content pre {margin: 0.2em;color: black;border-radius: 0.25em;background-color: #f0f8ff;}#sk-container-id-8 input.sk-toggleable__control:checked~div.sk-toggleable__content {max-height: 200px;max-width: 100%;overflow: auto;}#sk-container-id-8 input.sk-toggleable__control:checked~label.sk-toggleable__label-arrow:before {content: \"▾\";}#sk-container-id-8 div.sk-estimator input.sk-toggleable__control:checked~label.sk-toggleable__label {background-color: #d4ebff;}#sk-container-id-8 div.sk-label input.sk-toggleable__control:checked~label.sk-toggleable__label {background-color: #d4ebff;}#sk-container-id-8 input.sk-hidden--visually {border: 0;clip: rect(1px 1px 1px 1px);clip: rect(1px, 1px, 1px, 1px);height: 1px;margin: -1px;overflow: hidden;padding: 0;position: absolute;width: 1px;}#sk-container-id-8 div.sk-estimator {font-family: monospace;background-color: #f0f8ff;border: 1px dotted black;border-radius: 0.25em;box-sizing: border-box;margin-bottom: 0.5em;}#sk-container-id-8 div.sk-estimator:hover {background-color: #d4ebff;}#sk-container-id-8 div.sk-parallel-item::after {content: \"\";width: 100%;border-bottom: 1px solid gray;flex-grow: 1;}#sk-container-id-8 div.sk-label:hover label.sk-toggleable__label {background-color: #d4ebff;}#sk-container-id-8 div.sk-serial::before {content: \"\";position: absolute;border-left: 1px solid gray;box-sizing: border-box;top: 0;bottom: 0;left: 50%;z-index: 0;}#sk-container-id-8 div.sk-serial {display: flex;flex-direction: column;align-items: center;background-color: white;padding-right: 0.2em;padding-left: 0.2em;position: relative;}#sk-container-id-8 div.sk-item {position: relative;z-index: 1;}#sk-container-id-8 div.sk-parallel {display: flex;align-items: stretch;justify-content: center;background-color: white;position: relative;}#sk-container-id-8 div.sk-item::before, #sk-container-id-8 div.sk-parallel-item::before {content: \"\";position: absolute;border-left: 1px solid gray;box-sizing: border-box;top: 0;bottom: 0;left: 50%;z-index: -1;}#sk-container-id-8 div.sk-parallel-item {display: flex;flex-direction: column;z-index: 1;position: relative;background-color: white;}#sk-container-id-8 div.sk-parallel-item:first-child::after {align-self: flex-end;width: 50%;}#sk-container-id-8 div.sk-parallel-item:last-child::after {align-self: flex-start;width: 50%;}#sk-container-id-8 div.sk-parallel-item:only-child::after {width: 0;}#sk-container-id-8 div.sk-dashed-wrapped {border: 1px dashed gray;margin: 0 0.4em 0.5em 0.4em;box-sizing: border-box;padding-bottom: 0.4em;background-color: white;}#sk-container-id-8 div.sk-label label {font-family: monospace;font-weight: bold;display: inline-block;line-height: 1.2em;}#sk-container-id-8 div.sk-label-container {text-align: center;}#sk-container-id-8 div.sk-container {/* jupyter's `normalize.less` sets `[hidden] { display: none; }` but bootstrap.min.css set `[hidden] { display: none !important; }` so we also need the `!important` here to be able to override the default hidden behavior on the sphinx rendered scikit-learn.org. See: https://github.com/scikit-learn/scikit-learn/issues/21755 */display: inline-block !important;position: relative;}#sk-container-id-8 div.sk-text-repr-fallback {display: none;}</style><div id=\"sk-container-id-8\" class=\"sk-top-container\"><div class=\"sk-text-repr-fallback\"><pre>GridSearchCV(cv=10, estimator=MLPClassifier(max_iter=1000, random_state=13725),\n",
       "             n_jobs=8,\n",
       "             param_grid={&#x27;activation&#x27;: [&#x27;tanh&#x27;], &#x27;alpha&#x27;: [0.1],\n",
       "                         &#x27;hidden_layer_sizes&#x27;: [(20, 2), (20, 5)],\n",
       "                         &#x27;solver&#x27;: [&#x27;lbfgs&#x27;, &#x27;adam&#x27;]},\n",
       "             scoring=&#x27;accuracy&#x27;)</pre><b>In a Jupyter environment, please rerun this cell to show the HTML representation or trust the notebook. <br />On GitHub, the HTML representation is unable to render, please try loading this page with nbviewer.org.</b></div><div class=\"sk-container\" hidden><div class=\"sk-item sk-dashed-wrapped\"><div class=\"sk-label-container\"><div class=\"sk-label sk-toggleable\"><input class=\"sk-toggleable__control sk-hidden--visually\" id=\"sk-estimator-id-22\" type=\"checkbox\" ><label for=\"sk-estimator-id-22\" class=\"sk-toggleable__label sk-toggleable__label-arrow\">GridSearchCV</label><div class=\"sk-toggleable__content\"><pre>GridSearchCV(cv=10, estimator=MLPClassifier(max_iter=1000, random_state=13725),\n",
       "             n_jobs=8,\n",
       "             param_grid={&#x27;activation&#x27;: [&#x27;tanh&#x27;], &#x27;alpha&#x27;: [0.1],\n",
       "                         &#x27;hidden_layer_sizes&#x27;: [(20, 2), (20, 5)],\n",
       "                         &#x27;solver&#x27;: [&#x27;lbfgs&#x27;, &#x27;adam&#x27;]},\n",
       "             scoring=&#x27;accuracy&#x27;)</pre></div></div></div><div class=\"sk-parallel\"><div class=\"sk-parallel-item\"><div class=\"sk-item\"><div class=\"sk-label-container\"><div class=\"sk-label sk-toggleable\"><input class=\"sk-toggleable__control sk-hidden--visually\" id=\"sk-estimator-id-23\" type=\"checkbox\" ><label for=\"sk-estimator-id-23\" class=\"sk-toggleable__label sk-toggleable__label-arrow\">estimator: MLPClassifier</label><div class=\"sk-toggleable__content\"><pre>MLPClassifier(max_iter=1000, random_state=13725)</pre></div></div></div><div class=\"sk-serial\"><div class=\"sk-item\"><div class=\"sk-estimator sk-toggleable\"><input class=\"sk-toggleable__control sk-hidden--visually\" id=\"sk-estimator-id-24\" type=\"checkbox\" ><label for=\"sk-estimator-id-24\" class=\"sk-toggleable__label sk-toggleable__label-arrow\">MLPClassifier</label><div class=\"sk-toggleable__content\"><pre>MLPClassifier(max_iter=1000, random_state=13725)</pre></div></div></div></div></div></div></div></div></div></div>"
      ],
      "text/plain": [
       "GridSearchCV(cv=10, estimator=MLPClassifier(max_iter=1000, random_state=13725),\n",
       "             n_jobs=8,\n",
       "             param_grid={'activation': ['tanh'], 'alpha': [0.1],\n",
       "                         'hidden_layer_sizes': [(20, 2), (20, 5)],\n",
       "                         'solver': ['lbfgs', 'adam']},\n",
       "             scoring='accuracy')"
      ]
     },
     "execution_count": 70,
     "metadata": {},
     "output_type": "execute_result"
    }
   ],
   "source": [
    "parameters3 = {'alpha':[1e-1],\n",
    "               'hidden_layer_sizes':[(20, 2), (20, 5)], # 큰 차이가 없다면 일반적으로 과적합은 피해야하므로 (60,)을 제거\n",
    "               'activation':['tanh'],\n",
    "               'solver':['lbfgs', 'adam']\n",
    "              }\n",
    "GS_NN3=GridSearchCV(nn_model2, parameters3, cv=10, n_jobs=n_thread, scoring='accuracy')\n",
    "GS_NN3.fit(x_train, y_train)"
   ]
  },
  {
   "cell_type": "code",
   "execution_count": 71,
   "id": "d8f873f9",
   "metadata": {},
   "outputs": [
    {
     "name": "stdout",
     "output_type": "stream",
     "text": [
      "0.973 (+/-0.011) for {'activation': 'tanh', 'alpha': 0.1, 'hidden_layer_sizes': (20, 2), 'solver': 'lbfgs'}\n",
      "0.977 (+/-0.013) for {'activation': 'tanh', 'alpha': 0.1, 'hidden_layer_sizes': (20, 2), 'solver': 'adam'}\n",
      "0.974 (+/-0.012) for {'activation': 'tanh', 'alpha': 0.1, 'hidden_layer_sizes': (20, 5), 'solver': 'lbfgs'}\n",
      "0.977 (+/-0.016) for {'activation': 'tanh', 'alpha': 0.1, 'hidden_layer_sizes': (20, 5), 'solver': 'adam'}\n"
     ]
    }
   ],
   "source": [
    "means = GS_NN3.cv_results_['mean_test_score']\n",
    "stds = GS_NN3.cv_results_['std_test_score']\n",
    "params = GS_NN3.cv_results_['params']\n",
    "for mean, std, param in zip(means, stds, params):\n",
    "    print(\"{0:.3f} (+/-{1:.03f}) for {2}\".format(mean, std, param))"
   ]
  },
  {
   "cell_type": "code",
   "execution_count": 72,
   "id": "bd6bfd31",
   "metadata": {},
   "outputs": [
    {
     "name": "stdout",
     "output_type": "stream",
     "text": [
      "              precision    recall  f1-score   support\n",
      "\n",
      "           0       0.99      0.99      0.99       311\n",
      "           1       0.96      0.96      0.96        78\n",
      "\n",
      "    accuracy                           0.98       389\n",
      "   macro avg       0.98      0.98      0.98       389\n",
      "weighted avg       0.98      0.98      0.98       389\n",
      "\n",
      "\u001b[32mAccuracy of GS Neural Network is: 98.46%\n"
     ]
    }
   ],
   "source": [
    "GS_NN_pred = GS_NN2.predict(x_test)\n",
    "GS_NN_acc = accuracy_score(y_test, GS_NN_pred)\n",
    "print(classification_report(y_test, GS_NN_pred))\n",
    "print(Fore.GREEN + f\"Accuracy of GS Neural Network is: {100*GS_NN_acc:2.2f}%\")"
   ]
  },
  {
   "cell_type": "code",
   "execution_count": 73,
   "id": "84d9cf20",
   "metadata": {},
   "outputs": [
    {
     "data": {
      "text/plain": [
       "<Figure size 500x500 with 0 Axes>"
      ]
     },
     "metadata": {},
     "output_type": "display_data"
    },
    {
     "data": {
      "image/png": "[encoded data removed]",
      "text/plain": [
       "<Figure size 640x480 with 1 Axes>"
      ]
     },
     "metadata": {
      "image/png": {
       "height": 432,
       "width": 493
      }
     },
     "output_type": "display_data"
    }
   ],
   "source": [
    "cm = confusion_matrix(y_test, GS_NN_pred)\n",
    "plt.figure(figsize=(5,5))\n",
    "plot_confusion_matrix(cm, cmap=plt.cm.Blues, hide_ticks=True)\n",
    "plt.xticks(range(2),['K-Scatch X', 'K-Scatch O'])\n",
    "plt.yticks(range(2),['K-Scatch X', 'K-Scatch O'])\n",
    "plt.show()"
   ]
  },
  {
   "cell_type": "markdown",
   "id": "ea561c0a",
   "metadata": {},
   "source": [
    "[Intuitive Comprehension](https://playground.tensorflow.org)"
   ]
  },
  {
   "cell_type": "markdown",
   "id": "d6f10382",
   "metadata": {},
   "source": [
    "### Boosting\n",
    "[reference](https://xgboost.readthedocs.io/en/latest/tutorials/param_tuning.html)\n",
    "\n",
    "**Parameters**\n",
    "- Directly control model complexity\n",
    "    - max_depth\n",
    "    - min_child_weight\n",
    "    - gamma\n",
    "- To add randomness to make training robust to noise\n",
    "    - subsample\n",
    "    - colsample_bytree\n",
    "    - eta : stepsize\n",
    "    - num_round"
   ]
  },
  {
   "cell_type": "code",
   "execution_count": 74,
   "id": "bad3afa3",
   "metadata": {},
   "outputs": [],
   "source": [
    "import xgboost as xgb\n",
    "\n",
    "xgb_model = xgb.XGBClassifier(objective='binary:logistic')"
   ]
  },
  {
   "cell_type": "code",
   "execution_count": 122,
   "id": "acc3c096",
   "metadata": {},
   "outputs": [],
   "source": [
    "parameters = {\n",
    "    'max_depth':[5, 8],\n",
    "    'min_child_weight':[1, 5], # Child 안에 Sample이 몇개가 있어야 하는가와 비슷. 너무 Conservative하면 Pruning을 미리부터 시행\n",
    "    'gamma':[0, 1], # Lagrangian Multiplier. The higher Gamma, the higher regularization\n",
    "    'colsample_bytree':[0.8, 1], # 각각의 트리를 구성할 때, 0.8이면 변수를 20% 드랍하고 구성\n",
    "    'colsample_bylevel':[0.9, 1], # 트리에서 드랍한 것에 이어 각각의 노드에서도 10% 드랍\n",
    "    'n_estimators':[50, 100], # BootStrapping을 몇 회 반복할지\n",
    "}   "
   ]
  },
  {
   "cell_type": "code",
   "execution_count": 76,
   "id": "b53b60a5",
   "metadata": {},
   "outputs": [
    {
     "data": {
      "text/html": [
       "<style>#sk-container-id-9 {color: black;background-color: white;}#sk-container-id-9 pre{padding: 0;}#sk-container-id-9 div.sk-toggleable {background-color: white;}#sk-container-id-9 label.sk-toggleable__label {cursor: pointer;display: block;width: 100%;margin-bottom: 0;padding: 0.3em;box-sizing: border-box;text-align: center;}#sk-container-id-9 label.sk-toggleable__label-arrow:before {content: \"▸\";float: left;margin-right: 0.25em;color: #696969;}#sk-container-id-9 label.sk-toggleable__label-arrow:hover:before {color: black;}#sk-container-id-9 div.sk-estimator:hover label.sk-toggleable__label-arrow:before {color: black;}#sk-container-id-9 div.sk-toggleable__content {max-height: 0;max-width: 0;overflow: hidden;text-align: left;background-color: #f0f8ff;}#sk-container-id-9 div.sk-toggleable__content pre {margin: 0.2em;color: black;border-radius: 0.25em;background-color: #f0f8ff;}#sk-container-id-9 input.sk-toggleable__control:checked~div.sk-toggleable__content {max-height: 200px;max-width: 100%;overflow: auto;}#sk-container-id-9 input.sk-toggleable__control:checked~label.sk-toggleable__label-arrow:before {content: \"▾\";}#sk-container-id-9 div.sk-estimator input.sk-toggleable__control:checked~label.sk-toggleable__label {background-color: #d4ebff;}#sk-container-id-9 div.sk-label input.sk-toggleable__control:checked~label.sk-toggleable__label {background-color: #d4ebff;}#sk-container-id-9 input.sk-hidden--visually {border: 0;clip: rect(1px 1px 1px 1px);clip: rect(1px, 1px, 1px, 1px);height: 1px;margin: -1px;overflow: hidden;padding: 0;position: absolute;width: 1px;}#sk-container-id-9 div.sk-estimator {font-family: monospace;background-color: #f0f8ff;border: 1px dotted black;border-radius: 0.25em;box-sizing: border-box;margin-bottom: 0.5em;}#sk-container-id-9 div.sk-estimator:hover {background-color: #d4ebff;}#sk-container-id-9 div.sk-parallel-item::after {content: \"\";width: 100%;border-bottom: 1px solid gray;flex-grow: 1;}#sk-container-id-9 div.sk-label:hover label.sk-toggleable__label {background-color: #d4ebff;}#sk-container-id-9 div.sk-serial::before {content: \"\";position: absolute;border-left: 1px solid gray;box-sizing: border-box;top: 0;bottom: 0;left: 50%;z-index: 0;}#sk-container-id-9 div.sk-serial {display: flex;flex-direction: column;align-items: center;background-color: white;padding-right: 0.2em;padding-left: 0.2em;position: relative;}#sk-container-id-9 div.sk-item {position: relative;z-index: 1;}#sk-container-id-9 div.sk-parallel {display: flex;align-items: stretch;justify-content: center;background-color: white;position: relative;}#sk-container-id-9 div.sk-item::before, #sk-container-id-9 div.sk-parallel-item::before {content: \"\";position: absolute;border-left: 1px solid gray;box-sizing: border-box;top: 0;bottom: 0;left: 50%;z-index: -1;}#sk-container-id-9 div.sk-parallel-item {display: flex;flex-direction: column;z-index: 1;position: relative;background-color: white;}#sk-container-id-9 div.sk-parallel-item:first-child::after {align-self: flex-end;width: 50%;}#sk-container-id-9 div.sk-parallel-item:last-child::after {align-self: flex-start;width: 50%;}#sk-container-id-9 div.sk-parallel-item:only-child::after {width: 0;}#sk-container-id-9 div.sk-dashed-wrapped {border: 1px dashed gray;margin: 0 0.4em 0.5em 0.4em;box-sizing: border-box;padding-bottom: 0.4em;background-color: white;}#sk-container-id-9 div.sk-label label {font-family: monospace;font-weight: bold;display: inline-block;line-height: 1.2em;}#sk-container-id-9 div.sk-label-container {text-align: center;}#sk-container-id-9 div.sk-container {/* jupyter's `normalize.less` sets `[hidden] { display: none; }` but bootstrap.min.css set `[hidden] { display: none !important; }` so we also need the `!important` here to be able to override the default hidden behavior on the sphinx rendered scikit-learn.org. See: https://github.com/scikit-learn/scikit-learn/issues/21755 */display: inline-block !important;position: relative;}#sk-container-id-9 div.sk-text-repr-fallback {display: none;}</style><div id=\"sk-container-id-9\" class=\"sk-top-container\"><div class=\"sk-text-repr-fallback\"><pre>GridSearchCV(cv=10,\n",
       "             estimator=XGBClassifier(base_score=None, booster=None,\n",
       "                                     callbacks=None, colsample_bylevel=None,\n",
       "                                     colsample_bynode=None,\n",
       "                                     colsample_bytree=None,\n",
       "                                     early_stopping_rounds=None,\n",
       "                                     enable_categorical=False, eval_metric=None,\n",
       "                                     feature_types=None, gamma=None,\n",
       "                                     gpu_id=None, grow_policy=None,\n",
       "                                     importance_type=None,\n",
       "                                     interaction_constraints=None,\n",
       "                                     learning_rate=None...\n",
       "                                     max_delta_step=None, max_depth=None,\n",
       "                                     max_leaves=None, min_child_weight=None,\n",
       "                                     missing=nan, monotone_constraints=None,\n",
       "                                     n_estimators=100, n_jobs=None,\n",
       "                                     num_parallel_tree=None, predictor=None,\n",
       "                                     random_state=None, ...),\n",
       "             n_jobs=8,\n",
       "             param_grid={&#x27;colsample_bylevel&#x27;: [0.9, 1],\n",
       "                         &#x27;colsample_bytree&#x27;: [0.8, 1], &#x27;gamma&#x27;: [0, 1],\n",
       "                         &#x27;max_depth&#x27;: [5, 8], &#x27;min_child_weight&#x27;: [1, 5],\n",
       "                         &#x27;n_estimators&#x27;: [50, 100]},\n",
       "             scoring=&#x27;accuracy&#x27;)</pre><b>In a Jupyter environment, please rerun this cell to show the HTML representation or trust the notebook. <br />On GitHub, the HTML representation is unable to render, please try loading this page with nbviewer.org.</b></div><div class=\"sk-container\" hidden><div class=\"sk-item sk-dashed-wrapped\"><div class=\"sk-label-container\"><div class=\"sk-label sk-toggleable\"><input class=\"sk-toggleable__control sk-hidden--visually\" id=\"sk-estimator-id-25\" type=\"checkbox\" ><label for=\"sk-estimator-id-25\" class=\"sk-toggleable__label sk-toggleable__label-arrow\">GridSearchCV</label><div class=\"sk-toggleable__content\"><pre>GridSearchCV(cv=10,\n",
       "             estimator=XGBClassifier(base_score=None, booster=None,\n",
       "                                     callbacks=None, colsample_bylevel=None,\n",
       "                                     colsample_bynode=None,\n",
       "                                     colsample_bytree=None,\n",
       "                                     early_stopping_rounds=None,\n",
       "                                     enable_categorical=False, eval_metric=None,\n",
       "                                     feature_types=None, gamma=None,\n",
       "                                     gpu_id=None, grow_policy=None,\n",
       "                                     importance_type=None,\n",
       "                                     interaction_constraints=None,\n",
       "                                     learning_rate=None...\n",
       "                                     max_delta_step=None, max_depth=None,\n",
       "                                     max_leaves=None, min_child_weight=None,\n",
       "                                     missing=nan, monotone_constraints=None,\n",
       "                                     n_estimators=100, n_jobs=None,\n",
       "                                     num_parallel_tree=None, predictor=None,\n",
       "                                     random_state=None, ...),\n",
       "             n_jobs=8,\n",
       "             param_grid={&#x27;colsample_bylevel&#x27;: [0.9, 1],\n",
       "                         &#x27;colsample_bytree&#x27;: [0.8, 1], &#x27;gamma&#x27;: [0, 1],\n",
       "                         &#x27;max_depth&#x27;: [5, 8], &#x27;min_child_weight&#x27;: [1, 5],\n",
       "                         &#x27;n_estimators&#x27;: [50, 100]},\n",
       "             scoring=&#x27;accuracy&#x27;)</pre></div></div></div><div class=\"sk-parallel\"><div class=\"sk-parallel-item\"><div class=\"sk-item\"><div class=\"sk-label-container\"><div class=\"sk-label sk-toggleable\"><input class=\"sk-toggleable__control sk-hidden--visually\" id=\"sk-estimator-id-26\" type=\"checkbox\" ><label for=\"sk-estimator-id-26\" class=\"sk-toggleable__label sk-toggleable__label-arrow\">estimator: XGBClassifier</label><div class=\"sk-toggleable__content\"><pre>XGBClassifier(base_score=None, booster=None, callbacks=None,\n",
       "              colsample_bylevel=None, colsample_bynode=None,\n",
       "              colsample_bytree=None, early_stopping_rounds=None,\n",
       "              enable_categorical=False, eval_metric=None, feature_types=None,\n",
       "              gamma=None, gpu_id=None, grow_policy=None, importance_type=None,\n",
       "              interaction_constraints=None, learning_rate=None, max_bin=None,\n",
       "              max_cat_threshold=None, max_cat_to_onehot=None,\n",
       "              max_delta_step=None, max_depth=None, max_leaves=None,\n",
       "              min_child_weight=None, missing=nan, monotone_constraints=None,\n",
       "              n_estimators=100, n_jobs=None, num_parallel_tree=None,\n",
       "              predictor=None, random_state=None, ...)</pre></div></div></div><div class=\"sk-serial\"><div class=\"sk-item\"><div class=\"sk-estimator sk-toggleable\"><input class=\"sk-toggleable__control sk-hidden--visually\" id=\"sk-estimator-id-27\" type=\"checkbox\" ><label for=\"sk-estimator-id-27\" class=\"sk-toggleable__label sk-toggleable__label-arrow\">XGBClassifier</label><div class=\"sk-toggleable__content\"><pre>XGBClassifier(base_score=None, booster=None, callbacks=None,\n",
       "              colsample_bylevel=None, colsample_bynode=None,\n",
       "              colsample_bytree=None, early_stopping_rounds=None,\n",
       "              enable_categorical=False, eval_metric=None, feature_types=None,\n",
       "              gamma=None, gpu_id=None, grow_policy=None, importance_type=None,\n",
       "              interaction_constraints=None, learning_rate=None, max_bin=None,\n",
       "              max_cat_threshold=None, max_cat_to_onehot=None,\n",
       "              max_delta_step=None, max_depth=None, max_leaves=None,\n",
       "              min_child_weight=None, missing=nan, monotone_constraints=None,\n",
       "              n_estimators=100, n_jobs=None, num_parallel_tree=None,\n",
       "              predictor=None, random_state=None, ...)</pre></div></div></div></div></div></div></div></div></div></div>"
      ],
      "text/plain": [
       "GridSearchCV(cv=10,\n",
       "             estimator=XGBClassifier(base_score=None, booster=None,\n",
       "                                     callbacks=None, colsample_bylevel=None,\n",
       "                                     colsample_bynode=None,\n",
       "                                     colsample_bytree=None,\n",
       "                                     early_stopping_rounds=None,\n",
       "                                     enable_categorical=False, eval_metric=None,\n",
       "                                     feature_types=None, gamma=None,\n",
       "                                     gpu_id=None, grow_policy=None,\n",
       "                                     importance_type=None,\n",
       "                                     interaction_constraints=None,\n",
       "                                     learning_rate=None...\n",
       "                                     max_delta_step=None, max_depth=None,\n",
       "                                     max_leaves=None, min_child_weight=None,\n",
       "                                     missing=nan, monotone_constraints=None,\n",
       "                                     n_estimators=100, n_jobs=None,\n",
       "                                     num_parallel_tree=None, predictor=None,\n",
       "                                     random_state=None, ...),\n",
       "             n_jobs=8,\n",
       "             param_grid={'colsample_bylevel': [0.9, 1],\n",
       "                         'colsample_bytree': [0.8, 1], 'gamma': [0, 1],\n",
       "                         'max_depth': [5, 8], 'min_child_weight': [1, 5],\n",
       "                         'n_estimators': [50, 100]},\n",
       "             scoring='accuracy')"
      ]
     },
     "execution_count": 76,
     "metadata": {},
     "output_type": "execute_result"
    }
   ],
   "source": [
    "GS_xgb=GridSearchCV(xgb_model, param_grid=parameters, cv=10, n_jobs=n_thread, scoring=\"accuracy\")\n",
    "GS_xgb.fit(x_train, y_train)"
   ]
  },
  {
   "cell_type": "code",
   "execution_count": 123,
   "id": "77c28a82",
   "metadata": {},
   "outputs": [
    {
     "name": "stdout",
     "output_type": "stream",
     "text": [
      "final params {'colsample_bylevel': 0.9, 'colsample_bytree': 0.8, 'gamma': 0, 'max_depth': 5, 'min_child_weight': 1, 'n_estimators': 50}\n",
      "best score 0.9858229942100911\n"
     ]
    }
   ],
   "source": [
    "print('final params', GS_xgb.best_params_)\n",
    "print('best score', GS_xgb.best_score_)"
   ]
  },
  {
   "cell_type": "code",
   "execution_count": 78,
   "id": "d871b281",
   "metadata": {},
   "outputs": [],
   "source": [
    "parameters2 = {\n",
    "    'max_depth':[3, 5, 7],\n",
    "    'min_child_weight':[1],\n",
    "    'gamma':[0],\n",
    "    'colsample_bytree':[0.7, 0.8,],\n",
    "    'colsample_bylevel':[0.8, 0.9,],\n",
    "    'n_estimators':[50, 70],\n",
    "}"
   ]
  },
  {
   "cell_type": "code",
   "execution_count": 79,
   "id": "1aab6655",
   "metadata": {},
   "outputs": [
    {
     "data": {
      "text/html": [
       "<style>#sk-container-id-10 {color: black;background-color: white;}#sk-container-id-10 pre{padding: 0;}#sk-container-id-10 div.sk-toggleable {background-color: white;}#sk-container-id-10 label.sk-toggleable__label {cursor: pointer;display: block;width: 100%;margin-bottom: 0;padding: 0.3em;box-sizing: border-box;text-align: center;}#sk-container-id-10 label.sk-toggleable__label-arrow:before {content: \"▸\";float: left;margin-right: 0.25em;color: #696969;}#sk-container-id-10 label.sk-toggleable__label-arrow:hover:before {color: black;}#sk-container-id-10 div.sk-estimator:hover label.sk-toggleable__label-arrow:before {color: black;}#sk-container-id-10 div.sk-toggleable__content {max-height: 0;max-width: 0;overflow: hidden;text-align: left;background-color: #f0f8ff;}#sk-container-id-10 div.sk-toggleable__content pre {margin: 0.2em;color: black;border-radius: 0.25em;background-color: #f0f8ff;}#sk-container-id-10 input.sk-toggleable__control:checked~div.sk-toggleable__content {max-height: 200px;max-width: 100%;overflow: auto;}#sk-container-id-10 input.sk-toggleable__control:checked~label.sk-toggleable__label-arrow:before {content: \"▾\";}#sk-container-id-10 div.sk-estimator input.sk-toggleable__control:checked~label.sk-toggleable__label {background-color: #d4ebff;}#sk-container-id-10 div.sk-label input.sk-toggleable__control:checked~label.sk-toggleable__label {background-color: #d4ebff;}#sk-container-id-10 input.sk-hidden--visually {border: 0;clip: rect(1px 1px 1px 1px);clip: rect(1px, 1px, 1px, 1px);height: 1px;margin: -1px;overflow: hidden;padding: 0;position: absolute;width: 1px;}#sk-container-id-10 div.sk-estimator {font-family: monospace;background-color: #f0f8ff;border: 1px dotted black;border-radius: 0.25em;box-sizing: border-box;margin-bottom: 0.5em;}#sk-container-id-10 div.sk-estimator:hover {background-color: #d4ebff;}#sk-container-id-10 div.sk-parallel-item::after {content: \"\";width: 100%;border-bottom: 1px solid gray;flex-grow: 1;}#sk-container-id-10 div.sk-label:hover label.sk-toggleable__label {background-color: #d4ebff;}#sk-container-id-10 div.sk-serial::before {content: \"\";position: absolute;border-left: 1px solid gray;box-sizing: border-box;top: 0;bottom: 0;left: 50%;z-index: 0;}#sk-container-id-10 div.sk-serial {display: flex;flex-direction: column;align-items: center;background-color: white;padding-right: 0.2em;padding-left: 0.2em;position: relative;}#sk-container-id-10 div.sk-item {position: relative;z-index: 1;}#sk-container-id-10 div.sk-parallel {display: flex;align-items: stretch;justify-content: center;background-color: white;position: relative;}#sk-container-id-10 div.sk-item::before, #sk-container-id-10 div.sk-parallel-item::before {content: \"\";position: absolute;border-left: 1px solid gray;box-sizing: border-box;top: 0;bottom: 0;left: 50%;z-index: -1;}#sk-container-id-10 div.sk-parallel-item {display: flex;flex-direction: column;z-index: 1;position: relative;background-color: white;}#sk-container-id-10 div.sk-parallel-item:first-child::after {align-self: flex-end;width: 50%;}#sk-container-id-10 div.sk-parallel-item:last-child::after {align-self: flex-start;width: 50%;}#sk-container-id-10 div.sk-parallel-item:only-child::after {width: 0;}#sk-container-id-10 div.sk-dashed-wrapped {border: 1px dashed gray;margin: 0 0.4em 0.5em 0.4em;box-sizing: border-box;padding-bottom: 0.4em;background-color: white;}#sk-container-id-10 div.sk-label label {font-family: monospace;font-weight: bold;display: inline-block;line-height: 1.2em;}#sk-container-id-10 div.sk-label-container {text-align: center;}#sk-container-id-10 div.sk-container {/* jupyter's `normalize.less` sets `[hidden] { display: none; }` but bootstrap.min.css set `[hidden] { display: none !important; }` so we also need the `!important` here to be able to override the default hidden behavior on the sphinx rendered scikit-learn.org. See: https://github.com/scikit-learn/scikit-learn/issues/21755 */display: inline-block !important;position: relative;}#sk-container-id-10 div.sk-text-repr-fallback {display: none;}</style><div id=\"sk-container-id-10\" class=\"sk-top-container\"><div class=\"sk-text-repr-fallback\"><pre>GridSearchCV(cv=10,\n",
       "             estimator=XGBClassifier(base_score=None, booster=None,\n",
       "                                     callbacks=None, colsample_bylevel=None,\n",
       "                                     colsample_bynode=None,\n",
       "                                     colsample_bytree=None,\n",
       "                                     early_stopping_rounds=None,\n",
       "                                     enable_categorical=False, eval_metric=None,\n",
       "                                     feature_types=None, gamma=None,\n",
       "                                     gpu_id=None, grow_policy=None,\n",
       "                                     importance_type=None,\n",
       "                                     interaction_constraints=None,\n",
       "                                     learning_rate=None...\n",
       "                                     max_delta_step=None, max_depth=None,\n",
       "                                     max_leaves=None, min_child_weight=None,\n",
       "                                     missing=nan, monotone_constraints=None,\n",
       "                                     n_estimators=100, n_jobs=None,\n",
       "                                     num_parallel_tree=None, predictor=None,\n",
       "                                     random_state=None, ...),\n",
       "             n_jobs=8,\n",
       "             param_grid={&#x27;colsample_bylevel&#x27;: [0.8, 0.9],\n",
       "                         &#x27;colsample_bytree&#x27;: [0.7, 0.8], &#x27;gamma&#x27;: [0],\n",
       "                         &#x27;max_depth&#x27;: [3, 5, 7], &#x27;min_child_weight&#x27;: [1],\n",
       "                         &#x27;n_estimators&#x27;: [50, 70]},\n",
       "             scoring=&#x27;accuracy&#x27;)</pre><b>In a Jupyter environment, please rerun this cell to show the HTML representation or trust the notebook. <br />On GitHub, the HTML representation is unable to render, please try loading this page with nbviewer.org.</b></div><div class=\"sk-container\" hidden><div class=\"sk-item sk-dashed-wrapped\"><div class=\"sk-label-container\"><div class=\"sk-label sk-toggleable\"><input class=\"sk-toggleable__control sk-hidden--visually\" id=\"sk-estimator-id-28\" type=\"checkbox\" ><label for=\"sk-estimator-id-28\" class=\"sk-toggleable__label sk-toggleable__label-arrow\">GridSearchCV</label><div class=\"sk-toggleable__content\"><pre>GridSearchCV(cv=10,\n",
       "             estimator=XGBClassifier(base_score=None, booster=None,\n",
       "                                     callbacks=None, colsample_bylevel=None,\n",
       "                                     colsample_bynode=None,\n",
       "                                     colsample_bytree=None,\n",
       "                                     early_stopping_rounds=None,\n",
       "                                     enable_categorical=False, eval_metric=None,\n",
       "                                     feature_types=None, gamma=None,\n",
       "                                     gpu_id=None, grow_policy=None,\n",
       "                                     importance_type=None,\n",
       "                                     interaction_constraints=None,\n",
       "                                     learning_rate=None...\n",
       "                                     max_delta_step=None, max_depth=None,\n",
       "                                     max_leaves=None, min_child_weight=None,\n",
       "                                     missing=nan, monotone_constraints=None,\n",
       "                                     n_estimators=100, n_jobs=None,\n",
       "                                     num_parallel_tree=None, predictor=None,\n",
       "                                     random_state=None, ...),\n",
       "             n_jobs=8,\n",
       "             param_grid={&#x27;colsample_bylevel&#x27;: [0.8, 0.9],\n",
       "                         &#x27;colsample_bytree&#x27;: [0.7, 0.8], &#x27;gamma&#x27;: [0],\n",
       "                         &#x27;max_depth&#x27;: [3, 5, 7], &#x27;min_child_weight&#x27;: [1],\n",
       "                         &#x27;n_estimators&#x27;: [50, 70]},\n",
       "             scoring=&#x27;accuracy&#x27;)</pre></div></div></div><div class=\"sk-parallel\"><div class=\"sk-parallel-item\"><div class=\"sk-item\"><div class=\"sk-label-container\"><div class=\"sk-label sk-toggleable\"><input class=\"sk-toggleable__control sk-hidden--visually\" id=\"sk-estimator-id-29\" type=\"checkbox\" ><label for=\"sk-estimator-id-29\" class=\"sk-toggleable__label sk-toggleable__label-arrow\">estimator: XGBClassifier</label><div class=\"sk-toggleable__content\"><pre>XGBClassifier(base_score=None, booster=None, callbacks=None,\n",
       "              colsample_bylevel=None, colsample_bynode=None,\n",
       "              colsample_bytree=None, early_stopping_rounds=None,\n",
       "              enable_categorical=False, eval_metric=None, feature_types=None,\n",
       "              gamma=None, gpu_id=None, grow_policy=None, importance_type=None,\n",
       "              interaction_constraints=None, learning_rate=None, max_bin=None,\n",
       "              max_cat_threshold=None, max_cat_to_onehot=None,\n",
       "              max_delta_step=None, max_depth=None, max_leaves=None,\n",
       "              min_child_weight=None, missing=nan, monotone_constraints=None,\n",
       "              n_estimators=100, n_jobs=None, num_parallel_tree=None,\n",
       "              predictor=None, random_state=None, ...)</pre></div></div></div><div class=\"sk-serial\"><div class=\"sk-item\"><div class=\"sk-estimator sk-toggleable\"><input class=\"sk-toggleable__control sk-hidden--visually\" id=\"sk-estimator-id-30\" type=\"checkbox\" ><label for=\"sk-estimator-id-30\" class=\"sk-toggleable__label sk-toggleable__label-arrow\">XGBClassifier</label><div class=\"sk-toggleable__content\"><pre>XGBClassifier(base_score=None, booster=None, callbacks=None,\n",
       "              colsample_bylevel=None, colsample_bynode=None,\n",
       "              colsample_bytree=None, early_stopping_rounds=None,\n",
       "              enable_categorical=False, eval_metric=None, feature_types=None,\n",
       "              gamma=None, gpu_id=None, grow_policy=None, importance_type=None,\n",
       "              interaction_constraints=None, learning_rate=None, max_bin=None,\n",
       "              max_cat_threshold=None, max_cat_to_onehot=None,\n",
       "              max_delta_step=None, max_depth=None, max_leaves=None,\n",
       "              min_child_weight=None, missing=nan, monotone_constraints=None,\n",
       "              n_estimators=100, n_jobs=None, num_parallel_tree=None,\n",
       "              predictor=None, random_state=None, ...)</pre></div></div></div></div></div></div></div></div></div></div>"
      ],
      "text/plain": [
       "GridSearchCV(cv=10,\n",
       "             estimator=XGBClassifier(base_score=None, booster=None,\n",
       "                                     callbacks=None, colsample_bylevel=None,\n",
       "                                     colsample_bynode=None,\n",
       "                                     colsample_bytree=None,\n",
       "                                     early_stopping_rounds=None,\n",
       "                                     enable_categorical=False, eval_metric=None,\n",
       "                                     feature_types=None, gamma=None,\n",
       "                                     gpu_id=None, grow_policy=None,\n",
       "                                     importance_type=None,\n",
       "                                     interaction_constraints=None,\n",
       "                                     learning_rate=None...\n",
       "                                     max_delta_step=None, max_depth=None,\n",
       "                                     max_leaves=None, min_child_weight=None,\n",
       "                                     missing=nan, monotone_constraints=None,\n",
       "                                     n_estimators=100, n_jobs=None,\n",
       "                                     num_parallel_tree=None, predictor=None,\n",
       "                                     random_state=None, ...),\n",
       "             n_jobs=8,\n",
       "             param_grid={'colsample_bylevel': [0.8, 0.9],\n",
       "                         'colsample_bytree': [0.7, 0.8], 'gamma': [0],\n",
       "                         'max_depth': [3, 5, 7], 'min_child_weight': [1],\n",
       "                         'n_estimators': [50, 70]},\n",
       "             scoring='accuracy')"
      ]
     },
     "execution_count": 79,
     "metadata": {},
     "output_type": "execute_result"
    }
   ],
   "source": [
    "GS_xgb2=GridSearchCV(xgb_model, param_grid=parameters2, cv=10, n_jobs=n_thread, scoring=\"accuracy\")\n",
    "GS_xgb2.fit(x_train, y_train)"
   ]
  },
  {
   "cell_type": "code",
   "execution_count": 80,
   "id": "6a0ad7d5",
   "metadata": {},
   "outputs": [
    {
     "name": "stdout",
     "output_type": "stream",
     "text": [
      "final params {'colsample_bylevel': 0.8, 'colsample_bytree': 0.8, 'gamma': 0, 'max_depth': 3, 'min_child_weight': 1, 'n_estimators': 70}\n",
      "best score 0.9883995037220844\n"
     ]
    }
   ],
   "source": [
    "print('final params', GS_xgb2.best_params_)\n",
    "print('best score', GS_xgb2.best_score_)"
   ]
  },
  {
   "cell_type": "code",
   "execution_count": 126,
   "id": "c41914d7",
   "metadata": {},
   "outputs": [
    {
     "data": {
      "text/html": [
       "<style>#sk-container-id-15 {color: black;background-color: white;}#sk-container-id-15 pre{padding: 0;}#sk-container-id-15 div.sk-toggleable {background-color: white;}#sk-container-id-15 label.sk-toggleable__label {cursor: pointer;display: block;width: 100%;margin-bottom: 0;padding: 0.3em;box-sizing: border-box;text-align: center;}#sk-container-id-15 label.sk-toggleable__label-arrow:before {content: \"▸\";float: left;margin-right: 0.25em;color: #696969;}#sk-container-id-15 label.sk-toggleable__label-arrow:hover:before {color: black;}#sk-container-id-15 div.sk-estimator:hover label.sk-toggleable__label-arrow:before {color: black;}#sk-container-id-15 div.sk-toggleable__content {max-height: 0;max-width: 0;overflow: hidden;text-align: left;background-color: #f0f8ff;}#sk-container-id-15 div.sk-toggleable__content pre {margin: 0.2em;color: black;border-radius: 0.25em;background-color: #f0f8ff;}#sk-container-id-15 input.sk-toggleable__control:checked~div.sk-toggleable__content {max-height: 200px;max-width: 100%;overflow: auto;}#sk-container-id-15 input.sk-toggleable__control:checked~label.sk-toggleable__label-arrow:before {content: \"▾\";}#sk-container-id-15 div.sk-estimator input.sk-toggleable__control:checked~label.sk-toggleable__label {background-color: #d4ebff;}#sk-container-id-15 div.sk-label input.sk-toggleable__control:checked~label.sk-toggleable__label {background-color: #d4ebff;}#sk-container-id-15 input.sk-hidden--visually {border: 0;clip: rect(1px 1px 1px 1px);clip: rect(1px, 1px, 1px, 1px);height: 1px;margin: -1px;overflow: hidden;padding: 0;position: absolute;width: 1px;}#sk-container-id-15 div.sk-estimator {font-family: monospace;background-color: #f0f8ff;border: 1px dotted black;border-radius: 0.25em;box-sizing: border-box;margin-bottom: 0.5em;}#sk-container-id-15 div.sk-estimator:hover {background-color: #d4ebff;}#sk-container-id-15 div.sk-parallel-item::after {content: \"\";width: 100%;border-bottom: 1px solid gray;flex-grow: 1;}#sk-container-id-15 div.sk-label:hover label.sk-toggleable__label {background-color: #d4ebff;}#sk-container-id-15 div.sk-serial::before {content: \"\";position: absolute;border-left: 1px solid gray;box-sizing: border-box;top: 0;bottom: 0;left: 50%;z-index: 0;}#sk-container-id-15 div.sk-serial {display: flex;flex-direction: column;align-items: center;background-color: white;padding-right: 0.2em;padding-left: 0.2em;position: relative;}#sk-container-id-15 div.sk-item {position: relative;z-index: 1;}#sk-container-id-15 div.sk-parallel {display: flex;align-items: stretch;justify-content: center;background-color: white;position: relative;}#sk-container-id-15 div.sk-item::before, #sk-container-id-15 div.sk-parallel-item::before {content: \"\";position: absolute;border-left: 1px solid gray;box-sizing: border-box;top: 0;bottom: 0;left: 50%;z-index: -1;}#sk-container-id-15 div.sk-parallel-item {display: flex;flex-direction: column;z-index: 1;position: relative;background-color: white;}#sk-container-id-15 div.sk-parallel-item:first-child::after {align-self: flex-end;width: 50%;}#sk-container-id-15 div.sk-parallel-item:last-child::after {align-self: flex-start;width: 50%;}#sk-container-id-15 div.sk-parallel-item:only-child::after {width: 0;}#sk-container-id-15 div.sk-dashed-wrapped {border: 1px dashed gray;margin: 0 0.4em 0.5em 0.4em;box-sizing: border-box;padding-bottom: 0.4em;background-color: white;}#sk-container-id-15 div.sk-label label {font-family: monospace;font-weight: bold;display: inline-block;line-height: 1.2em;}#sk-container-id-15 div.sk-label-container {text-align: center;}#sk-container-id-15 div.sk-container {/* jupyter's `normalize.less` sets `[hidden] { display: none; }` but bootstrap.min.css set `[hidden] { display: none !important; }` so we also need the `!important` here to be able to override the default hidden behavior on the sphinx rendered scikit-learn.org. See: https://github.com/scikit-learn/scikit-learn/issues/21755 */display: inline-block !important;position: relative;}#sk-container-id-15 div.sk-text-repr-fallback {display: none;}</style><div id=\"sk-container-id-15\" class=\"sk-top-container\"><div class=\"sk-text-repr-fallback\"><pre>GridSearchCV(cv=10,\n",
       "             estimator=XGBClassifier(base_score=None, booster=None,\n",
       "                                     callbacks=None, colsample_bylevel=None,\n",
       "                                     colsample_bynode=None,\n",
       "                                     colsample_bytree=None,\n",
       "                                     early_stopping_rounds=None,\n",
       "                                     enable_categorical=False, eval_metric=None,\n",
       "                                     feature_types=None, gamma=None,\n",
       "                                     gpu_id=None, grow_policy=None,\n",
       "                                     importance_type=None,\n",
       "                                     interaction_constraints=None,\n",
       "                                     learning_rate=None...\n",
       "                                     max_leaves=None, min_child_weight=None,\n",
       "                                     missing=nan, monotone_constraints=None,\n",
       "                                     n_estimators=100, n_jobs=None,\n",
       "                                     num_parallel_tree=None, predictor=None,\n",
       "                                     random_state=None, ...),\n",
       "             n_jobs=8,\n",
       "             param_grid={&#x27;colsample_bylevel&#x27;: [0.7, 0.8, 1],\n",
       "                         &#x27;colsample_bytree&#x27;: [0.8, 1], &#x27;gamma&#x27;: [0],\n",
       "                         &#x27;max_depth&#x27;: [3, 4, 5, 7], &#x27;min_child_weight&#x27;: [1],\n",
       "                         &#x27;n_estimators&#x27;: [60, 70, 80, 150]},\n",
       "             scoring=&#x27;accuracy&#x27;)</pre><b>In a Jupyter environment, please rerun this cell to show the HTML representation or trust the notebook. <br />On GitHub, the HTML representation is unable to render, please try loading this page with nbviewer.org.</b></div><div class=\"sk-container\" hidden><div class=\"sk-item sk-dashed-wrapped\"><div class=\"sk-label-container\"><div class=\"sk-label sk-toggleable\"><input class=\"sk-toggleable__control sk-hidden--visually\" id=\"sk-estimator-id-41\" type=\"checkbox\" ><label for=\"sk-estimator-id-41\" class=\"sk-toggleable__label sk-toggleable__label-arrow\">GridSearchCV</label><div class=\"sk-toggleable__content\"><pre>GridSearchCV(cv=10,\n",
       "             estimator=XGBClassifier(base_score=None, booster=None,\n",
       "                                     callbacks=None, colsample_bylevel=None,\n",
       "                                     colsample_bynode=None,\n",
       "                                     colsample_bytree=None,\n",
       "                                     early_stopping_rounds=None,\n",
       "                                     enable_categorical=False, eval_metric=None,\n",
       "                                     feature_types=None, gamma=None,\n",
       "                                     gpu_id=None, grow_policy=None,\n",
       "                                     importance_type=None,\n",
       "                                     interaction_constraints=None,\n",
       "                                     learning_rate=None...\n",
       "                                     max_leaves=None, min_child_weight=None,\n",
       "                                     missing=nan, monotone_constraints=None,\n",
       "                                     n_estimators=100, n_jobs=None,\n",
       "                                     num_parallel_tree=None, predictor=None,\n",
       "                                     random_state=None, ...),\n",
       "             n_jobs=8,\n",
       "             param_grid={&#x27;colsample_bylevel&#x27;: [0.7, 0.8, 1],\n",
       "                         &#x27;colsample_bytree&#x27;: [0.8, 1], &#x27;gamma&#x27;: [0],\n",
       "                         &#x27;max_depth&#x27;: [3, 4, 5, 7], &#x27;min_child_weight&#x27;: [1],\n",
       "                         &#x27;n_estimators&#x27;: [60, 70, 80, 150]},\n",
       "             scoring=&#x27;accuracy&#x27;)</pre></div></div></div><div class=\"sk-parallel\"><div class=\"sk-parallel-item\"><div class=\"sk-item\"><div class=\"sk-label-container\"><div class=\"sk-label sk-toggleable\"><input class=\"sk-toggleable__control sk-hidden--visually\" id=\"sk-estimator-id-42\" type=\"checkbox\" ><label for=\"sk-estimator-id-42\" class=\"sk-toggleable__label sk-toggleable__label-arrow\">estimator: XGBClassifier</label><div class=\"sk-toggleable__content\"><pre>XGBClassifier(base_score=None, booster=None, callbacks=None,\n",
       "              colsample_bylevel=None, colsample_bynode=None,\n",
       "              colsample_bytree=None, early_stopping_rounds=None,\n",
       "              enable_categorical=False, eval_metric=None, feature_types=None,\n",
       "              gamma=None, gpu_id=None, grow_policy=None, importance_type=None,\n",
       "              interaction_constraints=None, learning_rate=None, max_bin=None,\n",
       "              max_cat_threshold=None, max_cat_to_onehot=None,\n",
       "              max_delta_step=None, max_depth=None, max_leaves=None,\n",
       "              min_child_weight=None, missing=nan, monotone_constraints=None,\n",
       "              n_estimators=100, n_jobs=None, num_parallel_tree=None,\n",
       "              predictor=None, random_state=None, ...)</pre></div></div></div><div class=\"sk-serial\"><div class=\"sk-item\"><div class=\"sk-estimator sk-toggleable\"><input class=\"sk-toggleable__control sk-hidden--visually\" id=\"sk-estimator-id-43\" type=\"checkbox\" ><label for=\"sk-estimator-id-43\" class=\"sk-toggleable__label sk-toggleable__label-arrow\">XGBClassifier</label><div class=\"sk-toggleable__content\"><pre>XGBClassifier(base_score=None, booster=None, callbacks=None,\n",
       "              colsample_bylevel=None, colsample_bynode=None,\n",
       "              colsample_bytree=None, early_stopping_rounds=None,\n",
       "              enable_categorical=False, eval_metric=None, feature_types=None,\n",
       "              gamma=None, gpu_id=None, grow_policy=None, importance_type=None,\n",
       "              interaction_constraints=None, learning_rate=None, max_bin=None,\n",
       "              max_cat_threshold=None, max_cat_to_onehot=None,\n",
       "              max_delta_step=None, max_depth=None, max_leaves=None,\n",
       "              min_child_weight=None, missing=nan, monotone_constraints=None,\n",
       "              n_estimators=100, n_jobs=None, num_parallel_tree=None,\n",
       "              predictor=None, random_state=None, ...)</pre></div></div></div></div></div></div></div></div></div></div>"
      ],
      "text/plain": [
       "GridSearchCV(cv=10,\n",
       "             estimator=XGBClassifier(base_score=None, booster=None,\n",
       "                                     callbacks=None, colsample_bylevel=None,\n",
       "                                     colsample_bynode=None,\n",
       "                                     colsample_bytree=None,\n",
       "                                     early_stopping_rounds=None,\n",
       "                                     enable_categorical=False, eval_metric=None,\n",
       "                                     feature_types=None, gamma=None,\n",
       "                                     gpu_id=None, grow_policy=None,\n",
       "                                     importance_type=None,\n",
       "                                     interaction_constraints=None,\n",
       "                                     learning_rate=None...\n",
       "                                     max_leaves=None, min_child_weight=None,\n",
       "                                     missing=nan, monotone_constraints=None,\n",
       "                                     n_estimators=100, n_jobs=None,\n",
       "                                     num_parallel_tree=None, predictor=None,\n",
       "                                     random_state=None, ...),\n",
       "             n_jobs=8,\n",
       "             param_grid={'colsample_bylevel': [0.7, 0.8, 1],\n",
       "                         'colsample_bytree': [0.8, 1], 'gamma': [0],\n",
       "                         'max_depth': [3, 4, 5, 7], 'min_child_weight': [1],\n",
       "                         'n_estimators': [60, 70, 80, 150]},\n",
       "             scoring='accuracy')"
      ]
     },
     "execution_count": 126,
     "metadata": {},
     "output_type": "execute_result"
    }
   ],
   "source": [
    "parameters3 = {\n",
    "    'max_depth':[3, 4, 5, 7],\n",
    "    'min_child_weight':[1],\n",
    "    'gamma':[0],\n",
    "    'colsample_bytree':[0.8, 1],\n",
    "    'colsample_bylevel':[0.7, 0.8, 1],\n",
    "    'n_estimators':[60, 70, 80, 150],\n",
    "}\n",
    "\n",
    "GS_xgb3=GridSearchCV(xgb_model, param_grid=parameters3, cv=10, n_jobs=n_thread, scoring=\"accuracy\")\n",
    "GS_xgb3.fit(x_train, y_train)"
   ]
  },
  {
   "cell_type": "code",
   "execution_count": 127,
   "id": "33f5b633",
   "metadata": {},
   "outputs": [
    {
     "name": "stdout",
     "output_type": "stream",
     "text": [
      "final params {'colsample_bylevel': 0.8, 'colsample_bytree': 0.8, 'gamma': 0, 'max_depth': 3, 'min_child_weight': 1, 'n_estimators': 70}\n",
      "best score 0.9883995037220844\n"
     ]
    }
   ],
   "source": [
    "print('final params', GS_xgb3.best_params_)\n",
    "print('best score', GS_xgb3.best_score_)"
   ]
  },
  {
   "cell_type": "code",
   "execution_count": 128,
   "id": "d51462f4",
   "metadata": {},
   "outputs": [
    {
     "name": "stdout",
     "output_type": "stream",
     "text": [
      "              precision    recall  f1-score   support\n",
      "\n",
      "           0       0.98      1.00      0.99       311\n",
      "           1       1.00      0.94      0.97        78\n",
      "\n",
      "    accuracy                           0.99       389\n",
      "   macro avg       0.99      0.97      0.98       389\n",
      "weighted avg       0.99      0.99      0.99       389\n",
      "\n",
      "\u001b[32mAccuracy of GS XGBoost is: 98.71%\n"
     ]
    }
   ],
   "source": [
    "GS_xgb_pred = GS_xgb3.predict(x_test)\n",
    "GS_xgb_acc = accuracy_score(y_test, GS_xgb_pred)\n",
    "print(classification_report(y_test, GS_xgb_pred))\n",
    "print(Fore.GREEN + f\"Accuracy of GS XGBoost is: {100*GS_xgb_acc:2.2f}%\")"
   ]
  },
  {
   "cell_type": "code",
   "execution_count": 129,
   "id": "7bc9ef46",
   "metadata": {},
   "outputs": [
    {
     "data": {
      "text/plain": [
       "<Figure size 500x500 with 0 Axes>"
      ]
     },
     "metadata": {},
     "output_type": "display_data"
    },
    {
     "data": {
      "image/png": "[encoded data removed]",
      "text/plain": [
       "<Figure size 640x480 with 1 Axes>"
      ]
     },
     "metadata": {
      "image/png": {
       "height": 432,
       "width": 493
      }
     },
     "output_type": "display_data"
    }
   ],
   "source": [
    "cm = confusion_matrix(y_test, GS_xgb_pred)\n",
    "plt.figure(figsize=(5,5))\n",
    "plot_confusion_matrix(cm, cmap=plt.cm.Blues, hide_ticks=True)\n",
    "plt.xticks(range(2),['K-Scatch X', 'K-Scatch O'])\n",
    "plt.yticks(range(2),['K-Scatch X', 'K-Scatch O'])\n",
    "plt.show()"
   ]
  },
  {
   "cell_type": "markdown",
   "id": "948e7606",
   "metadata": {},
   "source": [
    "### LightGBM\n",
    "[Reference](https://lightgbm.readthedocs.io/en/latest/Parameters.html)\n",
    "- xgboost에 비교할 때, 성능은 비슷\n",
    "- leaf-wise loss를 사용\n",
    "    - 시간과 메모리를 절약하여 fitting 속도가 빠름\n",
    "    - 데이터의 수가 충분하지 않다면 과적합의 위험이 비교적 높음\n",
    "    \n",
    "- num_leaves : 기존까지는 depth를 기준으로 Pruning을 진행했으나, LGBM은 Leaf-wise방식이므로 num_leaves을 사용\n",
    "    - `num_leaves = 2**(max_depth)`\n",
    "- min_data_in_leaf : leaf안에 최소한의 data 수"
   ]
  },
  {
   "cell_type": "code",
   "execution_count": 131,
   "id": "7dd482a6",
   "metadata": {},
   "outputs": [],
   "source": [
    "import lightgbm as lgb"
   ]
  },
  {
   "cell_type": "code",
   "execution_count": 132,
   "id": "4b6beec0",
   "metadata": {},
   "outputs": [],
   "source": [
    "lgbm_model = lgb.LGBMClassifier(objective='binary')"
   ]
  },
  {
   "cell_type": "code",
   "execution_count": 134,
   "id": "9a2fd1cb",
   "metadata": {},
   "outputs": [],
   "source": [
    "parameters={\n",
    "    'num_leaves':[32, 64, 128], # 2**5, 2**6, 2**7\n",
    "    'min_data_in_leaf':[1, 5, 10],\n",
    "    'colsample_bytree':[0.8, 1],\n",
    "    'n_estimators':[70, 100, 150]\n",
    "}"
   ]
  },
  {
   "cell_type": "code",
   "execution_count": 135,
   "id": "0f71fb9c",
   "metadata": {},
   "outputs": [
    {
     "name": "stdout",
     "output_type": "stream",
     "text": [
      "[LightGBM] [Warning] min_data_in_leaf is set=10, min_child_samples=20 will be ignored. Current value: min_data_in_leaf=10\n"
     ]
    },
    {
     "data": {
      "text/html": [
       "<style>#sk-container-id-16 {color: black;background-color: white;}#sk-container-id-16 pre{padding: 0;}#sk-container-id-16 div.sk-toggleable {background-color: white;}#sk-container-id-16 label.sk-toggleable__label {cursor: pointer;display: block;width: 100%;margin-bottom: 0;padding: 0.3em;box-sizing: border-box;text-align: center;}#sk-container-id-16 label.sk-toggleable__label-arrow:before {content: \"▸\";float: left;margin-right: 0.25em;color: #696969;}#sk-container-id-16 label.sk-toggleable__label-arrow:hover:before {color: black;}#sk-container-id-16 div.sk-estimator:hover label.sk-toggleable__label-arrow:before {color: black;}#sk-container-id-16 div.sk-toggleable__content {max-height: 0;max-width: 0;overflow: hidden;text-align: left;background-color: #f0f8ff;}#sk-container-id-16 div.sk-toggleable__content pre {margin: 0.2em;color: black;border-radius: 0.25em;background-color: #f0f8ff;}#sk-container-id-16 input.sk-toggleable__control:checked~div.sk-toggleable__content {max-height: 200px;max-width: 100%;overflow: auto;}#sk-container-id-16 input.sk-toggleable__control:checked~label.sk-toggleable__label-arrow:before {content: \"▾\";}#sk-container-id-16 div.sk-estimator input.sk-toggleable__control:checked~label.sk-toggleable__label {background-color: #d4ebff;}#sk-container-id-16 div.sk-label input.sk-toggleable__control:checked~label.sk-toggleable__label {background-color: #d4ebff;}#sk-container-id-16 input.sk-hidden--visually {border: 0;clip: rect(1px 1px 1px 1px);clip: rect(1px, 1px, 1px, 1px);height: 1px;margin: -1px;overflow: hidden;padding: 0;position: absolute;width: 1px;}#sk-container-id-16 div.sk-estimator {font-family: monospace;background-color: #f0f8ff;border: 1px dotted black;border-radius: 0.25em;box-sizing: border-box;margin-bottom: 0.5em;}#sk-container-id-16 div.sk-estimator:hover {background-color: #d4ebff;}#sk-container-id-16 div.sk-parallel-item::after {content: \"\";width: 100%;border-bottom: 1px solid gray;flex-grow: 1;}#sk-container-id-16 div.sk-label:hover label.sk-toggleable__label {background-color: #d4ebff;}#sk-container-id-16 div.sk-serial::before {content: \"\";position: absolute;border-left: 1px solid gray;box-sizing: border-box;top: 0;bottom: 0;left: 50%;z-index: 0;}#sk-container-id-16 div.sk-serial {display: flex;flex-direction: column;align-items: center;background-color: white;padding-right: 0.2em;padding-left: 0.2em;position: relative;}#sk-container-id-16 div.sk-item {position: relative;z-index: 1;}#sk-container-id-16 div.sk-parallel {display: flex;align-items: stretch;justify-content: center;background-color: white;position: relative;}#sk-container-id-16 div.sk-item::before, #sk-container-id-16 div.sk-parallel-item::before {content: \"\";position: absolute;border-left: 1px solid gray;box-sizing: border-box;top: 0;bottom: 0;left: 50%;z-index: -1;}#sk-container-id-16 div.sk-parallel-item {display: flex;flex-direction: column;z-index: 1;position: relative;background-color: white;}#sk-container-id-16 div.sk-parallel-item:first-child::after {align-self: flex-end;width: 50%;}#sk-container-id-16 div.sk-parallel-item:last-child::after {align-self: flex-start;width: 50%;}#sk-container-id-16 div.sk-parallel-item:only-child::after {width: 0;}#sk-container-id-16 div.sk-dashed-wrapped {border: 1px dashed gray;margin: 0 0.4em 0.5em 0.4em;box-sizing: border-box;padding-bottom: 0.4em;background-color: white;}#sk-container-id-16 div.sk-label label {font-family: monospace;font-weight: bold;display: inline-block;line-height: 1.2em;}#sk-container-id-16 div.sk-label-container {text-align: center;}#sk-container-id-16 div.sk-container {/* jupyter's `normalize.less` sets `[hidden] { display: none; }` but bootstrap.min.css set `[hidden] { display: none !important; }` so we also need the `!important` here to be able to override the default hidden behavior on the sphinx rendered scikit-learn.org. See: https://github.com/scikit-learn/scikit-learn/issues/21755 */display: inline-block !important;position: relative;}#sk-container-id-16 div.sk-text-repr-fallback {display: none;}</style><div id=\"sk-container-id-16\" class=\"sk-top-container\"><div class=\"sk-text-repr-fallback\"><pre>GridSearchCV(cv=10, estimator=LGBMClassifier(objective=&#x27;binary&#x27;), n_jobs=8,\n",
       "             param_grid={&#x27;colsample_bytree&#x27;: [0.8, 1],\n",
       "                         &#x27;min_data_in_leaf&#x27;: [1, 5, 10],\n",
       "                         &#x27;n_estimators&#x27;: [70, 100, 150],\n",
       "                         &#x27;num_leaves&#x27;: [32, 64, 128]},\n",
       "             scoring=&#x27;accuracy&#x27;)</pre><b>In a Jupyter environment, please rerun this cell to show the HTML representation or trust the notebook. <br />On GitHub, the HTML representation is unable to render, please try loading this page with nbviewer.org.</b></div><div class=\"sk-container\" hidden><div class=\"sk-item sk-dashed-wrapped\"><div class=\"sk-label-container\"><div class=\"sk-label sk-toggleable\"><input class=\"sk-toggleable__control sk-hidden--visually\" id=\"sk-estimator-id-44\" type=\"checkbox\" ><label for=\"sk-estimator-id-44\" class=\"sk-toggleable__label sk-toggleable__label-arrow\">GridSearchCV</label><div class=\"sk-toggleable__content\"><pre>GridSearchCV(cv=10, estimator=LGBMClassifier(objective=&#x27;binary&#x27;), n_jobs=8,\n",
       "             param_grid={&#x27;colsample_bytree&#x27;: [0.8, 1],\n",
       "                         &#x27;min_data_in_leaf&#x27;: [1, 5, 10],\n",
       "                         &#x27;n_estimators&#x27;: [70, 100, 150],\n",
       "                         &#x27;num_leaves&#x27;: [32, 64, 128]},\n",
       "             scoring=&#x27;accuracy&#x27;)</pre></div></div></div><div class=\"sk-parallel\"><div class=\"sk-parallel-item\"><div class=\"sk-item\"><div class=\"sk-label-container\"><div class=\"sk-label sk-toggleable\"><input class=\"sk-toggleable__control sk-hidden--visually\" id=\"sk-estimator-id-45\" type=\"checkbox\" ><label for=\"sk-estimator-id-45\" class=\"sk-toggleable__label sk-toggleable__label-arrow\">estimator: LGBMClassifier</label><div class=\"sk-toggleable__content\"><pre>LGBMClassifier(objective=&#x27;binary&#x27;)</pre></div></div></div><div class=\"sk-serial\"><div class=\"sk-item\"><div class=\"sk-estimator sk-toggleable\"><input class=\"sk-toggleable__control sk-hidden--visually\" id=\"sk-estimator-id-46\" type=\"checkbox\" ><label for=\"sk-estimator-id-46\" class=\"sk-toggleable__label sk-toggleable__label-arrow\">LGBMClassifier</label><div class=\"sk-toggleable__content\"><pre>LGBMClassifier(objective=&#x27;binary&#x27;)</pre></div></div></div></div></div></div></div></div></div></div>"
      ],
      "text/plain": [
       "GridSearchCV(cv=10, estimator=LGBMClassifier(objective='binary'), n_jobs=8,\n",
       "             param_grid={'colsample_bytree': [0.8, 1],\n",
       "                         'min_data_in_leaf': [1, 5, 10],\n",
       "                         'n_estimators': [70, 100, 150],\n",
       "                         'num_leaves': [32, 64, 128]},\n",
       "             scoring='accuracy')"
      ]
     },
     "execution_count": 135,
     "metadata": {},
     "output_type": "execute_result"
    }
   ],
   "source": [
    "GS_lgbm=GridSearchCV(lgbm_model, parameters, cv=10, n_jobs=n_thread, scoring='accuracy')\n",
    "GS_lgbm.fit(x_train, y_train)"
   ]
  },
  {
   "cell_type": "code",
   "execution_count": 136,
   "id": "1acc6aae",
   "metadata": {},
   "outputs": [
    {
     "name": "stdout",
     "output_type": "stream",
     "text": [
      "final params {'colsample_bytree': 0.8, 'min_data_in_leaf': 10, 'n_estimators': 100, 'num_leaves': 32}\n",
      "best score 0.9883995037220844\n"
     ]
    }
   ],
   "source": [
    "print('final params', GS_lgbm.best_params_)\n",
    "print('best score', GS_lgbm.best_score_)"
   ]
  },
  {
   "cell_type": "code",
   "execution_count": 137,
   "id": "0d369fe6",
   "metadata": {},
   "outputs": [
    {
     "name": "stdout",
     "output_type": "stream",
     "text": [
      "              precision    recall  f1-score   support\n",
      "\n",
      "           0       0.99      1.00      0.99       311\n",
      "           1       0.99      0.96      0.97        78\n",
      "\n",
      "    accuracy                           0.99       389\n",
      "   macro avg       0.99      0.98      0.98       389\n",
      "weighted avg       0.99      0.99      0.99       389\n",
      "\n",
      "\u001b[32mAccuracy of GS LGBM is: 98.97%\n"
     ]
    },
    {
     "data": {
      "text/plain": [
       "<Figure size 500x500 with 0 Axes>"
      ]
     },
     "metadata": {},
     "output_type": "display_data"
    },
    {
     "data": {
      "image/png": "[encoded data removed]",
      "text/plain": [
       "<Figure size 640x480 with 1 Axes>"
      ]
     },
     "metadata": {
      "image/png": {
       "height": 432,
       "width": 493
      }
     },
     "output_type": "display_data"
    }
   ],
   "source": [
    "GS_lgbm_pred = GS_lgbm.predict(x_test)\n",
    "GS_lgbm_acc = accuracy_score(y_test, GS_lgbm_pred)\n",
    "print(classification_report(y_test, GS_lgbm_pred))\n",
    "print(Fore.GREEN+f\"Accuracy of GS LGBM is: {100*GS_lgbm_acc:.2f}%\")\n",
    "cm = confusion_matrix(y_test, GS_lgbm_pred)\n",
    "plt.figure(figsize=(5,5))\n",
    "plot_confusion_matrix(cm, cmap=plt.cm.Blues, hide_ticks=True)\n",
    "plt.xticks(range(2),['K-Scatch X', 'K-Scatch O'])\n",
    "plt.yticks(range(2),['K-Scatch X', 'K-Scatch O'])\n",
    "plt.show()"
   ]
  },
  {
   "cell_type": "markdown",
   "id": "02446685",
   "metadata": {},
   "source": [
    "## 요약\n",
    "1. 반드시 best_params 이 좋은 값인가\n",
    "    - 오차가 어느정도 존재했을 시, 조금 더 Conservative한 overfitting이 덜된 모델을 선택하는 것이 유리할 수 있음\n",
    "    - 특히, **Neural Network**에서는 그 경향성이 심함 (local minimum에 빠질 가능성이 높아지기 때문. 특히 **hidden layer**가 많을 때)\n",
    "\n",
    "2. Logistic & Dicision Tree\n",
    "    - 해석력이 좋다\n",
    "    - Logistic: model complexity가 떨어져서 복잡한 데이터 패턴을 설명하지 못함\n",
    "    - Dicision Tree: 복잡한 데이터 패턴을 설명할 수는 있으나, 변동성이 커서 데이터가 조금만 변하거나 변수가 하나만 들어가도 결과가 달라짐\n",
    "    - 이러한 측면에서 Test Accuracy가 둘 다 떨어짐\n",
    "3. XGBM\n",
    "    - 위와 같은 치명적인 단점은 없이 준수한 성능을 보임\n",
    "4. Neural Network\n",
    "    - Layer를 쌓으면서 굉장히 복잡한 모델을 만들 수 있고, 데이터가 충분하고 hidden layer를 감당할만하다면(local minimum에 빠지지 않음), 잠재력이 높고 performance를 높게 발휘할 수 있는 Framework\n",
    "5. Decision Tree를 발전시킨 두가지 모형 (RandomForest, Boostiing)\n",
    "    - **RandomForest**: Bagging, Drop-out을 활용해서 랜덤성을 더하고, Tree간의 Corr을 제거함으로써 예측력을 높이고 변동성을 줄여서 의사결정 나무를 발전시켜 좋은 성능을 이뤄냄\n",
    "    - **Boosting**: 단순히 랜덤성을 더하는 것이 아닌 잘 못 분류하는 Sample을 더 높은 확률로 뽑히게 해서 잘 못맞추는 것을 맞추는 트리를 종합함. 다른 방법들이 못맞추는 Sample까지 맞춤으로써 성능이 더 좋게 이뤄짐 (XGBoost, LightGBM)"
   ]
  }
 ],
 "metadata": {
  "kernelspec": {
   "display_name": "Python 3 (ipykernel)",
   "language": "python",
   "name": "python3"
  },
  "language_info": {
   "codemirror_mode": {
    "name": "ipython",
    "version": 3
   },
   "file_extension": ".py",
   "mimetype": "text/x-python",
   "name": "python",
   "nbconvert_exporter": "python",
   "pygments_lexer": "ipython3",
   "version": "3.9.15"
  }
 },
 "nbformat": 4,
 "nbformat_minor": 5
}
